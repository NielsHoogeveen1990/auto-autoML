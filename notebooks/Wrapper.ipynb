{
 "cells": [
  {
   "cell_type": "code",
   "execution_count": 1,
   "id": "733a85d6-d0a3-45b4-8eff-d73701fd56d6",
   "metadata": {
    "tags": []
   },
   "outputs": [],
   "source": [
    "import pandas as pd\n",
    "import numpy as np\n",
    "import seaborn as sns\n",
    "\n",
    "%matplotlib inline\n",
    "\n",
    "pd.set_option('display.width', None)\n",
    "pd.set_option('display.max_columns', None) \n",
    "\n",
    "%load_ext autoreload\n",
    "%autoreload 2\n",
    "import logging\n",
    "logging.basicConfig(level=logging.INFO)\n",
    "\n",
    "import warnings\n",
    "warnings.filterwarnings('ignore')"
   ]
  },
  {
   "cell_type": "code",
   "execution_count": 2,
   "id": "97088929-b93f-4a14-b1bf-210fa4fa9425",
   "metadata": {},
   "outputs": [],
   "source": [
    "from sklearn.model_selection import train_test_split\n",
    "from sklearn.pipeline import make_pipeline\n",
    "from sklearn.preprocessing import LabelEncoder"
   ]
  },
  {
   "cell_type": "code",
   "execution_count": 3,
   "id": "b2877f0b-c969-4ada-8f33-e74529429b70",
   "metadata": {},
   "outputs": [],
   "source": [
    "from sklearn.base import BaseEstimator, TransformerMixin"
   ]
  },
  {
   "cell_type": "code",
   "execution_count": 4,
   "id": "f72c946d-9c38-460c-92b5-5ae3a5668379",
   "metadata": {},
   "outputs": [],
   "source": [
    "df = pd.read_csv('../data/Iris.csv')"
   ]
  },
  {
   "cell_type": "markdown",
   "id": "5db87d43-e9a5-4fea-bef0-4e239ad38b57",
   "metadata": {},
   "source": [
    "-----"
   ]
  },
  {
   "cell_type": "code",
   "execution_count": 5,
   "id": "30754cf8-9612-4e84-b5f0-5cb4fb8853b1",
   "metadata": {},
   "outputs": [],
   "source": [
    "from mlbox.preprocessing import Reader, Drift_thresholder\n",
    "from mlbox.optimisation import Optimiser\n",
    "from mlbox.prediction import Predictor"
   ]
  },
  {
   "cell_type": "code",
   "execution_count": 6,
   "id": "ff4f7d25-0367-4dc6-bf25-a6abec1bfd39",
   "metadata": {},
   "outputs": [],
   "source": [
    "def remove_ids(df):\n",
    "    df = df.copy()\n",
    "    cols_drop = [col for col in df.select_dtypes(['int16', 'int32', 'int64', 'float16', 'float32', 'float64']).columns if df[col].diff().dropna().eq(1).all()]\n",
    "    return df.drop(columns = cols_drop)"
   ]
  },
  {
   "cell_type": "code",
   "execution_count": 7,
   "id": "fab8a064-c7a4-4b59-b0dc-a5e9bd69f0c8",
   "metadata": {},
   "outputs": [],
   "source": [
    "def train_test_split_wrapper(data_path, target_name, train, test, y_test):\n",
    "    path = '/'.join(data_path.split('/')[:-1])\n",
    "    train.to_csv(f'{path}/train.csv')\n",
    "    test.to_csv(f'{path}/test.csv')\n",
    "\n",
    "    paths = [f'{path}/train.csv',f'{path}/test.csv']\n",
    "\n",
    "    rd = Reader(sep = \",\")\n",
    "    df = rd.train_test_split(paths, target_name)\n",
    "    \n",
    "    if (y_test.dtype == 'object'):\n",
    "        df['target_test'] = pd.Series(y_test)\n",
    "        df['target_test'] = LabelEncoder().fit_transform(df['target_test'])\n",
    "        return df\n",
    "\n",
    "    elif (y_test.dtype=='int' or y_test.dtype=='float'):\n",
    "        df['target_test'] = pd.Series(y_test)\n",
    "        return df"
   ]
  },
  {
   "cell_type": "code",
   "execution_count": 8,
   "id": "c8517c42-8945-4789-b437-a6f1a17f8f54",
   "metadata": {},
   "outputs": [],
   "source": [
    "path = '/'.join('data/Iris.csv'.split('/')[:-1])"
   ]
  },
  {
   "cell_type": "code",
   "execution_count": 9,
   "id": "3b6b54aa-9376-42a9-a6f6-61c9924307ba",
   "metadata": {},
   "outputs": [
    {
     "data": {
      "text/plain": [
       "'data'"
      ]
     },
     "execution_count": 9,
     "metadata": {},
     "output_type": "execute_result"
    }
   ],
   "source": [
    "path"
   ]
  },
  {
   "cell_type": "code",
   "execution_count": 13,
   "id": "dd954e14-7187-4c51-ad95-555da5ce99e4",
   "metadata": {
    "tags": []
   },
   "outputs": [],
   "source": [
    "def split_data(datapath, target_name, train_test_ratio=0.7, stratified=True):\n",
    "    df = pd.read_csv(datapath).pipe(remove_ids)\n",
    "\n",
    "    if stratified :\n",
    "        X = df.drop(columns=target_name)\n",
    "        y = df[target_name]\n",
    "\n",
    "        X_train, X_test, y_train, y_test = train_test_split(X, y, stratify=y, train_size=train_test_ratio)\n",
    "        train = pd.concat([X_train, y_train], axis=1)\n",
    "        \n",
    "        return train, X_test, y_test\n",
    "\n",
    "    elif not stratified:\n",
    "\n",
    "        train, test = np.split(df, [int(train_test_ratio * len(df))])\n",
    "        y_test = test[target_name]\n",
    "        X_test = test.drop(columns=[target_name])\n",
    "        \n",
    "        return train, X_test, y_test"
   ]
  },
  {
   "cell_type": "code",
   "execution_count": 14,
   "id": "898ab9c8-0c6c-4d1d-8d83-6649b9357155",
   "metadata": {},
   "outputs": [],
   "source": [
    "def get_train_test_data(data_path, target_name, train_test_ratio=0.7, stratified=True):\n",
    "    df_train, df_test, y_test = split_data(data_path, target_name, train_test_ratio, stratified)\n",
    "    return train_test_split_wrapper(data_path, target_name, df_train, df_test, y_test)"
   ]
  },
  {
   "cell_type": "code",
   "execution_count": 15,
   "id": "d18c3408-3be6-4b06-91bb-b06ab6622b6e",
   "metadata": {},
   "outputs": [
    {
     "name": "stdout",
     "output_type": "stream",
     "text": [
      "\n",
      "reading csv : train.csv ...\n",
      "cleaning data ...\n",
      "CPU time: 19.21494197845459 seconds\n",
      "\n",
      "reading csv : test.csv ...\n",
      "cleaning data ...\n",
      "CPU time: 13.921379089355469 seconds\n",
      "\n",
      "> Number of common features : 4\n",
      "\n",
      "gathering and crunching for train and test datasets ...\n",
      "reindexing for train and test datasets ...\n",
      "dropping training duplicates ...\n",
      "dropping constant variables on training set ...\n",
      "\n",
      "> Number of categorical features: 0\n",
      "> Number of numerical features: 4\n",
      "> Number of training samples : 104\n",
      "> Number of test samples : 45\n",
      "\n",
      "> You have no missing values on train set...\n",
      "\n",
      "> Task : classification\n",
      "Iris-setosa        35\n",
      "Iris-versicolor    35\n",
      "Iris-virginica     34\n",
      "Name: Species, dtype: int64\n",
      "\n",
      "encoding target ...\n"
     ]
    }
   ],
   "source": [
    "df = get_train_test_data('../data/Iris.csv', 'Species', 0.70, stratified=True)"
   ]
  },
  {
   "cell_type": "markdown",
   "id": "a4cfd794-3351-4bcb-91e0-bae09c57b300",
   "metadata": {},
   "source": [
    "-----"
   ]
  },
  {
   "cell_type": "code",
   "execution_count": 16,
   "id": "ccecb336-d58d-4f8e-b175-8aa034b03a54",
   "metadata": {},
   "outputs": [
    {
     "data": {
      "text/plain": [
       "{'train':      PetalLengthCm  PetalWidthCm  SepalLengthCm  SepalWidthCm\n",
       " 0              5.4           2.3            6.2           3.4\n",
       " 1              1.5           0.4            5.1           3.7\n",
       " 2              4.4           1.4            6.6           3.0\n",
       " 3              3.5           1.0            5.7           2.6\n",
       " 4              1.4           0.2            5.1           3.5\n",
       " ..             ...           ...            ...           ...\n",
       " 100            4.0           1.3            5.5           2.3\n",
       " 101            6.7           2.0            7.7           2.8\n",
       " 102            4.7           1.4            7.0           3.2\n",
       " 103            1.6           0.2            5.1           3.8\n",
       " 104            4.0           1.0            6.0           2.2\n",
       " \n",
       " [104 rows x 4 columns],\n",
       " 'test':     PetalLengthCm  PetalWidthCm  SepalLengthCm  SepalWidthCm\n",
       " 0             4.7           1.4            6.1           2.9\n",
       " 1             5.7           2.3            6.9           3.2\n",
       " 2             4.2           1.2            5.7           3.0\n",
       " 3             4.5           1.6            6.0           3.4\n",
       " 4             1.4           0.2            4.6           3.2\n",
       " 5             5.6           1.4            6.1           2.6\n",
       " 6             4.3           1.3            6.4           2.9\n",
       " 7             6.7           2.2            7.7           3.8\n",
       " 8             4.8           1.8            5.9           3.2\n",
       " 9             1.2           0.2            5.0           3.2\n",
       " 10            6.1           2.5            7.2           3.6\n",
       " 11            4.7           1.6            6.3           3.3\n",
       " 12            1.4           0.2            5.0           3.3\n",
       " 13            4.4           1.2            5.5           2.6\n",
       " 14            1.5           0.2            5.3           3.7\n",
       " 15            4.9           1.8            6.1           3.0\n",
       " 16            1.5           0.2            4.6           3.1\n",
       " 17            5.0           2.0            5.7           2.5\n",
       " 18            1.6           0.4            5.0           3.4\n",
       " 19            1.6           0.6            5.0           3.5\n",
       " 20            4.5           1.5            6.4           3.2\n",
       " 21            4.9           1.5            6.3           2.5\n",
       " 22            1.5           0.1            4.9           3.1\n",
       " 23            4.8           1.8            6.2           2.8\n",
       " 24            3.3           1.0            4.9           2.4\n",
       " 25            1.6           0.2            4.8           3.4\n",
       " 26            1.5           0.1            5.2           4.1\n",
       " 27            5.8           1.6            7.2           3.0\n",
       " 28            6.1           2.3            7.7           3.0\n",
       " 29            1.5           0.1            4.9           3.1\n",
       " 30            3.5           1.0            5.0           2.0\n",
       " 31            6.3           1.8            7.3           2.9\n",
       " 32            4.6           1.4            6.1           3.0\n",
       " 33            5.6           2.2            6.4           2.8\n",
       " 34            1.5           0.2            5.1           3.4\n",
       " 35            4.3           1.3            6.2           2.9\n",
       " 36            1.3           0.3            5.0           3.5\n",
       " 37            4.5           1.7            4.9           2.5\n",
       " 38            5.6           2.4            6.3           3.4\n",
       " 39            1.3           0.2            4.7           3.2\n",
       " 40            4.2           1.3            5.7           2.9\n",
       " 41            5.7           2.1            6.7           3.3\n",
       " 42            5.4           2.1            6.9           3.1\n",
       " 43            4.1           1.3            5.7           2.8\n",
       " 44            1.6           0.2            4.7           3.2,\n",
       " 'target': 0      2\n",
       " 1      0\n",
       " 2      1\n",
       " 3      1\n",
       " 4      0\n",
       "       ..\n",
       " 100    1\n",
       " 101    2\n",
       " 102    1\n",
       " 103    0\n",
       " 104    1\n",
       " Name: Species, Length: 104, dtype: int64,\n",
       " 'target_test': array([1, 2, 1, 1, 0, 2, 1, 2, 1, 0, 2, 1, 0, 1, 0, 2, 0, 2, 0, 0, 1, 1,\n",
       "        0, 2, 1, 0, 0, 2, 2, 0, 1, 2, 1, 2, 0, 1, 0, 2, 2, 0, 1, 2, 2, 1,\n",
       "        0])}"
      ]
     },
     "execution_count": 16,
     "metadata": {},
     "output_type": "execute_result"
    }
   ],
   "source": [
    "df"
   ]
  },
  {
   "cell_type": "code",
   "execution_count": 17,
   "id": "b2c3809e-9ea8-4484-b725-925e5d3e11ca",
   "metadata": {},
   "outputs": [],
   "source": [
    "class NumericalDrifter(BaseEstimator, TransformerMixin):\n",
    "\n",
    "    def __init__(self, threshold=0.6):\n",
    "        self.threshold = threshold\n",
    "        self.dft = Drift_thresholder(threshold=self.threshold)\n",
    "\n",
    "    def fit(self, df):\n",
    "        return self\n",
    "\n",
    "    def transform(self, df):\n",
    "        return self.dft.fit_transform(df)"
   ]
  },
  {
   "cell_type": "code",
   "execution_count": 18,
   "id": "26ef2575-79c5-4ac8-b37b-531251795de7",
   "metadata": {},
   "outputs": [],
   "source": [
    "from sklearn.base import BaseEstimator, TransformerMixin"
   ]
  },
  {
   "cell_type": "code",
   "execution_count": 19,
   "id": "74e0811a-60ae-42f2-8886-6aa3ff34086a",
   "metadata": {},
   "outputs": [],
   "source": [
    "class CategoricalDrifter(BaseEstimator, TransformerMixin):\n",
    "    \n",
    "    def fit(self, df):\n",
    "        df_temp = self.generate_temp_dataframe(df['train'], df['test'])\n",
    "        self.drifted_cat_cols_ = self.chi_square_test(df_temp)  \n",
    "        return self\n",
    "        \n",
    "        \n",
    "    def transform(self, df):\n",
    "        df['train'].drop(columns=self.drifted_cat_cols_)\n",
    "        df['test'].drop(columns=self.drifted_cat_cols_)\n",
    "\n",
    "        return df\n",
    "        \n",
    "    \n",
    "    @staticmethod\n",
    "    def get_categorical_columns(X):\n",
    "        return list(X.select_dtypes(include=['category', 'object']).columns)\n",
    "    \n",
    "    \n",
    "    @staticmethod\n",
    "    def generate_temp_dataframe(train, test):\n",
    "        train, test = train.copy(), test.copy()\n",
    "\n",
    "        train = train.assign(type_df =  'train')\n",
    "        test = test.assign(type_df = 'test')\n",
    "\n",
    "        return pd.concat([train, test])\n",
    "    \n",
    "    \n",
    "    \n",
    "    def chi_square_test(self, df):\n",
    "        cat_cols = [col for col in self.get_categorical_columns(df)]\n",
    "        cat_cols.remove('type_df')\n",
    "        drift_cols = []\n",
    "\n",
    "        for col in cat_cols:\n",
    "            c, p, dof, expected = chi2_contingency(pd.crosstab(df[col], df['type_df']))\n",
    "\n",
    "            if p < 0.05:\n",
    "                drift_cols.append(col)\n",
    "\n",
    "        return drift_cols"
   ]
  },
  {
   "cell_type": "code",
   "execution_count": 20,
   "id": "5157b37b-be97-49b0-a4ae-5e6d9bd35da3",
   "metadata": {},
   "outputs": [],
   "source": [
    "class HighCardinalityRemover(TransformerMixin, BaseEstimator):\n",
    "    def __init__(self, max_cardinality=0.9):\n",
    "        self.max_cardinality = max_cardinality\n",
    "\n",
    "    def fit(self, df):\n",
    "        X = df['train']\n",
    "\n",
    "        columns = self.get_categorical_columns(X)\n",
    "\n",
    "        self.columns_to_drop_ = X[columns].nunique()[lambda x: (x / len(df)) < self.max_cardinality].index\n",
    "        return self\n",
    "\n",
    "    def transform(self, df):\n",
    "        df = df.copy()\n",
    "        df['train'].drop(columns=self.columns_to_drop_)\n",
    "        df['test'].drop(columns=self.columns_to_drop_)\n",
    "\n",
    "        return df\n",
    "\n",
    "    @staticmethod\n",
    "    def get_categorical_columns(X):\n",
    "        return list(X.select_dtypes(include=['category', 'object']).columns)"
   ]
  },
  {
   "cell_type": "code",
   "execution_count": 21,
   "id": "2c99d226-783e-4326-a25b-dc63485528bd",
   "metadata": {},
   "outputs": [],
   "source": [
    "# class Preprocess(TransformerMixin, BaseEstimator):\n",
    "    \n",
    "#     def __init__(self, numerical_drift_threshold=0.6, max_cardinality=0.9):\n",
    "#         self.numerical_drift_threshold = numerical_drift_threshold\n",
    "#         self.max_cardinality = max_cardinality\n",
    "    \n",
    "#     def fit(self, df):\n",
    "#         self.pipeline = make_pipeline(\n",
    "#             NumericalDrifter(threshold=self.numerical_drift_threshold),\n",
    "#             CategoricalDrifter(),\n",
    "#             HighCardinalityRemover(max_cardinality=self.max_cardinality)\n",
    "#         )\n",
    "        \n",
    "#         self.pipeline.fit(df['train'])\n",
    "        \n",
    "#         return self\n",
    "    \n",
    "    \n",
    "#     def transform(self, df):\n",
    "#         df = df.copy()\n",
    "#         return self.pipeline.transform(df)"
   ]
  },
  {
   "cell_type": "code",
   "execution_count": 22,
   "id": "1901cb5d-7e88-4f5f-a09f-9f52d4c6d3e0",
   "metadata": {},
   "outputs": [],
   "source": [
    "class Preprocess:\n",
    "    \n",
    "    def __init__(self, numerical_drift_threshold=0.6, max_cardinality=0.9):\n",
    "        self.numerical_drift_threshold = numerical_drift_threshold\n",
    "        self.max_cardinality = max_cardinality\n",
    "    \n",
    "    def fit_transform(self, df):\n",
    "        y_test = df['target_test']\n",
    "        df = df.copy()\n",
    "        df = NumericalDrifter(self.numerical_drift_threshold).fit_transform(df)\n",
    "        df = CategoricalDrifter().fit_transform(df)\n",
    "        df = HighCardinalityRemover(self.max_cardinality).fit_transform(df)\n",
    "        df['target_test']=y_test\n",
    "        \n",
    "        return df "
   ]
  },
  {
   "cell_type": "code",
   "execution_count": 20,
   "id": "6ce3d8de-bdc2-4c24-9d25-110d874e1d81",
   "metadata": {},
   "outputs": [],
   "source": [
    "preprocess = Preprocess(0.2, 0.9)"
   ]
  },
  {
   "cell_type": "code",
   "execution_count": 21,
   "id": "cca5bea2-fb98-4600-a8a6-d5bb6eee0229",
   "metadata": {
    "tags": []
   },
   "outputs": [
    {
     "name": "stdout",
     "output_type": "stream",
     "text": [
      "\n",
      "computing drifts ...\n",
      "CPU time: 9.517056703567505 seconds\n",
      "\n",
      "> Top 10 drifts\n",
      "\n",
      "('SepalLengthCm', 0.14504378826629472)\n",
      "('SepalWidthCm', 0.10598310470433248)\n",
      "('PetalLengthCm', 0.04673331783306223)\n",
      "('PetalWidthCm', 0.010908315895528098)\n",
      "\n",
      "> Deleted variables : []\n",
      "> Drift coefficients dumped into directory : save\n"
     ]
    },
    {
     "data": {
      "text/plain": [
       "{'train':      PetalLengthCm  PetalWidthCm  SepalLengthCm  SepalWidthCm\n",
       " 0              4.4           1.4            6.6           3.0\n",
       " 1              5.9           2.1            7.1           3.0\n",
       " 2              5.0           1.9            6.3           2.5\n",
       " 3              5.4           2.3            6.2           3.4\n",
       " 4              4.9           1.8            6.1           3.0\n",
       " ..             ...           ...            ...           ...\n",
       " 100            1.4           0.2            5.0           3.6\n",
       " 101            4.2           1.5            5.9           3.0\n",
       " 102            4.3           1.3            6.2           2.9\n",
       " 103            5.9           2.3            6.8           3.2\n",
       " 104            6.3           1.8            7.3           2.9\n",
       " \n",
       " [102 rows x 4 columns],\n",
       " 'test':     PetalLengthCm  PetalWidthCm  SepalLengthCm  SepalWidthCm\n",
       " 0             6.9           2.3            7.7           2.6\n",
       " 1             5.7           2.5            6.7           3.3\n",
       " 2             5.1           2.3            6.9           3.1\n",
       " 3             4.4           1.4            6.7           3.1\n",
       " 4             4.5           1.5            6.4           3.2\n",
       " 5             1.7           0.3            5.7           3.8\n",
       " 6             5.8           1.6            7.2           3.0\n",
       " 7             4.2           1.3            5.7           2.9\n",
       " 8             4.7           1.2            6.1           2.8\n",
       " 9             1.5           0.4            5.7           4.4\n",
       " 10            1.9           0.2            4.8           3.4\n",
       " 11            1.5           0.4            5.4           3.4\n",
       " 12            4.2           1.3            5.6           2.7\n",
       " 13            1.1           0.1            4.3           3.0\n",
       " 14            6.1           2.5            7.2           3.6\n",
       " 15            1.5           0.1            5.2           4.1\n",
       " 16            5.5           1.8            6.4           3.1\n",
       " 17            3.7           1.0            5.5           2.4\n",
       " 18            6.4           2.0            7.9           3.8\n",
       " 19            4.7           1.6            6.3           3.3\n",
       " 20            1.4           0.2            5.5           4.2\n",
       " 21            5.3           1.9            6.4           2.7\n",
       " 22            5.0           1.5            6.0           2.2\n",
       " 23            3.6           1.3            5.6           2.9\n",
       " 24            4.8           1.4            6.8           2.8\n",
       " 25            1.3           0.2            4.4           3.2\n",
       " 26            1.5           0.2            5.1           3.4\n",
       " 27            5.5           1.8            6.5           3.0\n",
       " 28            3.3           1.0            5.0           2.3\n",
       " 29            4.7           1.5            6.7           3.1\n",
       " 30            1.7           0.2            5.4           3.4\n",
       " 31            5.6           2.1            6.4           2.8\n",
       " 32            1.4           0.2            4.9           3.0\n",
       " 33            6.1           2.3            7.7           3.0\n",
       " 34            5.3           2.3            6.4           3.2\n",
       " 35            4.0           1.3            6.1           2.8\n",
       " 36            1.4           0.2            4.6           3.2\n",
       " 37            4.1           1.3            5.7           2.8\n",
       " 38            1.3           0.2            4.7           3.2\n",
       " 39            1.4           0.3            4.6           3.4\n",
       " 40            5.7           2.3            6.9           3.2\n",
       " 41            5.7           2.1            6.7           3.3\n",
       " 42            1.4           0.2            4.4           2.9\n",
       " 43            4.6           1.3            6.6           2.9\n",
       " 44            3.3           1.0            4.9           2.4,\n",
       " 'target': 0      1\n",
       " 1      2\n",
       " 2      2\n",
       " 3      2\n",
       " 4      2\n",
       "       ..\n",
       " 100    0\n",
       " 101    1\n",
       " 102    1\n",
       " 103    2\n",
       " 104    2\n",
       " Name: Species, Length: 102, dtype: int64,\n",
       " 'target_test': array([2, 2, 2, 1, 1, 0, 2, 1, 1, 0, 0, 0, 1, 0, 2, 0, 2, 1, 2, 1, 0, 2,\n",
       "        2, 1, 1, 0, 0, 2, 1, 1, 0, 2, 0, 2, 2, 1, 0, 1, 0, 0, 2, 2, 0, 1,\n",
       "        1])}"
      ]
     },
     "execution_count": 21,
     "metadata": {},
     "output_type": "execute_result"
    }
   ],
   "source": [
    "preprocess.fit_transform(df)"
   ]
  },
  {
   "cell_type": "markdown",
   "id": "0e0211cf-4aed-4f15-ba54-73f3b236a0d2",
   "metadata": {},
   "source": [
    "-----"
   ]
  },
  {
   "cell_type": "code",
   "execution_count": 22,
   "id": "2fce8d20-648b-4eef-a04e-ed4d89d71303",
   "metadata": {},
   "outputs": [],
   "source": [
    "opt = Optimiser(scoring = \"accuracy\", n_folds = 5)"
   ]
  },
  {
   "cell_type": "code",
   "execution_count": 23,
   "id": "700e6a1d-6f54-458f-981b-fa7f35afdeb0",
   "metadata": {},
   "outputs": [],
   "source": [
    "# space = {\n",
    "#         'ne__numerical_strategy':{\"search\":\"choice\",\n",
    "#                                  \"space\":[0, \"mean\"]},\n",
    "#         'ce__strategy':{\"search\":\"choice\",\n",
    "#                         \"space\":[\"label_encoding\", \"random_projection\", \"entity_embedding\"]}, \n",
    "#         'fs__threshold':{\"search\":\"uniform\",\n",
    "#                         \"space\":[0.001, 0.2]}, \n",
    "#         'est__strategy':{\"search\":\"choice\", \n",
    "#                          \"space\":[\"RandomForest\", \"ExtraTrees\", \"LightGBM\"]},\n",
    "#         'est__max_depth':{\"search\":\"choice\", \n",
    "#                           \"space\":[8, 9, 10, 11, 12, 13]}\n",
    "#         }"
   ]
  },
  {
   "cell_type": "code",
   "execution_count": 24,
   "id": "3f532815-5455-470d-a38d-29287f9fd59d",
   "metadata": {},
   "outputs": [],
   "source": [
    "space = {\n",
    "    \n",
    "        'est__strategy':{\"search\":\"choice\",\n",
    "                                  \"space\":[\"LightGBM\"]},    \n",
    "        'est__n_estimators':{\"search\":\"choice\",\n",
    "                                  \"space\":[150]},    \n",
    "        'est__colsample_bytree':{\"search\":\"uniform\",\n",
    "                                  \"space\":[0.8,0.95]},\n",
    "        'est__subsample':{\"search\":\"uniform\",\n",
    "                                  \"space\":[0.8,0.95]},\n",
    "        'est__max_depth':{\"search\":\"choice\",\n",
    "                                  \"space\":[5,6,7,8,9]},\n",
    "        'est__learning_rate':{\"search\":\"choice\",\n",
    "                                  \"space\":[0.07]} \n",
    "    \n",
    "        }"
   ]
  },
  {
   "cell_type": "markdown",
   "id": "c2173d69-08ce-423c-8ca9-8cd7b1fbf0c8",
   "metadata": {},
   "source": [
    "Optimises hyper-parameters of the whole Pipeline.\n",
    "\n",
    "- NA encoder (missing values encoder)\n",
    "- CA encoder (categorical features encoder)\n",
    "- Feature selector (OPTIONAL)\n",
    "- Stacking estimator - feature engineer (OPTIONAL)\n",
    "- Estimator (classifier or regressor)"
   ]
  },
  {
   "cell_type": "code",
   "execution_count": 25,
   "id": "2364fc82-2712-4315-8c0f-ca0111afef52",
   "metadata": {
    "collapsed": true,
    "jupyter": {
     "outputs_hidden": true
    },
    "tags": []
   },
   "outputs": [
    {
     "name": "stdout",
     "output_type": "stream",
     "text": [
      "  0%|          | 0/15 [00:00<?, ?trial/s, best loss=?]"
     ]
    },
    {
     "name": "stderr",
     "output_type": "stream",
     "text": [
      "INFO:hyperopt.tpe:build_posterior_wrapper took 0.002103 seconds\n",
      "INFO:hyperopt.tpe:TPE using 0 trials\n"
     ]
    },
    {
     "name": "stdout",
     "output_type": "stream",
     "text": [
      "##################################################### testing hyper-parameters... #####################################################\n",
      ">>> NA ENCODER :{'numerical_strategy': 'mean', 'categorical_strategy': '<NULL>'}\n",
      ">>> CA ENCODER :{'strategy': 'label_encoding'}        \n",
      ">>> ESTIMATOR :{'strategy': 'LightGBM', 'colsample_bytree': 0.807143220929002, 'learning_rate': 0.07, 'max_depth': 5, 'n_estimators': 150, 'subsample': 0.8470967812207807, 'boosting_type': 'gbdt', 'class_weight': None, 'importance_type': 'split', 'min_child_samples': 20, 'min_child_weight': 0.001, 'min_split_gain': 0.0, 'n_jobs': -1, 'num_leaves': 31, 'objective': None, 'random_state': None, 'reg_alpha': 0.0, 'reg_lambda': 0.0, 'silent': True, 'subsample_for_bin': 200000, 'subsample_freq': 0, 'nthread': -1, 'seed': 0}\n",
      "[LightGBM] [Warning] num_threads is set with nthread=-1, will be overridden by n_jobs=-1. Current value: num_threads=-1\n",
      "[LightGBM] [Warning] num_threads is set with nthread=-1, will be overridden by n_jobs=-1. Current value: num_threads=-1\n",
      "[LightGBM] [Warning] num_threads is set with nthread=-1, will be overridden by n_jobs=-1. Current value: num_threads=-1\n",
      "[LightGBM] [Warning] num_threads is set with nthread=-1, will be overridden by n_jobs=-1. Current value: num_threads=-1\n",
      "[LightGBM] [Warning] num_threads is set with nthread=-1, will be overridden by n_jobs=-1. Current value: num_threads=-1\n",
      "MEAN SCORE : accuracy = 0.9209523809523809            \n",
      "VARIANCE : 0.03956681538636378 (fold 1 = 1.0, fold 2 = 0.9047619047619048, fold 3 = 0.9, fold 4 = 0.9, fold 5 = 0.9)\n",
      "CPU time: 0.3480820655822754 seconds                  \n",
      "  7%|▋         | 1/15 [00:00<00:04,  2.80trial/s, best loss: -0.9209523809523809]"
     ]
    },
    {
     "name": "stderr",
     "output_type": "stream",
     "text": [
      "INFO:hyperopt.tpe:build_posterior_wrapper took 0.002823 seconds\n",
      "INFO:hyperopt.tpe:TPE using 1/1 trials with best loss -0.920952\n"
     ]
    },
    {
     "name": "stdout",
     "output_type": "stream",
     "text": [
      "##################################################### testing hyper-parameters... #####################################################\n",
      ">>> NA ENCODER :{'numerical_strategy': 'mean', 'categorical_strategy': '<NULL>'} \n",
      ">>> CA ENCODER :{'strategy': 'label_encoding'}                                   \n",
      ">>> ESTIMATOR :{'strategy': 'LightGBM', 'colsample_bytree': 0.8282673199077302, 'learning_rate': 0.07, 'max_depth': 7, 'n_estimators': 150, 'subsample': 0.8000140577900032, 'boosting_type': 'gbdt', 'class_weight': None, 'importance_type': 'split', 'min_child_samples': 20, 'min_child_weight': 0.001, 'min_split_gain': 0.0, 'n_jobs': -1, 'num_leaves': 31, 'objective': None, 'random_state': None, 'reg_alpha': 0.0, 'reg_lambda': 0.0, 'silent': True, 'subsample_for_bin': 200000, 'subsample_freq': 0, 'nthread': -1, 'seed': 0}\n",
      "[LightGBM] [Warning] num_threads is set with nthread=-1, will be overridden by n_jobs=-1. Current value: num_threads=-1\n",
      "[LightGBM] [Warning] num_threads is set with nthread=-1, will be overridden by n_jobs=-1. Current value: num_threads=-1\n",
      "[LightGBM] [Warning] num_threads is set with nthread=-1, will be overridden by n_jobs=-1. Current value: num_threads=-1\n",
      "[LightGBM] [Warning] num_threads is set with nthread=-1, will be overridden by n_jobs=-1. Current value: num_threads=-1\n",
      "[LightGBM] [Warning] num_threads is set with nthread=-1, will be overridden by n_jobs=-1. Current value: num_threads=-1\n",
      "MEAN SCORE : accuracy = 0.9209523809523809                                       \n",
      "VARIANCE : 0.03956681538636378 (fold 1 = 1.0, fold 2 = 0.9047619047619048, fold 3 = 0.9, fold 4 = 0.9, fold 5 = 0.9)\n",
      "CPU time: 0.3138918876647949 seconds                                             \n",
      " 13%|█▎        | 2/15 [00:00<00:04,  2.97trial/s, best loss: -0.9209523809523809]"
     ]
    },
    {
     "name": "stderr",
     "output_type": "stream",
     "text": [
      "INFO:hyperopt.tpe:build_posterior_wrapper took 0.002222 seconds\n",
      "INFO:hyperopt.tpe:TPE using 2/2 trials with best loss -0.920952\n"
     ]
    },
    {
     "name": "stdout",
     "output_type": "stream",
     "text": [
      "##################################################### testing hyper-parameters... #####################################################\n",
      ">>> NA ENCODER :{'numerical_strategy': 'mean', 'categorical_strategy': '<NULL>'} \n",
      ">>> CA ENCODER :{'strategy': 'label_encoding'}                                   \n",
      ">>> ESTIMATOR :{'strategy': 'LightGBM', 'colsample_bytree': 0.8930586110371672, 'learning_rate': 0.07, 'max_depth': 7, 'n_estimators': 150, 'subsample': 0.8136284825598001, 'boosting_type': 'gbdt', 'class_weight': None, 'importance_type': 'split', 'min_child_samples': 20, 'min_child_weight': 0.001, 'min_split_gain': 0.0, 'n_jobs': -1, 'num_leaves': 31, 'objective': None, 'random_state': None, 'reg_alpha': 0.0, 'reg_lambda': 0.0, 'silent': True, 'subsample_for_bin': 200000, 'subsample_freq': 0, 'nthread': -1, 'seed': 0}\n",
      "[LightGBM] [Warning] num_threads is set with nthread=-1, will be overridden by n_jobs=-1. Current value: num_threads=-1\n",
      "[LightGBM] [Warning] num_threads is set with nthread=-1, will be overridden by n_jobs=-1. Current value: num_threads=-1\n",
      "[LightGBM] [Warning] num_threads is set with nthread=-1, will be overridden by n_jobs=-1. Current value: num_threads=-1\n",
      "[LightGBM] [Warning] num_threads is set with nthread=-1, will be overridden by n_jobs=-1. Current value: num_threads=-1\n",
      "[LightGBM] [Warning] num_threads is set with nthread=-1, will be overridden by n_jobs=-1. Current value: num_threads=-1\n",
      "MEAN SCORE : accuracy = 0.9209523809523809                                       \n",
      "VARIANCE : 0.03956681538636378 (fold 1 = 1.0, fold 2 = 0.9047619047619048, fold 3 = 0.9, fold 4 = 0.9, fold 5 = 0.9)\n",
      "CPU time: 0.31566691398620605 seconds                                            \n",
      " 20%|██        | 3/15 [00:01<00:03,  3.02trial/s, best loss: -0.9209523809523809]"
     ]
    },
    {
     "name": "stderr",
     "output_type": "stream",
     "text": [
      "INFO:hyperopt.tpe:build_posterior_wrapper took 0.002077 seconds\n",
      "INFO:hyperopt.tpe:TPE using 3/3 trials with best loss -0.920952\n"
     ]
    },
    {
     "name": "stdout",
     "output_type": "stream",
     "text": [
      "##################################################### testing hyper-parameters... #####################################################\n",
      ">>> NA ENCODER :{'numerical_strategy': 'mean', 'categorical_strategy': '<NULL>'} \n",
      ">>> CA ENCODER :{'strategy': 'label_encoding'}                                   \n",
      ">>> ESTIMATOR :{'strategy': 'LightGBM', 'colsample_bytree': 0.9029282454618177, 'learning_rate': 0.07, 'max_depth': 9, 'n_estimators': 150, 'subsample': 0.8266088923959652, 'boosting_type': 'gbdt', 'class_weight': None, 'importance_type': 'split', 'min_child_samples': 20, 'min_child_weight': 0.001, 'min_split_gain': 0.0, 'n_jobs': -1, 'num_leaves': 31, 'objective': None, 'random_state': None, 'reg_alpha': 0.0, 'reg_lambda': 0.0, 'silent': True, 'subsample_for_bin': 200000, 'subsample_freq': 0, 'nthread': -1, 'seed': 0}\n",
      "[LightGBM] [Warning] num_threads is set with nthread=-1, will be overridden by n_jobs=-1. Current value: num_threads=-1\n",
      "[LightGBM] [Warning] num_threads is set with nthread=-1, will be overridden by n_jobs=-1. Current value: num_threads=-1\n",
      "[LightGBM] [Warning] num_threads is set with nthread=-1, will be overridden by n_jobs=-1. Current value: num_threads=-1\n",
      "[LightGBM] [Warning] num_threads is set with nthread=-1, will be overridden by n_jobs=-1. Current value: num_threads=-1\n",
      "[LightGBM] [Warning] num_threads is set with nthread=-1, will be overridden by n_jobs=-1. Current value: num_threads=-1\n",
      "MEAN SCORE : accuracy = 0.9209523809523809                                       \n",
      "VARIANCE : 0.03956681538636378 (fold 1 = 1.0, fold 2 = 0.9047619047619048, fold 3 = 0.9, fold 4 = 0.9, fold 5 = 0.9)\n",
      "CPU time: 0.3074040412902832 seconds                                             \n",
      " 27%|██▋       | 4/15 [00:01<00:03,  3.08trial/s, best loss: -0.9209523809523809]"
     ]
    },
    {
     "name": "stderr",
     "output_type": "stream",
     "text": [
      "INFO:hyperopt.tpe:build_posterior_wrapper took 0.002086 seconds\n",
      "INFO:hyperopt.tpe:TPE using 4/4 trials with best loss -0.920952\n"
     ]
    },
    {
     "name": "stdout",
     "output_type": "stream",
     "text": [
      "##################################################### testing hyper-parameters... #####################################################\n",
      ">>> NA ENCODER :{'numerical_strategy': 'mean', 'categorical_strategy': '<NULL>'} \n",
      ">>> CA ENCODER :{'strategy': 'label_encoding'}                                   \n",
      ">>> ESTIMATOR :{'strategy': 'LightGBM', 'colsample_bytree': 0.913981461079943, 'learning_rate': 0.07, 'max_depth': 7, 'n_estimators': 150, 'subsample': 0.9149503078804927, 'boosting_type': 'gbdt', 'class_weight': None, 'importance_type': 'split', 'min_child_samples': 20, 'min_child_weight': 0.001, 'min_split_gain': 0.0, 'n_jobs': -1, 'num_leaves': 31, 'objective': None, 'random_state': None, 'reg_alpha': 0.0, 'reg_lambda': 0.0, 'silent': True, 'subsample_for_bin': 200000, 'subsample_freq': 0, 'nthread': -1, 'seed': 0}\n",
      "[LightGBM] [Warning] num_threads is set with nthread=-1, will be overridden by n_jobs=-1. Current value: num_threads=-1\n",
      "[LightGBM] [Warning] num_threads is set with nthread=-1, will be overridden by n_jobs=-1. Current value: num_threads=-1\n",
      "[LightGBM] [Warning] num_threads is set with nthread=-1, will be overridden by n_jobs=-1. Current value: num_threads=-1\n",
      "[LightGBM] [Warning] num_threads is set with nthread=-1, will be overridden by n_jobs=-1. Current value: num_threads=-1\n",
      "[LightGBM] [Warning] num_threads is set with nthread=-1, will be overridden by n_jobs=-1. Current value: num_threads=-1\n",
      "MEAN SCORE : accuracy = 0.9209523809523809                                       \n",
      "VARIANCE : 0.03956681538636378 (fold 1 = 1.0, fold 2 = 0.9047619047619048, fold 3 = 0.9, fold 4 = 0.9, fold 5 = 0.9)\n",
      "CPU time: 0.34372711181640625 seconds                                            \n",
      " 33%|███▎      | 5/15 [00:01<00:03,  2.98trial/s, best loss: -0.9209523809523809]"
     ]
    },
    {
     "name": "stderr",
     "output_type": "stream",
     "text": [
      "INFO:hyperopt.tpe:build_posterior_wrapper took 0.002121 seconds\n",
      "INFO:hyperopt.tpe:TPE using 5/5 trials with best loss -0.920952\n"
     ]
    },
    {
     "name": "stdout",
     "output_type": "stream",
     "text": [
      "##################################################### testing hyper-parameters... #####################################################\n",
      ">>> NA ENCODER :{'numerical_strategy': 'mean', 'categorical_strategy': '<NULL>'} \n",
      ">>> CA ENCODER :{'strategy': 'label_encoding'}                                   \n",
      ">>> ESTIMATOR :{'strategy': 'LightGBM', 'colsample_bytree': 0.8640829449016743, 'learning_rate': 0.07, 'max_depth': 6, 'n_estimators': 150, 'subsample': 0.8020262807796709, 'boosting_type': 'gbdt', 'class_weight': None, 'importance_type': 'split', 'min_child_samples': 20, 'min_child_weight': 0.001, 'min_split_gain': 0.0, 'n_jobs': -1, 'num_leaves': 31, 'objective': None, 'random_state': None, 'reg_alpha': 0.0, 'reg_lambda': 0.0, 'silent': True, 'subsample_for_bin': 200000, 'subsample_freq': 0, 'nthread': -1, 'seed': 0}\n",
      "[LightGBM] [Warning] num_threads is set with nthread=-1, will be overridden by n_jobs=-1. Current value: num_threads=-1\n",
      "[LightGBM] [Warning] num_threads is set with nthread=-1, will be overridden by n_jobs=-1. Current value: num_threads=-1\n",
      "[LightGBM] [Warning] num_threads is set with nthread=-1, will be overridden by n_jobs=-1. Current value: num_threads=-1\n",
      "[LightGBM] [Warning] num_threads is set with nthread=-1, will be overridden by n_jobs=-1. Current value: num_threads=-1\n",
      "[LightGBM] [Warning] num_threads is set with nthread=-1, will be overridden by n_jobs=-1. Current value: num_threads=-1\n",
      "MEAN SCORE : accuracy = 0.9209523809523809                                       \n",
      "VARIANCE : 0.03956681538636378 (fold 1 = 1.0, fold 2 = 0.9047619047619048, fold 3 = 0.9, fold 4 = 0.9, fold 5 = 0.9)\n",
      "CPU time: 0.3458678722381592 seconds                                             \n",
      " 40%|████      | 6/15 [00:02<00:03,  2.93trial/s, best loss: -0.9209523809523809]"
     ]
    },
    {
     "name": "stderr",
     "output_type": "stream",
     "text": [
      "INFO:hyperopt.tpe:build_posterior_wrapper took 0.002175 seconds\n",
      "INFO:hyperopt.tpe:TPE using 6/6 trials with best loss -0.920952\n"
     ]
    },
    {
     "name": "stdout",
     "output_type": "stream",
     "text": [
      "##################################################### testing hyper-parameters... #####################################################\n",
      ">>> NA ENCODER :{'numerical_strategy': 'mean', 'categorical_strategy': '<NULL>'} \n",
      ">>> CA ENCODER :{'strategy': 'label_encoding'}                                   \n",
      ">>> ESTIMATOR :{'strategy': 'LightGBM', 'colsample_bytree': 0.8917432611316152, 'learning_rate': 0.07, 'max_depth': 6, 'n_estimators': 150, 'subsample': 0.8395723350302119, 'boosting_type': 'gbdt', 'class_weight': None, 'importance_type': 'split', 'min_child_samples': 20, 'min_child_weight': 0.001, 'min_split_gain': 0.0, 'n_jobs': -1, 'num_leaves': 31, 'objective': None, 'random_state': None, 'reg_alpha': 0.0, 'reg_lambda': 0.0, 'silent': True, 'subsample_for_bin': 200000, 'subsample_freq': 0, 'nthread': -1, 'seed': 0}\n",
      "[LightGBM] [Warning] num_threads is set with nthread=-1, will be overridden by n_jobs=-1. Current value: num_threads=-1\n",
      "[LightGBM] [Warning] num_threads is set with nthread=-1, will be overridden by n_jobs=-1. Current value: num_threads=-1\n",
      "[LightGBM] [Warning] num_threads is set with nthread=-1, will be overridden by n_jobs=-1. Current value: num_threads=-1\n",
      "[LightGBM] [Warning] num_threads is set with nthread=-1, will be overridden by n_jobs=-1. Current value: num_threads=-1\n",
      "[LightGBM] [Warning] num_threads is set with nthread=-1, will be overridden by n_jobs=-1. Current value: num_threads=-1\n",
      "MEAN SCORE : accuracy = 0.9209523809523809                                       \n",
      "VARIANCE : 0.03956681538636378 (fold 1 = 1.0, fold 2 = 0.9047619047619048, fold 3 = 0.9, fold 4 = 0.9, fold 5 = 0.9)\n",
      "CPU time: 0.3264000415802002 seconds                                             \n",
      " 47%|████▋     | 7/15 [00:02<00:02,  2.95trial/s, best loss: -0.9209523809523809]"
     ]
    },
    {
     "name": "stderr",
     "output_type": "stream",
     "text": [
      "INFO:hyperopt.tpe:build_posterior_wrapper took 0.002227 seconds\n",
      "INFO:hyperopt.tpe:TPE using 7/7 trials with best loss -0.920952\n"
     ]
    },
    {
     "name": "stdout",
     "output_type": "stream",
     "text": [
      "##################################################### testing hyper-parameters... #####################################################\n",
      ">>> NA ENCODER :{'numerical_strategy': 'mean', 'categorical_strategy': '<NULL>'} \n",
      ">>> CA ENCODER :{'strategy': 'label_encoding'}                                   \n",
      ">>> ESTIMATOR :{'strategy': 'LightGBM', 'colsample_bytree': 0.8417382501368501, 'learning_rate': 0.07, 'max_depth': 5, 'n_estimators': 150, 'subsample': 0.8856374481301099, 'boosting_type': 'gbdt', 'class_weight': None, 'importance_type': 'split', 'min_child_samples': 20, 'min_child_weight': 0.001, 'min_split_gain': 0.0, 'n_jobs': -1, 'num_leaves': 31, 'objective': None, 'random_state': None, 'reg_alpha': 0.0, 'reg_lambda': 0.0, 'silent': True, 'subsample_for_bin': 200000, 'subsample_freq': 0, 'nthread': -1, 'seed': 0}\n",
      "[LightGBM] [Warning] num_threads is set with nthread=-1, will be overridden by n_jobs=-1. Current value: num_threads=-1\n",
      "[LightGBM] [Warning] num_threads is set with nthread=-1, will be overridden by n_jobs=-1. Current value: num_threads=-1\n",
      "[LightGBM] [Warning] num_threads is set with nthread=-1, will be overridden by n_jobs=-1. Current value: num_threads=-1\n",
      "[LightGBM] [Warning] num_threads is set with nthread=-1, will be overridden by n_jobs=-1. Current value: num_threads=-1\n",
      "[LightGBM] [Warning] num_threads is set with nthread=-1, will be overridden by n_jobs=-1. Current value: num_threads=-1\n",
      "MEAN SCORE : accuracy = 0.9209523809523809                                       \n",
      "VARIANCE : 0.03956681538636378 (fold 1 = 1.0, fold 2 = 0.9047619047619048, fold 3 = 0.9, fold 4 = 0.9, fold 5 = 0.9)\n",
      "CPU time: 0.26746511459350586 seconds                                            \n",
      " 53%|█████▎    | 8/15 [00:02<00:02,  3.13trial/s, best loss: -0.9209523809523809]"
     ]
    },
    {
     "name": "stderr",
     "output_type": "stream",
     "text": [
      "INFO:hyperopt.tpe:build_posterior_wrapper took 0.002041 seconds\n",
      "INFO:hyperopt.tpe:TPE using 8/8 trials with best loss -0.920952\n"
     ]
    },
    {
     "name": "stdout",
     "output_type": "stream",
     "text": [
      "##################################################### testing hyper-parameters... #####################################################\n",
      ">>> NA ENCODER :{'numerical_strategy': 'mean', 'categorical_strategy': '<NULL>'} \n",
      ">>> CA ENCODER :{'strategy': 'label_encoding'}                                   \n",
      ">>> ESTIMATOR :{'strategy': 'LightGBM', 'colsample_bytree': 0.8333992240371554, 'learning_rate': 0.07, 'max_depth': 8, 'n_estimators': 150, 'subsample': 0.8659847623606401, 'boosting_type': 'gbdt', 'class_weight': None, 'importance_type': 'split', 'min_child_samples': 20, 'min_child_weight': 0.001, 'min_split_gain': 0.0, 'n_jobs': -1, 'num_leaves': 31, 'objective': None, 'random_state': None, 'reg_alpha': 0.0, 'reg_lambda': 0.0, 'silent': True, 'subsample_for_bin': 200000, 'subsample_freq': 0, 'nthread': -1, 'seed': 0}\n",
      "[LightGBM] [Warning] num_threads is set with nthread=-1, will be overridden by n_jobs=-1. Current value: num_threads=-1\n",
      "[LightGBM] [Warning] num_threads is set with nthread=-1, will be overridden by n_jobs=-1. Current value: num_threads=-1\n",
      "[LightGBM] [Warning] num_threads is set with nthread=-1, will be overridden by n_jobs=-1. Current value: num_threads=-1\n",
      "[LightGBM] [Warning] num_threads is set with nthread=-1, will be overridden by n_jobs=-1. Current value: num_threads=-1\n",
      "[LightGBM] [Warning] num_threads is set with nthread=-1, will be overridden by n_jobs=-1. Current value: num_threads=-1\n",
      "MEAN SCORE : accuracy = 0.9209523809523809                                       \n",
      "VARIANCE : 0.03956681538636378 (fold 1 = 1.0, fold 2 = 0.9047619047619048, fold 3 = 0.9, fold 4 = 0.9, fold 5 = 0.9)\n",
      "CPU time: 0.21268677711486816 seconds                                            \n",
      " 60%|██████    | 9/15 [00:02<00:01,  3.47trial/s, best loss: -0.9209523809523809]"
     ]
    },
    {
     "name": "stderr",
     "output_type": "stream",
     "text": [
      "INFO:hyperopt.tpe:build_posterior_wrapper took 0.002158 seconds\n",
      "INFO:hyperopt.tpe:TPE using 9/9 trials with best loss -0.920952\n"
     ]
    },
    {
     "name": "stdout",
     "output_type": "stream",
     "text": [
      "##################################################### testing hyper-parameters... #####################################################\n",
      ">>> NA ENCODER :{'numerical_strategy': 'mean', 'categorical_strategy': '<NULL>'} \n",
      ">>> CA ENCODER :{'strategy': 'label_encoding'}                                   \n",
      ">>> ESTIMATOR :{'strategy': 'LightGBM', 'colsample_bytree': 0.8003566198859351, 'learning_rate': 0.07, 'max_depth': 8, 'n_estimators': 150, 'subsample': 0.8476385387424978, 'boosting_type': 'gbdt', 'class_weight': None, 'importance_type': 'split', 'min_child_samples': 20, 'min_child_weight': 0.001, 'min_split_gain': 0.0, 'n_jobs': -1, 'num_leaves': 31, 'objective': None, 'random_state': None, 'reg_alpha': 0.0, 'reg_lambda': 0.0, 'silent': True, 'subsample_for_bin': 200000, 'subsample_freq': 0, 'nthread': -1, 'seed': 0}\n",
      "[LightGBM] [Warning] num_threads is set with nthread=-1, will be overridden by n_jobs=-1. Current value: num_threads=-1\n",
      "[LightGBM] [Warning] num_threads is set with nthread=-1, will be overridden by n_jobs=-1. Current value: num_threads=-1\n",
      "[LightGBM] [Warning] num_threads is set with nthread=-1, will be overridden by n_jobs=-1. Current value: num_threads=-1\n",
      "[LightGBM] [Warning] num_threads is set with nthread=-1, will be overridden by n_jobs=-1. Current value: num_threads=-1\n",
      "[LightGBM] [Warning] num_threads is set with nthread=-1, will be overridden by n_jobs=-1. Current value: num_threads=-1\n",
      "MEAN SCORE : accuracy = 0.9209523809523809                                       \n",
      "VARIANCE : 0.03956681538636378 (fold 1 = 1.0, fold 2 = 0.9047619047619048, fold 3 = 0.9, fold 4 = 0.9, fold 5 = 0.9)\n",
      "CPU time: 0.21387791633605957 seconds                                            \n",
      " 67%|██████▋   | 10/15 [00:03<00:01,  3.73trial/s, best loss: -0.9209523809523809]"
     ]
    },
    {
     "name": "stderr",
     "output_type": "stream",
     "text": [
      "INFO:hyperopt.tpe:build_posterior_wrapper took 0.002079 seconds\n",
      "INFO:hyperopt.tpe:TPE using 10/10 trials with best loss -0.920952\n"
     ]
    },
    {
     "name": "stdout",
     "output_type": "stream",
     "text": [
      "##################################################### testing hyper-parameters... #####################################################\n",
      ">>> NA ENCODER :{'numerical_strategy': 'mean', 'categorical_strategy': '<NULL>'}  \n",
      ">>> CA ENCODER :{'strategy': 'label_encoding'}                                    \n",
      ">>> ESTIMATOR :{'strategy': 'LightGBM', 'colsample_bytree': 0.9027216618260354, 'learning_rate': 0.07, 'max_depth': 9, 'n_estimators': 150, 'subsample': 0.9157017014384924, 'boosting_type': 'gbdt', 'class_weight': None, 'importance_type': 'split', 'min_child_samples': 20, 'min_child_weight': 0.001, 'min_split_gain': 0.0, 'n_jobs': -1, 'num_leaves': 31, 'objective': None, 'random_state': None, 'reg_alpha': 0.0, 'reg_lambda': 0.0, 'silent': True, 'subsample_for_bin': 200000, 'subsample_freq': 0, 'nthread': -1, 'seed': 0}\n",
      "[LightGBM] [Warning] num_threads is set with nthread=-1, will be overridden by n_jobs=-1. Current value: num_threads=-1\n",
      "[LightGBM] [Warning] num_threads is set with nthread=-1, will be overridden by n_jobs=-1. Current value: num_threads=-1\n",
      "[LightGBM] [Warning] num_threads is set with nthread=-1, will be overridden by n_jobs=-1. Current value: num_threads=-1\n",
      "[LightGBM] [Warning] num_threads is set with nthread=-1, will be overridden by n_jobs=-1. Current value: num_threads=-1\n",
      "[LightGBM] [Warning] num_threads is set with nthread=-1, will be overridden by n_jobs=-1. Current value: num_threads=-1\n",
      "MEAN SCORE : accuracy = 0.9209523809523809                                        \n",
      "VARIANCE : 0.03956681538636378 (fold 1 = 1.0, fold 2 = 0.9047619047619048, fold 3 = 0.9, fold 4 = 0.9, fold 5 = 0.9)\n",
      "CPU time: 0.21085095405578613 seconds                                             \n",
      " 73%|███████▎  | 11/15 [00:03<00:01,  3.95trial/s, best loss: -0.9209523809523809]"
     ]
    },
    {
     "name": "stderr",
     "output_type": "stream",
     "text": [
      "INFO:hyperopt.tpe:build_posterior_wrapper took 0.002019 seconds\n",
      "INFO:hyperopt.tpe:TPE using 11/11 trials with best loss -0.920952\n"
     ]
    },
    {
     "name": "stdout",
     "output_type": "stream",
     "text": [
      "##################################################### testing hyper-parameters... #####################################################\n",
      ">>> NA ENCODER :{'numerical_strategy': 'mean', 'categorical_strategy': '<NULL>'}  \n",
      ">>> CA ENCODER :{'strategy': 'label_encoding'}                                    \n",
      ">>> ESTIMATOR :{'strategy': 'LightGBM', 'colsample_bytree': 0.8165751986522091, 'learning_rate': 0.07, 'max_depth': 5, 'n_estimators': 150, 'subsample': 0.8830536691304094, 'boosting_type': 'gbdt', 'class_weight': None, 'importance_type': 'split', 'min_child_samples': 20, 'min_child_weight': 0.001, 'min_split_gain': 0.0, 'n_jobs': -1, 'num_leaves': 31, 'objective': None, 'random_state': None, 'reg_alpha': 0.0, 'reg_lambda': 0.0, 'silent': True, 'subsample_for_bin': 200000, 'subsample_freq': 0, 'nthread': -1, 'seed': 0}\n",
      "[LightGBM] [Warning] num_threads is set with nthread=-1, will be overridden by n_jobs=-1. Current value: num_threads=-1\n",
      "[LightGBM] [Warning] num_threads is set with nthread=-1, will be overridden by n_jobs=-1. Current value: num_threads=-1\n",
      "[LightGBM] [Warning] num_threads is set with nthread=-1, will be overridden by n_jobs=-1. Current value: num_threads=-1\n",
      "[LightGBM] [Warning] num_threads is set with nthread=-1, will be overridden by n_jobs=-1. Current value: num_threads=-1\n",
      "[LightGBM] [Warning] num_threads is set with nthread=-1, will be overridden by n_jobs=-1. Current value: num_threads=-1\n",
      "MEAN SCORE : accuracy = 0.9209523809523809                                        \n",
      "VARIANCE : 0.03956681538636378 (fold 1 = 1.0, fold 2 = 0.9047619047619048, fold 3 = 0.9, fold 4 = 0.9, fold 5 = 0.9)\n",
      "CPU time: 0.21447491645812988 seconds                                             \n",
      " 80%|████████  | 12/15 [00:03<00:00,  4.10trial/s, best loss: -0.9209523809523809]"
     ]
    },
    {
     "name": "stderr",
     "output_type": "stream",
     "text": [
      "INFO:hyperopt.tpe:build_posterior_wrapper took 0.002101 seconds\n",
      "INFO:hyperopt.tpe:TPE using 12/12 trials with best loss -0.920952\n"
     ]
    },
    {
     "name": "stdout",
     "output_type": "stream",
     "text": [
      "##################################################### testing hyper-parameters... #####################################################\n",
      ">>> NA ENCODER :{'numerical_strategy': 'mean', 'categorical_strategy': '<NULL>'}  \n",
      ">>> CA ENCODER :{'strategy': 'label_encoding'}                                    \n",
      ">>> ESTIMATOR :{'strategy': 'LightGBM', 'colsample_bytree': 0.8228851509080696, 'learning_rate': 0.07, 'max_depth': 6, 'n_estimators': 150, 'subsample': 0.8693921898606048, 'boosting_type': 'gbdt', 'class_weight': None, 'importance_type': 'split', 'min_child_samples': 20, 'min_child_weight': 0.001, 'min_split_gain': 0.0, 'n_jobs': -1, 'num_leaves': 31, 'objective': None, 'random_state': None, 'reg_alpha': 0.0, 'reg_lambda': 0.0, 'silent': True, 'subsample_for_bin': 200000, 'subsample_freq': 0, 'nthread': -1, 'seed': 0}\n",
      "[LightGBM] [Warning] num_threads is set with nthread=-1, will be overridden by n_jobs=-1. Current value: num_threads=-1\n",
      "[LightGBM] [Warning] num_threads is set with nthread=-1, will be overridden by n_jobs=-1. Current value: num_threads=-1\n",
      "[LightGBM] [Warning] num_threads is set with nthread=-1, will be overridden by n_jobs=-1. Current value: num_threads=-1\n",
      "[LightGBM] [Warning] num_threads is set with nthread=-1, will be overridden by n_jobs=-1. Current value: num_threads=-1\n",
      "[LightGBM] [Warning] num_threads is set with nthread=-1, will be overridden by n_jobs=-1. Current value: num_threads=-1\n",
      "MEAN SCORE : accuracy = 0.9209523809523809                                        \n",
      "VARIANCE : 0.03956681538636378 (fold 1 = 1.0, fold 2 = 0.9047619047619048, fold 3 = 0.9, fold 4 = 0.9, fold 5 = 0.9)\n",
      "CPU time: 0.21210002899169922 seconds                                             \n",
      " 87%|████████▋ | 13/15 [00:03<00:00,  4.22trial/s, best loss: -0.9209523809523809]"
     ]
    },
    {
     "name": "stderr",
     "output_type": "stream",
     "text": [
      "INFO:hyperopt.tpe:build_posterior_wrapper took 0.001976 seconds\n",
      "INFO:hyperopt.tpe:TPE using 13/13 trials with best loss -0.920952\n"
     ]
    },
    {
     "name": "stdout",
     "output_type": "stream",
     "text": [
      "##################################################### testing hyper-parameters... #####################################################\n",
      ">>> NA ENCODER :{'numerical_strategy': 'mean', 'categorical_strategy': '<NULL>'}  \n",
      ">>> CA ENCODER :{'strategy': 'label_encoding'}                                    \n",
      ">>> ESTIMATOR :{'strategy': 'LightGBM', 'colsample_bytree': 0.9054679324497487, 'learning_rate': 0.07, 'max_depth': 8, 'n_estimators': 150, 'subsample': 0.89194700457331, 'boosting_type': 'gbdt', 'class_weight': None, 'importance_type': 'split', 'min_child_samples': 20, 'min_child_weight': 0.001, 'min_split_gain': 0.0, 'n_jobs': -1, 'num_leaves': 31, 'objective': None, 'random_state': None, 'reg_alpha': 0.0, 'reg_lambda': 0.0, 'silent': True, 'subsample_for_bin': 200000, 'subsample_freq': 0, 'nthread': -1, 'seed': 0}\n",
      "[LightGBM] [Warning] num_threads is set with nthread=-1, will be overridden by n_jobs=-1. Current value: num_threads=-1\n",
      "[LightGBM] [Warning] num_threads is set with nthread=-1, will be overridden by n_jobs=-1. Current value: num_threads=-1\n",
      "[LightGBM] [Warning] num_threads is set with nthread=-1, will be overridden by n_jobs=-1. Current value: num_threads=-1\n",
      "[LightGBM] [Warning] num_threads is set with nthread=-1, will be overridden by n_jobs=-1. Current value: num_threads=-1\n",
      "[LightGBM] [Warning] num_threads is set with nthread=-1, will be overridden by n_jobs=-1. Current value: num_threads=-1\n",
      "MEAN SCORE : accuracy = 0.9209523809523809                                        \n",
      "VARIANCE : 0.03956681538636378 (fold 1 = 1.0, fold 2 = 0.9047619047619048, fold 3 = 0.9, fold 4 = 0.9, fold 5 = 0.9)\n",
      "CPU time: 0.20931792259216309 seconds                                             \n",
      " 93%|█████████▎| 14/15 [00:03<00:00,  4.33trial/s, best loss: -0.9209523809523809]"
     ]
    },
    {
     "name": "stderr",
     "output_type": "stream",
     "text": [
      "INFO:hyperopt.tpe:build_posterior_wrapper took 0.001968 seconds\n",
      "INFO:hyperopt.tpe:TPE using 14/14 trials with best loss -0.920952\n"
     ]
    },
    {
     "name": "stdout",
     "output_type": "stream",
     "text": [
      "##################################################### testing hyper-parameters... #####################################################\n",
      ">>> NA ENCODER :{'numerical_strategy': 'mean', 'categorical_strategy': '<NULL>'}  \n",
      ">>> CA ENCODER :{'strategy': 'label_encoding'}                                    \n",
      ">>> ESTIMATOR :{'strategy': 'LightGBM', 'colsample_bytree': 0.8933704070559303, 'learning_rate': 0.07, 'max_depth': 7, 'n_estimators': 150, 'subsample': 0.8835077757114251, 'boosting_type': 'gbdt', 'class_weight': None, 'importance_type': 'split', 'min_child_samples': 20, 'min_child_weight': 0.001, 'min_split_gain': 0.0, 'n_jobs': -1, 'num_leaves': 31, 'objective': None, 'random_state': None, 'reg_alpha': 0.0, 'reg_lambda': 0.0, 'silent': True, 'subsample_for_bin': 200000, 'subsample_freq': 0, 'nthread': -1, 'seed': 0}\n",
      "[LightGBM] [Warning] num_threads is set with nthread=-1, will be overridden by n_jobs=-1. Current value: num_threads=-1\n",
      "[LightGBM] [Warning] num_threads is set with nthread=-1, will be overridden by n_jobs=-1. Current value: num_threads=-1\n",
      "[LightGBM] [Warning] num_threads is set with nthread=-1, will be overridden by n_jobs=-1. Current value: num_threads=-1\n",
      "[LightGBM] [Warning] num_threads is set with nthread=-1, will be overridden by n_jobs=-1. Current value: num_threads=-1\n",
      "[LightGBM] [Warning] num_threads is set with nthread=-1, will be overridden by n_jobs=-1. Current value: num_threads=-1\n",
      "MEAN SCORE : accuracy = 0.9209523809523809                                        \n",
      "VARIANCE : 0.03956681538636378 (fold 1 = 1.0, fold 2 = 0.9047619047619048, fold 3 = 0.9, fold 4 = 0.9, fold 5 = 0.9)\n",
      "CPU time: 0.24781012535095215 seconds                                             \n",
      "100%|██████████| 15/15 [00:04<00:00,  3.56trial/s, best loss: -0.9209523809523809]\n",
      "\n",
      "\n",
      "~~~~~~~~~~~~~~~~~~~~~~~~~~~~~~~~~~~~~~~~~~~~~~~~~~~~~~~~~~~~~~~~~~~~~~~~~~~~~~~~~~~~~~~~~~~~~~~~~~~~~~~~~~~~~~~~~~~~~~~~~~~~~~~~~~~~~~~~~\n",
      "~~~~~~~~~~~~~~~~~~~~~~~~~~~~~~~~~~~~~~~~~~~~~~~~~~~~~~~~~ BEST HYPER-PARAMETERS ~~~~~~~~~~~~~~~~~~~~~~~~~~~~~~~~~~~~~~~~~~~~~~~~~~~~~~~~~\n",
      "~~~~~~~~~~~~~~~~~~~~~~~~~~~~~~~~~~~~~~~~~~~~~~~~~~~~~~~~~~~~~~~~~~~~~~~~~~~~~~~~~~~~~~~~~~~~~~~~~~~~~~~~~~~~~~~~~~~~~~~~~~~~~~~~~~~~~~~~~\n",
      "\n",
      "{'est__colsample_bytree': 0.807143220929002, 'est__learning_rate': 0.07, 'est__max_depth': 5, 'est__n_estimators': 150, 'est__strategy': 'LightGBM', 'est__subsample': 0.8470967812207807}\n"
     ]
    }
   ],
   "source": [
    "params = opt.optimise(space, df, 15)"
   ]
  },
  {
   "cell_type": "code",
   "execution_count": 28,
   "id": "a5f1b174-a32c-401e-8b87-08f2429ed36c",
   "metadata": {},
   "outputs": [
    {
     "data": {
      "text/plain": [
       "{'est__colsample_bytree': 0.807143220929002,\n",
       " 'est__learning_rate': 0.07,\n",
       " 'est__max_depth': 5,\n",
       " 'est__n_estimators': 150,\n",
       " 'est__strategy': 'LightGBM',\n",
       " 'est__subsample': 0.8470967812207807}"
      ]
     },
     "execution_count": 28,
     "metadata": {},
     "output_type": "execute_result"
    }
   ],
   "source": [
    "params"
   ]
  },
  {
   "cell_type": "code",
   "execution_count": 29,
   "id": "3eae2073-ea18-4b21-9f0e-4486ab40ef4a",
   "metadata": {},
   "outputs": [
    {
     "name": "stdout",
     "output_type": "stream",
     "text": [
      "\n",
      "##################################################### testing hyper-parameters... #####################################################\n",
      "\n",
      ">>> NA ENCODER :{'numerical_strategy': 'mean', 'categorical_strategy': '<NULL>'}\n",
      "\n",
      ">>> CA ENCODER :{'strategy': 'label_encoding'}\n",
      "\n",
      ">>> ESTIMATOR :{'strategy': 'LightGBM', 'colsample_bytree': 0.807143220929002, 'learning_rate': 0.07, 'max_depth': 5, 'n_estimators': 150, 'subsample': 0.8470967812207807, 'boosting_type': 'gbdt', 'class_weight': None, 'importance_type': 'split', 'min_child_samples': 20, 'min_child_weight': 0.001, 'min_split_gain': 0.0, 'n_jobs': -1, 'num_leaves': 31, 'objective': None, 'random_state': None, 'reg_alpha': 0.0, 'reg_lambda': 0.0, 'silent': True, 'subsample_for_bin': 200000, 'subsample_freq': 0, 'nthread': -1, 'seed': 0}\n",
      "\n",
      "[LightGBM] [Warning] num_threads is set with nthread=-1, will be overridden by n_jobs=-1. Current value: num_threads=-1\n",
      "[LightGBM] [Warning] num_threads is set with nthread=-1, will be overridden by n_jobs=-1. Current value: num_threads=-1\n",
      "[LightGBM] [Warning] num_threads is set with nthread=-1, will be overridden by n_jobs=-1. Current value: num_threads=-1\n",
      "[LightGBM] [Warning] num_threads is set with nthread=-1, will be overridden by n_jobs=-1. Current value: num_threads=-1\n",
      "[LightGBM] [Warning] num_threads is set with nthread=-1, will be overridden by n_jobs=-1. Current value: num_threads=-1\n",
      "\n",
      "MEAN SCORE : accuracy = 0.9209523809523809\n",
      "VARIANCE : 0.03956681538636378 (fold 1 = 1.0, fold 2 = 0.9047619047619048, fold 3 = 0.9, fold 4 = 0.9, fold 5 = 0.9)\n",
      "CPU time: 0.20447206497192383 seconds\n",
      "\n"
     ]
    },
    {
     "data": {
      "text/plain": [
       "0.9209523809523809"
      ]
     },
     "execution_count": 29,
     "metadata": {},
     "output_type": "execute_result"
    }
   ],
   "source": [
    "opt.evaluate(params, df)"
   ]
  },
  {
   "cell_type": "code",
   "execution_count": 59,
   "id": "d675f13e-9f53-494b-b551-5bdf1d65166b",
   "metadata": {},
   "outputs": [
    {
     "name": "stdout",
     "output_type": "stream",
     "text": [
      "\n",
      "fitting the pipeline ...\n",
      "[LightGBM] [Warning] num_threads is set with nthread=-1, will be overridden by n_jobs=-1. Current value: num_threads=-1\n",
      "CPU time: 0.03928112983703613 seconds\n"
     ]
    },
    {
     "data": {
      "image/png": "[encoded data removed]",
      "text/plain": [
       "<Figure size 1440x288 with 1 Axes>"
      ]
     },
     "metadata": {
      "needs_background": "light"
     },
     "output_type": "display_data"
    },
    {
     "name": "stdout",
     "output_type": "stream",
     "text": [
      "\n",
      "> Feature importances dumped into directory : save\n",
      "\n",
      "predicting ...\n",
      "CPU time: 0.023992061614990234 seconds\n",
      "\n",
      "> Overview on predictions : \n",
      "\n",
      "   Iris-setosa  Iris-versicolor  Iris-virginica Species_predicted\n",
      "0     0.999197         0.000801        0.000002       Iris-setosa\n",
      "1     0.000076         0.006786        0.993138    Iris-virginica\n",
      "2     0.000038         0.003460        0.996502    Iris-virginica\n",
      "3     0.000042         0.968012        0.031946   Iris-versicolor\n",
      "4     0.000018         0.004719        0.995262    Iris-virginica\n",
      "5     0.999326         0.000672        0.000001       Iris-setosa\n",
      "6     0.999773         0.000225        0.000001       Iris-setosa\n",
      "7     0.999773         0.000225        0.000001       Iris-setosa\n",
      "8     0.999730         0.000269        0.000002       Iris-setosa\n",
      "9     0.999888         0.000099        0.000013       Iris-setosa\n",
      "\n",
      "dumping predictions into directory : save ...\n"
     ]
    },
    {
     "data": {
      "text/plain": [
       "<mlbox.prediction.predictor.Predictor at 0x18ab5bc40>"
      ]
     },
     "execution_count": 59,
     "metadata": {},
     "output_type": "execute_result"
    }
   ],
   "source": [
    "prd = Predictor()\n",
    "prd.fit_predict(params, df)"
   ]
  },
  {
   "cell_type": "markdown",
   "id": "3f2b80ff-6efb-45f0-ade9-719e95c9e845",
   "metadata": {},
   "source": [
    "# TPOT"
   ]
  },
  {
   "cell_type": "code",
   "execution_count": 10,
   "id": "967288f3-319b-4c3f-9853-76c8050a5641",
   "metadata": {},
   "outputs": [],
   "source": [
    "from ipywidgets import IntProgress"
   ]
  },
  {
   "cell_type": "code",
   "execution_count": 11,
   "id": "5baed514-a6ee-4787-a60e-867e86b5bb87",
   "metadata": {},
   "outputs": [
    {
     "ename": "NameError",
     "evalue": "name 'Preprocess' is not defined",
     "output_type": "error",
     "traceback": [
      "\u001b[0;31m---------------------------------------------------------------------------\u001b[0m",
      "\u001b[0;31mNameError\u001b[0m                                 Traceback (most recent call last)",
      "\u001b[0;32m<ipython-input-11-f9154942a360>\u001b[0m in \u001b[0;36m<module>\u001b[0;34m\u001b[0m\n\u001b[0;32m----> 1\u001b[0;31m \u001b[0mpreprocess\u001b[0m \u001b[0;34m=\u001b[0m \u001b[0mPreprocess\u001b[0m\u001b[0;34m(\u001b[0m\u001b[0;36m0.2\u001b[0m\u001b[0;34m,\u001b[0m \u001b[0;36m0.9\u001b[0m\u001b[0;34m)\u001b[0m\u001b[0;34m\u001b[0m\u001b[0;34m\u001b[0m\u001b[0m\n\u001b[0m",
      "\u001b[0;31mNameError\u001b[0m: name 'Preprocess' is not defined"
     ]
    }
   ],
   "source": [
    "preprocess = Preprocess(0.2, 0.9)"
   ]
  },
  {
   "cell_type": "code",
   "execution_count": null,
   "id": "b0d88fed-bfa0-4732-be04-a0d172c0efb1",
   "metadata": {},
   "outputs": [],
   "source": [
    "df = preprocess.fit_transform(df)"
   ]
  },
  {
   "cell_type": "code",
   "execution_count": 12,
   "id": "92a15d5b-aaed-47b0-a56b-f4eabc7156e4",
   "metadata": {},
   "outputs": [],
   "source": [
    "from sklearn.model_selection import cross_val_score"
   ]
  },
  {
   "cell_type": "code",
   "execution_count": 51,
   "id": "109468a2-1351-4fb7-a953-8f1d7e0fb68d",
   "metadata": {},
   "outputs": [],
   "source": [
    "from tpot import TPOTClassifier"
   ]
  },
  {
   "cell_type": "code",
   "execution_count": 52,
   "id": "8dc80ec4-4277-4ecb-a3ff-def8da3f303b",
   "metadata": {},
   "outputs": [],
   "source": [
    "tpot = TPOTClassifier(generations=5, population_size=50, verbosity=2, random_state=42)"
   ]
  },
  {
   "cell_type": "code",
   "execution_count": 53,
   "id": "ca7c5040-5a5b-4e0e-a6fd-9270db5338ee",
   "metadata": {
    "tags": []
   },
   "outputs": [
    {
     "data": {
      "application/vnd.jupyter.widget-view+json": {
       "model_id": "9a0352070dea4cf0a4ef1b8dd2e30faf",
       "version_major": 2,
       "version_minor": 0
      },
      "text/plain": [
       "Optimization Progress:   0%|          | 0/300 [00:00<?, ?pipeline/s]"
      ]
     },
     "metadata": {},
     "output_type": "display_data"
    },
    {
     "name": "stdout",
     "output_type": "stream",
     "text": [
      "\n",
      "Generation 1 - Current best internal CV score: 0.9709523809523809\n",
      "\n",
      "Generation 2 - Current best internal CV score: 0.9709523809523809\n",
      "\n",
      "Generation 3 - Current best internal CV score: 0.9709523809523809\n",
      "\n",
      "Generation 4 - Current best internal CV score: 0.9709523809523809\n",
      "\n",
      "Generation 5 - Current best internal CV score: 0.9709523809523809\n",
      "\n",
      "Best pipeline: MLPClassifier(input_matrix, alpha=0.0001, learning_rate_init=0.001)\n"
     ]
    },
    {
     "data": {
      "text/plain": [
       "TPOTClassifier(generations=5, population_size=50, random_state=42, verbosity=2)"
      ]
     },
     "execution_count": 53,
     "metadata": {},
     "output_type": "execute_result"
    }
   ],
   "source": [
    "tpot.fit(df['train'], df['target'])"
   ]
  },
  {
   "cell_type": "code",
   "execution_count": 72,
   "id": "05b885a9-31fe-416e-b3d7-6d51eb029c84",
   "metadata": {},
   "outputs": [
    {
     "data": {
      "text/plain": [
       "Pipeline(steps=[('mlpclassifier', MLPClassifier(random_state=42))])"
      ]
     },
     "execution_count": 72,
     "metadata": {},
     "output_type": "execute_result"
    }
   ],
   "source": [
    "tpot.fitted_pipeline_"
   ]
  },
  {
   "cell_type": "code",
   "execution_count": 71,
   "id": "eb62ba1b-b3e3-49e0-a42d-b2b50d8e3053",
   "metadata": {},
   "outputs": [
    {
     "data": {
      "text/plain": [
       "{'memory': None,\n",
       " 'steps': [('mlpclassifier', MLPClassifier(random_state=42))],\n",
       " 'verbose': False,\n",
       " 'mlpclassifier': MLPClassifier(random_state=42),\n",
       " 'mlpclassifier__activation': 'relu',\n",
       " 'mlpclassifier__alpha': 0.0001,\n",
       " 'mlpclassifier__batch_size': 'auto',\n",
       " 'mlpclassifier__beta_1': 0.9,\n",
       " 'mlpclassifier__beta_2': 0.999,\n",
       " 'mlpclassifier__early_stopping': False,\n",
       " 'mlpclassifier__epsilon': 1e-08,\n",
       " 'mlpclassifier__hidden_layer_sizes': (100,),\n",
       " 'mlpclassifier__learning_rate': 'constant',\n",
       " 'mlpclassifier__learning_rate_init': 0.001,\n",
       " 'mlpclassifier__max_fun': 15000,\n",
       " 'mlpclassifier__max_iter': 200,\n",
       " 'mlpclassifier__momentum': 0.9,\n",
       " 'mlpclassifier__n_iter_no_change': 10,\n",
       " 'mlpclassifier__nesterovs_momentum': True,\n",
       " 'mlpclassifier__power_t': 0.5,\n",
       " 'mlpclassifier__random_state': 42,\n",
       " 'mlpclassifier__shuffle': True,\n",
       " 'mlpclassifier__solver': 'adam',\n",
       " 'mlpclassifier__tol': 0.0001,\n",
       " 'mlpclassifier__validation_fraction': 0.1,\n",
       " 'mlpclassifier__verbose': False,\n",
       " 'mlpclassifier__warm_start': False}"
      ]
     },
     "execution_count": 71,
     "metadata": {},
     "output_type": "execute_result"
    }
   ],
   "source": [
    "tpot.fitted_pipeline_.get_params()"
   ]
  },
  {
   "cell_type": "code",
   "execution_count": 60,
   "id": "2860d971-e3c6-4aa8-a75f-ebd1e4886627",
   "metadata": {},
   "outputs": [],
   "source": [
    "cross_val = cross_val_score(tpot.fitted_pipeline_, df['train'], df['target'], scoring='accuracy', cv=5).mean()"
   ]
  },
  {
   "cell_type": "code",
   "execution_count": 61,
   "id": "25b85fce-3959-4237-bc75-3470b2c15a4a",
   "metadata": {},
   "outputs": [
    {
     "data": {
      "text/plain": [
       "0.9709523809523809"
      ]
     },
     "execution_count": 61,
     "metadata": {},
     "output_type": "execute_result"
    }
   ],
   "source": [
    "cross_val"
   ]
  },
  {
   "cell_type": "code",
   "execution_count": 54,
   "id": "9ade99f2-8560-4caf-86e5-fbe3dbff0ce1",
   "metadata": {},
   "outputs": [
    {
     "data": {
      "text/plain": [
       "array([1, 2, 2, 2, 2, 2, 2, 2, 2, 2, 1, 1, 0, 0, 0, 0, 2, 1, 0, 1, 2, 0,\n",
       "       2, 0, 0, 0, 1, 1, 1, 0, 0, 2, 2, 2, 0, 0, 2, 0, 2, 0, 1, 0, 2, 1,\n",
       "       0, 2, 2, 1, 1, 1, 2, 1, 0, 1, 0, 2, 0, 0, 0, 2, 0, 1, 2, 1, 1, 2,\n",
       "       1, 2, 2, 2, 1, 0, 1, 1, 0, 1, 0, 1, 1, 2, 2, 0, 0, 2, 1, 2, 1, 0,\n",
       "       2, 1, 0, 0, 2, 1, 2, 0, 1, 0, 1, 1, 2, 2])"
      ]
     },
     "execution_count": 54,
     "metadata": {},
     "output_type": "execute_result"
    }
   ],
   "source": [
    "tpot.fitted_pipeline_.predict(df['train'])"
   ]
  },
  {
   "cell_type": "code",
   "execution_count": 46,
   "id": "c6069a89-4159-4431-82f5-5e653c8d511a",
   "metadata": {},
   "outputs": [
    {
     "data": {
      "text/plain": [
       "0.9705882352941176"
      ]
     },
     "execution_count": 46,
     "metadata": {},
     "output_type": "execute_result"
    }
   ],
   "source": [
    "tpot.score(df['train'], df['target'])"
   ]
  },
  {
   "cell_type": "code",
   "execution_count": 47,
   "id": "17f44906-e5ca-4f58-bbbe-39ea94fbd4c8",
   "metadata": {},
   "outputs": [
    {
     "data": {
      "text/plain": [
       "array([2, 2, 2, 1, 1, 0, 2, 1, 1, 0, 0, 0, 1, 0, 2, 0, 2, 1, 2, 1, 0, 2,\n",
       "       2, 1, 1, 0, 0, 2, 1, 1, 0, 2, 0, 2, 2, 1, 0, 1, 0, 0, 2, 2, 0, 1,\n",
       "       1])"
      ]
     },
     "execution_count": 47,
     "metadata": {},
     "output_type": "execute_result"
    }
   ],
   "source": [
    "tpot.predict(df['test'])"
   ]
  },
  {
   "cell_type": "code",
   "execution_count": 48,
   "id": "a2a33ffb-4dec-48ed-9ecf-ae114ada3afa",
   "metadata": {},
   "outputs": [
    {
     "name": "stdout",
     "output_type": "stream",
     "text": [
      "1.0\n"
     ]
    }
   ],
   "source": [
    "print(tpot.score(df['test'], df['target_test']))"
   ]
  },
  {
   "cell_type": "markdown",
   "id": "3e1ef673-845a-4511-9839-9d86415369fa",
   "metadata": {},
   "source": [
    "# Pipeline"
   ]
  },
  {
   "cell_type": "code",
   "execution_count": 94,
   "id": "bf27ec0e-6d2c-4c56-8466-833ca2660916",
   "metadata": {},
   "outputs": [],
   "source": [
    "import operator"
   ]
  },
  {
   "cell_type": "code",
   "execution_count": 105,
   "id": "44cd2a93-2285-4b8a-aa21-ee5b88ac87de",
   "metadata": {},
   "outputs": [],
   "source": [
    "result = {'MLBox': {'cross_val': 0.98, 'parameters': {'a': 4}}, 'Tpot': {'cross_val': 0.99, 'parameters': {'a': 4}}}"
   ]
  },
  {
   "cell_type": "code",
   "execution_count": 106,
   "id": "36dcb2be-0d45-4f10-af39-981606140a03",
   "metadata": {},
   "outputs": [
    {
     "data": {
      "text/plain": [
       "{'MLBox': {'cross_val': 0.98, 'parameters': {'a': 4}},\n",
       " 'Tpot': {'cross_val': 0.99, 'parameters': {'a': 4}}}"
      ]
     },
     "execution_count": 106,
     "metadata": {},
     "output_type": "execute_result"
    }
   ],
   "source": [
    "result"
   ]
  },
  {
   "cell_type": "code",
   "execution_count": 107,
   "id": "1f4f1dd4-2938-4fc2-83cf-5fae00158e0c",
   "metadata": {},
   "outputs": [],
   "source": [
    "highest_score = 0\n",
    "for k,v in result.items():\n",
    "    if v['cross_val'] > highest_score:\n",
    "        highest_score = v['cross_val']\n",
    "        key = k"
   ]
  },
  {
   "cell_type": "code",
   "execution_count": 108,
   "id": "559098f5-1fd0-4f59-94c9-8f9af45e30fe",
   "metadata": {},
   "outputs": [
    {
     "data": {
      "text/plain": [
       "'Tpot'"
      ]
     },
     "execution_count": 108,
     "metadata": {},
     "output_type": "execute_result"
    }
   ],
   "source": [
    "key"
   ]
  },
  {
   "cell_type": "code",
   "execution_count": 110,
   "id": "1e48a6f0-a075-4ee6-a551-b72f875fb85f",
   "metadata": {},
   "outputs": [
    {
     "data": {
      "text/plain": [
       "{'a': 4}"
      ]
     },
     "execution_count": 110,
     "metadata": {},
     "output_type": "execute_result"
    }
   ],
   "source": [
    "result[key]['parameters']"
   ]
  },
  {
   "cell_type": "code",
   "execution_count": null,
   "id": "48a5939c-8270-4e4c-8ef4-04307d70481b",
   "metadata": {},
   "outputs": [],
   "source": []
  }
 ],
 "metadata": {
  "kernelspec": {
   "display_name": "Python 3",
   "language": "python",
   "name": "python3"
  },
  "language_info": {
   "codemirror_mode": {
    "name": "ipython",
    "version": 3
   },
   "file_extension": ".py",
   "mimetype": "text/x-python",
   "name": "python",
   "nbconvert_exporter": "python",
   "pygments_lexer": "ipython3",
   "version": "3.9.4"
  }
 },
 "nbformat": 4,
 "nbformat_minor": 5
}
