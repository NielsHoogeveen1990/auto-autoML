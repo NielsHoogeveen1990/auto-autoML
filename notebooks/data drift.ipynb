{
 "cells": [
  {
   "cell_type": "code",
   "execution_count": 1,
   "id": "61a6236f-5675-467b-81ed-a53b3a3f04ec",
   "metadata": {},
   "outputs": [],
   "source": [
    "import pandas as pd\n",
    "import numpy as np\n",
    "import seaborn as sns\n",
    "\n",
    "%matplotlib inline\n",
    "\n",
    "pd.set_option('display.width', None)\n",
    "pd.set_option('display.max_columns', None) \n",
    "\n",
    "%load_ext autoreload\n",
    "%autoreload 2\n",
    "import logging\n",
    "logging.basicConfig(level=logging.INFO)\n",
    "\n",
    "import warnings\n",
    "warnings.filterwarnings('ignore')"
   ]
  },
  {
   "cell_type": "code",
   "execution_count": 3,
   "id": "9d1f9489-aac1-4503-bb21-4adc59234743",
   "metadata": {},
   "outputs": [],
   "source": [
    "classes = ['DOG','CAT']"
   ]
  },
  {
   "cell_type": "code",
   "execution_count": 4,
   "id": "14ebddc4-19a8-4042-8180-a29dc21fdd1b",
   "metadata": {},
   "outputs": [],
   "source": [
    "df_1 = pd.DataFrame({\n",
    "    'A': np.random.choice(classes, 70, p=[0.8, 0.2]),\n",
    "    'B': np.random.choice(classes, 70, p=[0.8, 0.2])\n",
    "})"
   ]
  },
  {
   "cell_type": "code",
   "execution_count": 5,
   "id": "17609e17-80ca-476b-b55e-40c00738f59d",
   "metadata": {},
   "outputs": [],
   "source": [
    "df_2 = pd.DataFrame({\n",
    "    'A': np.random.choice(classes, 30, p=[0.7, 0.3]),\n",
    "    'B': np.random.choice(classes, 30, p=[0.3, 0.7])\n",
    "})"
   ]
  },
  {
   "cell_type": "code",
   "execution_count": 6,
   "id": "bcd5506d-ebfe-4b0d-9690-543e3ed4a036",
   "metadata": {},
   "outputs": [],
   "source": [
    "df = pd.concat([df_1, df_2])"
   ]
  },
  {
   "cell_type": "code",
   "execution_count": 7,
   "id": "398e4f43-da05-40f6-ab9b-c8b0ccd64201",
   "metadata": {},
   "outputs": [
    {
     "data": {
      "text/html": [
       "<div>\n",
       "<style scoped>\n",
       "    .dataframe tbody tr th:only-of-type {\n",
       "        vertical-align: middle;\n",
       "    }\n",
       "\n",
       "    .dataframe tbody tr th {\n",
       "        vertical-align: top;\n",
       "    }\n",
       "\n",
       "    .dataframe thead th {\n",
       "        text-align: right;\n",
       "    }\n",
       "</style>\n",
       "<table border=\"1\" class=\"dataframe\">\n",
       "  <thead>\n",
       "    <tr style=\"text-align: right;\">\n",
       "      <th></th>\n",
       "      <th>A</th>\n",
       "      <th>B</th>\n",
       "    </tr>\n",
       "  </thead>\n",
       "  <tbody>\n",
       "    <tr>\n",
       "      <th>0</th>\n",
       "      <td>CAT</td>\n",
       "      <td>DOG</td>\n",
       "    </tr>\n",
       "    <tr>\n",
       "      <th>1</th>\n",
       "      <td>DOG</td>\n",
       "      <td>DOG</td>\n",
       "    </tr>\n",
       "    <tr>\n",
       "      <th>2</th>\n",
       "      <td>CAT</td>\n",
       "      <td>DOG</td>\n",
       "    </tr>\n",
       "    <tr>\n",
       "      <th>3</th>\n",
       "      <td>DOG</td>\n",
       "      <td>DOG</td>\n",
       "    </tr>\n",
       "    <tr>\n",
       "      <th>4</th>\n",
       "      <td>CAT</td>\n",
       "      <td>CAT</td>\n",
       "    </tr>\n",
       "    <tr>\n",
       "      <th>...</th>\n",
       "      <td>...</td>\n",
       "      <td>...</td>\n",
       "    </tr>\n",
       "    <tr>\n",
       "      <th>25</th>\n",
       "      <td>DOG</td>\n",
       "      <td>CAT</td>\n",
       "    </tr>\n",
       "    <tr>\n",
       "      <th>26</th>\n",
       "      <td>DOG</td>\n",
       "      <td>CAT</td>\n",
       "    </tr>\n",
       "    <tr>\n",
       "      <th>27</th>\n",
       "      <td>DOG</td>\n",
       "      <td>CAT</td>\n",
       "    </tr>\n",
       "    <tr>\n",
       "      <th>28</th>\n",
       "      <td>CAT</td>\n",
       "      <td>DOG</td>\n",
       "    </tr>\n",
       "    <tr>\n",
       "      <th>29</th>\n",
       "      <td>CAT</td>\n",
       "      <td>CAT</td>\n",
       "    </tr>\n",
       "  </tbody>\n",
       "</table>\n",
       "<p>100 rows × 2 columns</p>\n",
       "</div>"
      ],
      "text/plain": [
       "      A    B\n",
       "0   CAT  DOG\n",
       "1   DOG  DOG\n",
       "2   CAT  DOG\n",
       "3   DOG  DOG\n",
       "4   CAT  CAT\n",
       "..  ...  ...\n",
       "25  DOG  CAT\n",
       "26  DOG  CAT\n",
       "27  DOG  CAT\n",
       "28  CAT  DOG\n",
       "29  CAT  CAT\n",
       "\n",
       "[100 rows x 2 columns]"
      ]
     },
     "execution_count": 7,
     "metadata": {},
     "output_type": "execute_result"
    }
   ],
   "source": [
    "df"
   ]
  },
  {
   "cell_type": "code",
   "execution_count": 8,
   "id": "b0a31f06-82f7-4332-8b69-bb24fd0c73f0",
   "metadata": {},
   "outputs": [],
   "source": [
    "train, test = np.split(df, [int(0.7*len(df))])"
   ]
  },
  {
   "cell_type": "code",
   "execution_count": 9,
   "id": "73a40a61-98f1-4709-b26e-fa84b98c9b4c",
   "metadata": {},
   "outputs": [],
   "source": [
    "def generate_temp_dataframe(train, test):\n",
    "    train, test = train.copy(), test.copy()\n",
    "    \n",
    "    train = train.assign(type_df =  'train')\n",
    "    test = test.assign(type_df = 'test')\n",
    "    \n",
    "    return pd.concat([train, test])"
   ]
  },
  {
   "cell_type": "code",
   "execution_count": 10,
   "id": "6f78b049-2fc1-43b1-a9f2-8f869b2a602e",
   "metadata": {},
   "outputs": [],
   "source": [
    "from scipy.stats import chi2_contingency\n",
    "\n",
    "\n",
    "def chi_square_test(df):\n",
    "    cat_cols = [col for col in df.select_dtypes(['object','category'])]\n",
    "    cat_cols.remove('type_df')\n",
    "    drift_cols = []\n",
    "    \n",
    "    for col in cat_cols:\n",
    "        c, p, dof, expected = chi2_contingency(pd.crosstab(df[col], df['type_df']))\n",
    "        \n",
    "        if p < 0.05:\n",
    "            drift_cols.append(col)\n",
    "            \n",
    "    return drift_cols"
   ]
  },
  {
   "cell_type": "code",
   "execution_count": 11,
   "id": "2d6b2453-e32e-41e6-8da0-f5ddcdafeb0b",
   "metadata": {},
   "outputs": [],
   "source": [
    "df_temp = generate_dataframe(train, test)"
   ]
  },
  {
   "cell_type": "code",
   "execution_count": 12,
   "id": "13eaa97b-63c0-41e9-997d-2f64c2c7b223",
   "metadata": {},
   "outputs": [
    {
     "data": {
      "text/plain": [
       "['B']"
      ]
     },
     "execution_count": 12,
     "metadata": {},
     "output_type": "execute_result"
    }
   ],
   "source": [
    "chi_square_test(df_temp)"
   ]
  },
  {
   "cell_type": "code",
   "execution_count": null,
   "id": "72154c3d-0a6d-4392-8c5b-2e44ef382ed3",
   "metadata": {},
   "outputs": [],
   "source": [
    "def remove_drifted_categoricals(df, cols):\n",
    "    return df.drop(columns=cols)"
   ]
  },
  {
   "cell_type": "markdown",
   "id": "75f23294-e5ff-4b51-932c-b96415bf79d2",
   "metadata": {},
   "source": [
    "----"
   ]
  },
  {
   "cell_type": "markdown",
   "id": "ed24f075-d02b-4fc3-ade4-c6aded846dd6",
   "metadata": {},
   "source": [
    "# Numerical drift (based on MLBox)"
   ]
  },
  {
   "cell_type": "code",
   "execution_count": 16,
   "id": "bf4c55ce-35cb-4d5a-9c4b-e97cf98e6187",
   "metadata": {},
   "outputs": [],
   "source": [
    "from mlbox.preprocessing import Reader, Drift_thresholder"
   ]
  },
  {
   "cell_type": "code",
   "execution_count": 24,
   "id": "c998ef51-4c1c-4f96-994b-061a9e41cf66",
   "metadata": {},
   "outputs": [],
   "source": [
    "paths = [\"../data/train.csv\",\"../data/test.csv\"]\n",
    "target_name = \"Species\""
   ]
  },
  {
   "cell_type": "code",
   "execution_count": 25,
   "id": "cd1a26e6-5a55-4f9d-8adc-2d71bcddbe56",
   "metadata": {},
   "outputs": [],
   "source": [
    "rd = Reader(sep = \",\")"
   ]
  },
  {
   "cell_type": "code",
   "execution_count": 26,
   "id": "f511ae0d-5aa8-483f-9b82-0f3164a97759",
   "metadata": {},
   "outputs": [
    {
     "name": "stdout",
     "output_type": "stream",
     "text": [
      "\n",
      "reading csv : train.csv ...\n",
      "cleaning data ...\n",
      "CPU time: 12.702234029769897 seconds\n",
      "\n",
      "reading csv : test.csv ...\n",
      "cleaning data ...\n",
      "CPU time: 4.582151889801025 seconds\n",
      "\n",
      "> Number of common features : 4\n",
      "\n",
      "gathering and crunching for train and test datasets ...\n",
      "reindexing for train and test datasets ...\n",
      "dropping training duplicates ...\n",
      "dropping constant variables on training set ...\n",
      "\n",
      "> Number of categorical features: 0\n",
      "> Number of numerical features: 4\n",
      "> Number of training samples : 104\n",
      "> Number of test samples : 45\n",
      "\n",
      "> You have no missing values on train set...\n",
      "\n",
      "> Task : classification\n",
      "Iris-setosa        35\n",
      "Iris-versicolor    35\n",
      "Iris-virginica     34\n",
      "Name: Species, dtype: int64\n",
      "\n",
      "encoding target ...\n"
     ]
    }
   ],
   "source": [
    "df = rd.train_test_split(paths, target_name)"
   ]
  },
  {
   "cell_type": "code",
   "execution_count": 35,
   "id": "675d2f91-31b9-4836-a6c5-fcb815b6cacc",
   "metadata": {},
   "outputs": [],
   "source": [
    "from sklearn.base import BaseEstimator, TransformerMixin"
   ]
  },
  {
   "cell_type": "code",
   "execution_count": 41,
   "id": "1a03c6d6-9ab4-46d1-8383-5b26c9defbd1",
   "metadata": {},
   "outputs": [],
   "source": [
    "class NumericalDrifter(BaseEstimator, TransformerMixin):\n",
    "\n",
    "    def __init__(self, threshold=0.6):\n",
    "        self.threshold = threshold\n",
    "        self.dft = Drift_thresholder(threshold=self.threshold)\n",
    "\n",
    "    def fit(self, df):\n",
    "        return self\n",
    "\n",
    "    def transform(self, df):\n",
    "        return self.dft.fit_transform(df)\n",
    "    "
   ]
  },
  {
   "cell_type": "code",
   "execution_count": 37,
   "id": "b03a11c7-00a6-48d3-a80f-d73487e8192f",
   "metadata": {},
   "outputs": [],
   "source": [
    "num_drifter = NumericalDrifter(threshold=0.7)"
   ]
  },
  {
   "cell_type": "code",
   "execution_count": 38,
   "id": "747b8e3e-3565-4909-b164-39680cf9f929",
   "metadata": {},
   "outputs": [
    {
     "data": {
      "text/plain": [
       "NumericalDrifter(threshold=None)"
      ]
     },
     "execution_count": 38,
     "metadata": {},
     "output_type": "execute_result"
    }
   ],
   "source": [
    "num_drifter.fit(df)"
   ]
  },
  {
   "cell_type": "code",
   "execution_count": 40,
   "id": "8c575213-cf5c-47be-b9be-35bb477a6d70",
   "metadata": {},
   "outputs": [
    {
     "name": "stdout",
     "output_type": "stream",
     "text": [
      "\n",
      "computing drifts ...\n",
      "CPU time: 5.7858781814575195 seconds\n",
      "\n",
      "> Top 10 drifts\n",
      "\n",
      "('PetalWidthCm', 0.32449072666463974)\n",
      "('PetalLengthCm', 0.08370705381574939)\n",
      "('SepalLengthCm', 0.017216479173000954)\n",
      "('SepalWidthCm', 0.0019002736394040376)\n",
      "\n",
      "> Deleted variables : []\n",
      "> Drift coefficients dumped into directory : save\n"
     ]
    },
    {
     "data": {
      "text/plain": [
       "{'train':      PetalLengthCm  PetalWidthCm  SepalLengthCm  SepalWidthCm\n",
       " 0              5.2           2.3            6.7           3.0\n",
       " 1              1.5           0.2            5.4           3.7\n",
       " 2              5.7           2.1            6.7           3.3\n",
       " 3              1.5           0.4            5.4           3.4\n",
       " 4              5.3           1.9            6.4           2.7\n",
       " ..             ...           ...            ...           ...\n",
       " 100            1.3           0.4            5.4           3.9\n",
       " 101            1.4           0.1            4.8           3.0\n",
       " 102            5.0           1.9            6.3           2.5\n",
       " 103            5.0           1.7            6.7           3.0\n",
       " 104            1.6           0.2            5.0           3.0\n",
       " \n",
       " [104 rows x 4 columns],\n",
       " 'test':     PetalLengthCm  PetalWidthCm  SepalLengthCm  SepalWidthCm\n",
       " 0             5.5           1.8            6.5           3.0\n",
       " 1             5.8           1.6            7.2           3.0\n",
       " 2             1.4           0.2            4.9           3.0\n",
       " 3             4.0           1.2            5.8           2.6\n",
       " 4             1.1           0.1            4.3           3.0\n",
       " 5             4.3           1.3            6.2           2.9\n",
       " 6             1.9           0.2            4.8           3.4\n",
       " 7             1.7           0.2            5.4           3.4\n",
       " 8             1.5           0.4            5.7           4.4\n",
       " 9             4.7           1.2            6.1           2.8\n",
       " 10            3.8           1.1            5.5           2.4\n",
       " 11            5.5           2.1            6.8           3.0\n",
       " 12            4.0           1.3            5.5           2.3\n",
       " 13            1.4           0.2            4.4           2.9\n",
       " 14            4.4           1.4            6.6           3.0\n",
       " 15            1.9           0.4            5.1           3.8\n",
       " 16            6.1           1.9            7.4           2.8\n",
       " 17            5.7           2.3            6.9           3.2\n",
       " 18            1.5           0.1            4.9           3.1\n",
       " 19            4.1           1.3            5.6           3.0\n",
       " 20            5.5           1.8            6.4           3.1\n",
       " 21            3.9           1.1            5.6           2.5\n",
       " 22            6.9           2.3            7.7           2.6\n",
       " 23            1.4           0.2            5.1           3.5\n",
       " 24            6.1           2.5            7.2           3.6\n",
       " 25            1.3           0.2            5.5           3.5\n",
       " 26            5.6           1.4            6.1           2.6\n",
       " 27            4.9           1.5            6.3           2.5\n",
       " 28            5.4           2.3            6.2           3.4\n",
       " 29            4.5           1.6            6.0           3.4\n",
       " 30            4.9           1.8            6.1           3.0\n",
       " 31            4.5           1.5            5.4           3.0\n",
       " 32            4.1           1.3            5.7           2.8\n",
       " 33            1.3           0.3            4.5           2.3\n",
       " 34            5.2           2.0            6.5           3.0\n",
       " 35            5.6           2.2            6.4           2.8\n",
       " 36            1.6           0.4            5.0           3.4\n",
       " 37            1.5           0.2            5.3           3.7\n",
       " 38            1.4           0.3            5.1           3.5\n",
       " 39            4.5           1.5            6.4           3.2\n",
       " 40            4.5           1.7            4.9           2.5\n",
       " 41            5.0           2.0            5.7           2.5\n",
       " 42            1.5           0.1            4.9           3.1\n",
       " 43            4.8           1.8            5.9           3.2\n",
       " 44            4.7           1.4            7.0           3.2,\n",
       " 'target': 0      2\n",
       " 1      0\n",
       " 2      2\n",
       " 3      0\n",
       " 4      2\n",
       "       ..\n",
       " 100    0\n",
       " 101    0\n",
       " 102    2\n",
       " 103    1\n",
       " 104    0\n",
       " Name: Species, Length: 104, dtype: int64}"
      ]
     },
     "execution_count": 40,
     "metadata": {},
     "output_type": "execute_result"
    }
   ],
   "source": [
    "num_drifter.transform(df)"
   ]
  },
  {
   "cell_type": "code",
   "execution_count": null,
   "id": "aa03645f-a5b9-4898-90d6-a026bb417300",
   "metadata": {},
   "outputs": [],
   "source": []
  }
 ],
 "metadata": {
  "kernelspec": {
   "display_name": "Python 3",
   "language": "python",
   "name": "python3"
  },
  "language_info": {
   "codemirror_mode": {
    "name": "ipython",
    "version": 3
   },
   "file_extension": ".py",
   "mimetype": "text/x-python",
   "name": "python",
   "nbconvert_exporter": "python",
   "pygments_lexer": "ipython3",
   "version": "3.7.3"
  }
 },
 "nbformat": 4,
 "nbformat_minor": 5
}
