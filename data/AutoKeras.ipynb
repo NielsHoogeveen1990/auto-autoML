{
 "cells": [
  {
   "cell_type": "code",
   "execution_count": 193,
   "id": "c0ec734f-b385-446d-806a-9fe67482c4e7",
   "metadata": {},
   "outputs": [],
   "source": [
    "import pandas as pd\n",
    "import numpy as np\n",
    "import seaborn as sns\n",
    "import warnings\n",
    "warnings.filterwarnings('ignore')"
   ]
  },
  {
   "cell_type": "code",
   "execution_count": 194,
   "id": "c3880470-a8b1-410b-a101-035227888e84",
   "metadata": {},
   "outputs": [],
   "source": [
    "df = pd.read_csv('../data/telecom_clean.csv')"
   ]
  },
  {
   "cell_type": "code",
   "execution_count": 195,
   "id": "b14c0c50-c5f7-41e4-9bcf-6efae3153554",
   "metadata": {},
   "outputs": [
    {
     "data": {
      "text/html": [
       "<div>\n",
       "<style scoped>\n",
       "    .dataframe tbody tr th:only-of-type {\n",
       "        vertical-align: middle;\n",
       "    }\n",
       "\n",
       "    .dataframe tbody tr th {\n",
       "        vertical-align: top;\n",
       "    }\n",
       "\n",
       "    .dataframe thead th {\n",
       "        text-align: right;\n",
       "    }\n",
       "</style>\n",
       "<table border=\"1\" class=\"dataframe\">\n",
       "  <thead>\n",
       "    <tr style=\"text-align: right;\">\n",
       "      <th></th>\n",
       "      <th>gender</th>\n",
       "      <th>SeniorCitizen</th>\n",
       "      <th>Partner</th>\n",
       "      <th>Dependents</th>\n",
       "      <th>tenure</th>\n",
       "      <th>PhoneService</th>\n",
       "      <th>MultipleLines</th>\n",
       "      <th>InternetService</th>\n",
       "      <th>OnlineSecurity</th>\n",
       "      <th>OnlineBackup</th>\n",
       "      <th>DeviceProtection</th>\n",
       "      <th>TechSupport</th>\n",
       "      <th>StreamingTV</th>\n",
       "      <th>StreamingMovies</th>\n",
       "      <th>Contract</th>\n",
       "      <th>PaperlessBilling</th>\n",
       "      <th>PaymentMethod</th>\n",
       "      <th>MonthlyCharges</th>\n",
       "      <th>TotalCharges</th>\n",
       "      <th>Churn</th>\n",
       "    </tr>\n",
       "  </thead>\n",
       "  <tbody>\n",
       "    <tr>\n",
       "      <th>0</th>\n",
       "      <td>Male</td>\n",
       "      <td>0</td>\n",
       "      <td>Yes</td>\n",
       "      <td>Yes</td>\n",
       "      <td>72</td>\n",
       "      <td>Yes</td>\n",
       "      <td>Yes</td>\n",
       "      <td>No</td>\n",
       "      <td>No internet service</td>\n",
       "      <td>No internet service</td>\n",
       "      <td>No internet service</td>\n",
       "      <td>No internet service</td>\n",
       "      <td>No internet service</td>\n",
       "      <td>No internet service</td>\n",
       "      <td>Two year</td>\n",
       "      <td>No</td>\n",
       "      <td>Credit card (automatic)</td>\n",
       "      <td>24.10</td>\n",
       "      <td>1734.65</td>\n",
       "      <td>No</td>\n",
       "    </tr>\n",
       "    <tr>\n",
       "      <th>1</th>\n",
       "      <td>Female</td>\n",
       "      <td>0</td>\n",
       "      <td>No</td>\n",
       "      <td>No</td>\n",
       "      <td>44</td>\n",
       "      <td>Yes</td>\n",
       "      <td>No</td>\n",
       "      <td>Fiber optic</td>\n",
       "      <td>No</td>\n",
       "      <td>Yes</td>\n",
       "      <td>Yes</td>\n",
       "      <td>No</td>\n",
       "      <td>Yes</td>\n",
       "      <td>No</td>\n",
       "      <td>Month-to-month</td>\n",
       "      <td>Yes</td>\n",
       "      <td>Credit card (automatic)</td>\n",
       "      <td>88.15</td>\n",
       "      <td>3973.20</td>\n",
       "      <td>No</td>\n",
       "    </tr>\n",
       "    <tr>\n",
       "      <th>2</th>\n",
       "      <td>Female</td>\n",
       "      <td>1</td>\n",
       "      <td>Yes</td>\n",
       "      <td>No</td>\n",
       "      <td>38</td>\n",
       "      <td>Yes</td>\n",
       "      <td>Yes</td>\n",
       "      <td>Fiber optic</td>\n",
       "      <td>No</td>\n",
       "      <td>No</td>\n",
       "      <td>No</td>\n",
       "      <td>No</td>\n",
       "      <td>No</td>\n",
       "      <td>No</td>\n",
       "      <td>Month-to-month</td>\n",
       "      <td>Yes</td>\n",
       "      <td>Bank transfer (automatic)</td>\n",
       "      <td>74.95</td>\n",
       "      <td>2869.85</td>\n",
       "      <td>Yes</td>\n",
       "    </tr>\n",
       "    <tr>\n",
       "      <th>3</th>\n",
       "      <td>Male</td>\n",
       "      <td>0</td>\n",
       "      <td>No</td>\n",
       "      <td>No</td>\n",
       "      <td>4</td>\n",
       "      <td>Yes</td>\n",
       "      <td>No</td>\n",
       "      <td>DSL</td>\n",
       "      <td>No</td>\n",
       "      <td>No</td>\n",
       "      <td>No</td>\n",
       "      <td>No</td>\n",
       "      <td>No</td>\n",
       "      <td>Yes</td>\n",
       "      <td>Month-to-month</td>\n",
       "      <td>Yes</td>\n",
       "      <td>Electronic check</td>\n",
       "      <td>55.90</td>\n",
       "      <td>238.50</td>\n",
       "      <td>No</td>\n",
       "    </tr>\n",
       "    <tr>\n",
       "      <th>4</th>\n",
       "      <td>Male</td>\n",
       "      <td>0</td>\n",
       "      <td>No</td>\n",
       "      <td>No</td>\n",
       "      <td>2</td>\n",
       "      <td>Yes</td>\n",
       "      <td>No</td>\n",
       "      <td>DSL</td>\n",
       "      <td>Yes</td>\n",
       "      <td>No</td>\n",
       "      <td>Yes</td>\n",
       "      <td>No</td>\n",
       "      <td>No</td>\n",
       "      <td>No</td>\n",
       "      <td>Month-to-month</td>\n",
       "      <td>No</td>\n",
       "      <td>Electronic check</td>\n",
       "      <td>53.45</td>\n",
       "      <td>119.50</td>\n",
       "      <td>No</td>\n",
       "    </tr>\n",
       "  </tbody>\n",
       "</table>\n",
       "</div>"
      ],
      "text/plain": [
       "   gender  SeniorCitizen Partner Dependents  tenure PhoneService  \\\n",
       "0    Male              0     Yes        Yes      72          Yes   \n",
       "1  Female              0      No         No      44          Yes   \n",
       "2  Female              1     Yes         No      38          Yes   \n",
       "3    Male              0      No         No       4          Yes   \n",
       "4    Male              0      No         No       2          Yes   \n",
       "\n",
       "  MultipleLines InternetService       OnlineSecurity         OnlineBackup  \\\n",
       "0           Yes              No  No internet service  No internet service   \n",
       "1            No     Fiber optic                   No                  Yes   \n",
       "2           Yes     Fiber optic                   No                   No   \n",
       "3            No             DSL                   No                   No   \n",
       "4            No             DSL                  Yes                   No   \n",
       "\n",
       "      DeviceProtection          TechSupport          StreamingTV  \\\n",
       "0  No internet service  No internet service  No internet service   \n",
       "1                  Yes                   No                  Yes   \n",
       "2                   No                   No                   No   \n",
       "3                   No                   No                   No   \n",
       "4                  Yes                   No                   No   \n",
       "\n",
       "       StreamingMovies        Contract PaperlessBilling  \\\n",
       "0  No internet service        Two year               No   \n",
       "1                   No  Month-to-month              Yes   \n",
       "2                   No  Month-to-month              Yes   \n",
       "3                  Yes  Month-to-month              Yes   \n",
       "4                   No  Month-to-month               No   \n",
       "\n",
       "               PaymentMethod  MonthlyCharges  TotalCharges Churn  \n",
       "0    Credit card (automatic)           24.10       1734.65    No  \n",
       "1    Credit card (automatic)           88.15       3973.20    No  \n",
       "2  Bank transfer (automatic)           74.95       2869.85   Yes  \n",
       "3           Electronic check           55.90        238.50    No  \n",
       "4           Electronic check           53.45        119.50    No  "
      ]
     },
     "execution_count": 195,
     "metadata": {},
     "output_type": "execute_result"
    }
   ],
   "source": [
    "df.head()"
   ]
  },
  {
   "cell_type": "code",
   "execution_count": 196,
   "id": "b45284fd-9e3a-4540-b16b-6429269e44cb",
   "metadata": {},
   "outputs": [
    {
     "data": {
      "text/plain": [
       "(5986, 20)"
      ]
     },
     "execution_count": 196,
     "metadata": {},
     "output_type": "execute_result"
    }
   ],
   "source": [
    "df.shape"
   ]
  },
  {
   "cell_type": "code",
   "execution_count": 197,
   "id": "8a0353b0-42d0-408c-9f60-151a099ea62c",
   "metadata": {},
   "outputs": [],
   "source": [
    "np.random.seed(10)"
   ]
  },
  {
   "cell_type": "code",
   "execution_count": 198,
   "id": "cbb6ab66-d385-46cb-b4c2-b6c118133489",
   "metadata": {},
   "outputs": [
    {
     "data": {
      "text/plain": [
       "No     4399\n",
       "Yes    1587\n",
       "Name: Churn, dtype: int64"
      ]
     },
     "execution_count": 198,
     "metadata": {},
     "output_type": "execute_result"
    }
   ],
   "source": [
    "df['Churn'].value_counts()"
   ]
  },
  {
   "cell_type": "code",
   "execution_count": 199,
   "id": "c8eed302-1a0c-4e8c-b5e0-ade873a2b47b",
   "metadata": {},
   "outputs": [],
   "source": [
    "remove_n = 1200\n",
    "drop_indices = np.random.choice(df.loc[lambda d: d['Churn']=='Yes'].index, remove_n, replace=False)"
   ]
  },
  {
   "cell_type": "code",
   "execution_count": 200,
   "id": "45b3a7b6-f324-4d6f-a95d-f963a4e4a0ee",
   "metadata": {},
   "outputs": [],
   "source": [
    "df = df.drop(drop_indices)"
   ]
  },
  {
   "cell_type": "code",
   "execution_count": 201,
   "id": "615730f1-cf00-4f30-ada0-012d67ad5d1e",
   "metadata": {},
   "outputs": [
    {
     "data": {
      "text/plain": [
       "<AxesSubplot:xlabel='Churn', ylabel='count'>"
      ]
     },
     "execution_count": 201,
     "metadata": {},
     "output_type": "execute_result"
    },
    {
     "data": {
      "image/png": "[encoded data removed]",
      "text/plain": [
       "<Figure size 432x288 with 1 Axes>"
      ]
     },
     "metadata": {
      "needs_background": "light"
     },
     "output_type": "display_data"
    }
   ],
   "source": [
    "sns.countplot(df['Churn'])"
   ]
  },
  {
   "cell_type": "code",
   "execution_count": 202,
   "id": "cb804f04-1fd1-49fc-b765-06a322a8d21b",
   "metadata": {},
   "outputs": [
    {
     "data": {
      "text/plain": [
       "No     4399\n",
       "Yes     387\n",
       "Name: Churn, dtype: int64"
      ]
     },
     "execution_count": 202,
     "metadata": {},
     "output_type": "execute_result"
    }
   ],
   "source": [
    "df['Churn'].value_counts()"
   ]
  },
  {
   "cell_type": "code",
   "execution_count": 203,
   "id": "5273b148-668c-4cb7-b0e6-5aeeb1ef9a52",
   "metadata": {},
   "outputs": [],
   "source": [
    "base_accuracy = 4399/(4399+387)"
   ]
  },
  {
   "cell_type": "code",
   "execution_count": 204,
   "id": "e6f89fea-f410-4c98-bbb5-1a233447b48f",
   "metadata": {},
   "outputs": [
    {
     "data": {
      "text/plain": [
       "0.9191391558712912"
      ]
     },
     "execution_count": 204,
     "metadata": {},
     "output_type": "execute_result"
    }
   ],
   "source": [
    "base_accuracy"
   ]
  },
  {
   "cell_type": "code",
   "execution_count": 206,
   "id": "9fa10074-36e7-43a6-8ca3-057a3077dd92",
   "metadata": {},
   "outputs": [],
   "source": [
    "df.to_csv('churn_telecom.csv')"
   ]
  },
  {
   "cell_type": "markdown",
   "id": "0b026b89-7163-4b16-a678-e6633422069e",
   "metadata": {},
   "source": [
    "-----"
   ]
  },
  {
   "cell_type": "code",
   "execution_count": 13,
   "id": "b9a32fff-d862-4f63-a89f-7c7b4aa4623c",
   "metadata": {},
   "outputs": [],
   "source": [
    "from sklearn.pipeline import make_pipeline, make_union\n",
    "from sklearn.impute import SimpleImputer\n",
    "from sklearn.preprocessing import StandardScaler, OneHotEncoder"
   ]
  },
  {
   "cell_type": "code",
   "execution_count": 14,
   "id": "05738094-73db-4932-a6a3-7aa1775295fc",
   "metadata": {},
   "outputs": [],
   "source": [
    "from sklearn.base import TransformerMixin, BaseEstimator\n",
    "\n",
    "class DTypeSelector(BaseEstimator, TransformerMixin):\n",
    "\n",
    "    def __init__(self, dtypes):\n",
    "        self.dtypes = dtypes\n",
    "\n",
    "\n",
    "    def fit(self, X, y):\n",
    "        return self\n",
    "\n",
    "\n",
    "    def transform(self, X):\n",
    "        return X.select_dtypes(self.dtypes)"
   ]
  },
  {
   "cell_type": "code",
   "execution_count": 15,
   "id": "9d56af91-a77f-4d2d-b12d-667a1270635a",
   "metadata": {},
   "outputs": [],
   "source": [
    "from sklearn.model_selection import train_test_split"
   ]
  },
  {
   "cell_type": "code",
   "execution_count": 16,
   "id": "9ab2f569-b98c-4048-9a50-add0ebf9ef8f",
   "metadata": {},
   "outputs": [],
   "source": [
    "X = df.drop(columns='Churn')"
   ]
  },
  {
   "cell_type": "code",
   "execution_count": 17,
   "id": "6856bf66-d967-49e5-a248-c0a8e79968dc",
   "metadata": {},
   "outputs": [],
   "source": [
    "y = df['Churn']"
   ]
  },
  {
   "cell_type": "code",
   "execution_count": 18,
   "id": "a96c3c44-5e0a-4645-af35-ba10f4253bdd",
   "metadata": {},
   "outputs": [],
   "source": [
    "X_train, X_test, y_train, y_test = train_test_split(X, y, test_size=0.33, random_state=42)"
   ]
  },
  {
   "cell_type": "code",
   "execution_count": 19,
   "id": "aaf77670-da5d-42c0-ba5b-4d1d24ea1f89",
   "metadata": {},
   "outputs": [],
   "source": [
    "import keras"
   ]
  },
  {
   "cell_type": "code",
   "execution_count": 20,
   "id": "72288d19-ddea-4912-8d5a-31579c148f1b",
   "metadata": {},
   "outputs": [],
   "source": [
    "from keras.layers import Dense, Dropout\n",
    "from keras.models import Model, Sequential\n",
    "from keras.wrappers.scikit_learn import KerasClassifier"
   ]
  },
  {
   "cell_type": "code",
   "execution_count": 21,
   "id": "5b64a16f-1695-46b2-8427-daa9bf18e924",
   "metadata": {},
   "outputs": [],
   "source": [
    "def create_model(optimizer='adam'):\n",
    "    model = Sequential()\n",
    "    \n",
    "    model.add(Dense(100, activation='relu'))\n",
    "    model.add(Dense(100, activation='relu'))\n",
    "    model.add(Dense(100, activation='relu'))\n",
    "    model.add(Dense(100, activation='relu'))\n",
    "    model.add(Dense(100, activation='relu'))\n",
    "    model.add(Dense(1, activation='sigmoid'))\n",
    "    \n",
    "    model.compile(loss='binary_crossentropy',optimizer=optimizer, metrics=['accuracy', keras.metrics.Precision(name='precision'),keras.metrics.Recall(name='recall')])\n",
    "    \n",
    "    return model"
   ]
  },
  {
   "cell_type": "code",
   "execution_count": 22,
   "id": "64135310-a6e3-40ae-8c45-515400663681",
   "metadata": {},
   "outputs": [],
   "source": [
    "pipeline = make_pipeline(\n",
    "    make_union(\n",
    "        make_pipeline(\n",
    "        DTypeSelector('number'),\n",
    "        SimpleImputer(),\n",
    "        StandardScaler()\n",
    "    ),\n",
    "        make_pipeline(\n",
    "        DTypeSelector('object'),\n",
    "        SimpleImputer(strategy='most_frequent'),\n",
    "        OneHotEncoder()\n",
    "    )\n",
    "    ),\n",
    "    KerasClassifier(build_fn=create_model,verbose=1, epochs=100, batch_size=32)\n",
    ")"
   ]
  },
  {
   "cell_type": "code",
   "execution_count": 23,
   "id": "eeec0e12-88c5-4a28-ae58-7bd64d2dfa53",
   "metadata": {
    "collapsed": true,
    "jupyter": {
     "outputs_hidden": true
    },
    "tags": []
   },
   "outputs": [
    {
     "name": "stdout",
     "output_type": "stream",
     "text": [
      "Epoch 1/100\n",
      "101/101 [==============================] - 1s 1ms/step - loss: 0.3066 - accuracy: 0.9297 - precision: 0.0000e+00 - recall: 0.0000e+00\n",
      "Epoch 2/100\n",
      "101/101 [==============================] - 0s 1ms/step - loss: 0.2326 - accuracy: 0.9181 - precision: 0.0000e+00 - recall: 0.0000e+00\n",
      "Epoch 3/100\n",
      "101/101 [==============================] - 0s 1ms/step - loss: 0.2038 - accuracy: 0.9260 - precision: 0.0000e+00 - recall: 0.0000e+00\n",
      "Epoch 4/100\n",
      "101/101 [==============================] - 0s 1ms/step - loss: 0.2155 - accuracy: 0.9150 - precision: 0.0000e+00 - recall: 0.0000e+00\n",
      "Epoch 5/100\n",
      "101/101 [==============================] - 0s 1ms/step - loss: 0.2060 - accuracy: 0.9215 - precision: 0.5645 - recall: 0.0114  \n",
      "Epoch 6/100\n",
      "101/101 [==============================] - 0s 1ms/step - loss: 0.2230 - accuracy: 0.9138 - precision: 0.7070 - recall: 0.0145  \n",
      "Epoch 7/100\n",
      "101/101 [==============================] - 0s 1ms/step - loss: 0.2257 - accuracy: 0.9136 - precision: 0.6592 - recall: 0.1209  \n",
      "Epoch 8/100\n",
      "101/101 [==============================] - 0s 1ms/step - loss: 0.1883 - accuracy: 0.9243 - precision: 0.7619 - recall: 0.0972  \n",
      "Epoch 9/100\n",
      "101/101 [==============================] - 0s 1ms/step - loss: 0.1929 - accuracy: 0.9273 - precision: 0.7304 - recall: 0.1088  \n",
      "Epoch 10/100\n",
      "101/101 [==============================] - 0s 1ms/step - loss: 0.1640 - accuracy: 0.9357 - precision: 0.7340 - recall: 0.1132  \n",
      "Epoch 11/100\n",
      "101/101 [==============================] - 0s 1ms/step - loss: 0.1734 - accuracy: 0.9303 - precision: 0.6639 - recall: 0.3451\n",
      "Epoch 12/100\n",
      "101/101 [==============================] - 0s 1ms/step - loss: 0.1569 - accuracy: 0.9309 - precision: 0.7237 - recall: 0.2123  \n",
      "Epoch 13/100\n",
      "101/101 [==============================] - 0s 1ms/step - loss: 0.1515 - accuracy: 0.9342 - precision: 0.7207 - recall: 0.4021\n",
      "Epoch 14/100\n",
      "101/101 [==============================] - 0s 1ms/step - loss: 0.1479 - accuracy: 0.9369 - precision: 0.7287 - recall: 0.4314\n",
      "Epoch 15/100\n",
      "101/101 [==============================] - 0s 1ms/step - loss: 0.1320 - accuracy: 0.9429 - precision: 0.7568 - recall: 0.4721\n",
      "Epoch 16/100\n",
      "101/101 [==============================] - 0s 1ms/step - loss: 0.1141 - accuracy: 0.9545 - precision: 0.7649 - recall: 0.5556\n",
      "Epoch 17/100\n",
      "101/101 [==============================] - 0s 1ms/step - loss: 0.1152 - accuracy: 0.9510 - precision: 0.7265 - recall: 0.5504\n",
      "Epoch 18/100\n",
      "101/101 [==============================] - 0s 1ms/step - loss: 0.1109 - accuracy: 0.9554 - precision: 0.7395 - recall: 0.6103\n",
      "Epoch 19/100\n",
      "101/101 [==============================] - 0s 2ms/step - loss: 0.1063 - accuracy: 0.9565 - precision: 0.8089 - recall: 0.6141\n",
      "Epoch 20/100\n",
      "101/101 [==============================] - 0s 1ms/step - loss: 0.0946 - accuracy: 0.9652 - precision: 0.8515 - recall: 0.6561\n",
      "Epoch 21/100\n",
      "101/101 [==============================] - 0s 1ms/step - loss: 0.0906 - accuracy: 0.9636 - precision: 0.8410 - recall: 0.7033\n",
      "Epoch 22/100\n",
      "101/101 [==============================] - 0s 1ms/step - loss: 0.0946 - accuracy: 0.9599 - precision: 0.8470 - recall: 0.6983\n",
      "Epoch 23/100\n",
      "101/101 [==============================] - 0s 1ms/step - loss: 0.0971 - accuracy: 0.9647 - precision: 0.8661 - recall: 0.6810\n",
      "Epoch 24/100\n",
      "101/101 [==============================] - 0s 1ms/step - loss: 0.0760 - accuracy: 0.9695 - precision: 0.8775 - recall: 0.7091\n",
      "Epoch 25/100\n",
      "101/101 [==============================] - 0s 1ms/step - loss: 0.0781 - accuracy: 0.9691 - precision: 0.8797 - recall: 0.6934\n",
      "Epoch 26/100\n",
      "101/101 [==============================] - 0s 1ms/step - loss: 0.0753 - accuracy: 0.9700 - precision: 0.8524 - recall: 0.7470\n",
      "Epoch 27/100\n",
      "101/101 [==============================] - 0s 1ms/step - loss: 0.0707 - accuracy: 0.9756 - precision: 0.8901 - recall: 0.7520\n",
      "Epoch 28/100\n",
      "101/101 [==============================] - 0s 1ms/step - loss: 0.0953 - accuracy: 0.9664 - precision: 0.8017 - recall: 0.7191\n",
      "Epoch 29/100\n",
      "101/101 [==============================] - 0s 2ms/step - loss: 0.0722 - accuracy: 0.9684 - precision: 0.8362 - recall: 0.7459\n",
      "Epoch 30/100\n",
      "101/101 [==============================] - 0s 1ms/step - loss: 0.0610 - accuracy: 0.9754 - precision: 0.9138 - recall: 0.7846\n",
      "Epoch 31/100\n",
      "101/101 [==============================] - 0s 1ms/step - loss: 0.0595 - accuracy: 0.9776 - precision: 0.9148 - recall: 0.7804\n",
      "Epoch 32/100\n",
      "101/101 [==============================] - 0s 1ms/step - loss: 0.0689 - accuracy: 0.9722 - precision: 0.8950 - recall: 0.7490\n",
      "Epoch 33/100\n",
      "101/101 [==============================] - 0s 1ms/step - loss: 0.0587 - accuracy: 0.9764 - precision: 0.9491 - recall: 0.7565\n",
      "Epoch 34/100\n",
      "101/101 [==============================] - 0s 1ms/step - loss: 0.0568 - accuracy: 0.9799 - precision: 0.9299 - recall: 0.8032\n",
      "Epoch 35/100\n",
      "101/101 [==============================] - 0s 1ms/step - loss: 0.0504 - accuracy: 0.9813 - precision: 0.9274 - recall: 0.8112\n",
      "Epoch 36/100\n",
      "101/101 [==============================] - 0s 1ms/step - loss: 0.0563 - accuracy: 0.9772 - precision: 0.9105 - recall: 0.7917\n",
      "Epoch 37/100\n",
      "101/101 [==============================] - 0s 1ms/step - loss: 0.0548 - accuracy: 0.9768 - precision: 0.9089 - recall: 0.8036\n",
      "Epoch 38/100\n",
      "101/101 [==============================] - 0s 1ms/step - loss: 0.0586 - accuracy: 0.9723 - precision: 0.8721 - recall: 0.7969\n",
      "Epoch 39/100\n",
      "101/101 [==============================] - 0s 1ms/step - loss: 0.0436 - accuracy: 0.9814 - precision: 0.9381 - recall: 0.8121\n",
      "Epoch 40/100\n",
      "101/101 [==============================] - 0s 1ms/step - loss: 0.0454 - accuracy: 0.9820 - precision: 0.9668 - recall: 0.8057\n",
      "Epoch 41/100\n",
      "101/101 [==============================] - 0s 1ms/step - loss: 0.0587 - accuracy: 0.9725 - precision: 0.9451 - recall: 0.7056\n",
      "Epoch 42/100\n",
      "101/101 [==============================] - 0s 1ms/step - loss: 0.0456 - accuracy: 0.9788 - precision: 0.9527 - recall: 0.7720\n",
      "Epoch 43/100\n",
      "101/101 [==============================] - 0s 1ms/step - loss: 0.0787 - accuracy: 0.9702 - precision: 0.8944 - recall: 0.7069\n",
      "Epoch 44/100\n",
      "101/101 [==============================] - 0s 1ms/step - loss: 0.0670 - accuracy: 0.9747 - precision: 0.9415 - recall: 0.7304\n",
      "Epoch 45/100\n",
      "101/101 [==============================] - 0s 1ms/step - loss: 0.0680 - accuracy: 0.9704 - precision: 0.8846 - recall: 0.7590\n",
      "Epoch 46/100\n",
      "101/101 [==============================] - 0s 1ms/step - loss: 0.0749 - accuracy: 0.9719 - precision: 0.9028 - recall: 0.7242\n",
      "Epoch 47/100\n",
      "101/101 [==============================] - 0s 1ms/step - loss: 0.0709 - accuracy: 0.9744 - precision: 0.8933 - recall: 0.7279  \n",
      "Epoch 48/100\n",
      "101/101 [==============================] - 0s 1ms/step - loss: 0.0535 - accuracy: 0.9771 - precision: 0.9129 - recall: 0.7822  \n",
      "Epoch 49/100\n",
      "101/101 [==============================] - 0s 1ms/step - loss: 0.0476 - accuracy: 0.9776 - precision: 0.9384 - recall: 0.7783\n",
      "Epoch 50/100\n",
      "101/101 [==============================] - 0s 1ms/step - loss: 0.0464 - accuracy: 0.9784 - precision: 0.9521 - recall: 0.7606  \n",
      "Epoch 51/100\n",
      "101/101 [==============================] - 0s 1ms/step - loss: 0.0452 - accuracy: 0.9792 - precision: 0.9715 - recall: 0.7731\n",
      "Epoch 52/100\n",
      "101/101 [==============================] - 0s 1ms/step - loss: 0.0423 - accuracy: 0.9824 - precision: 0.9442 - recall: 0.8207  \n",
      "Epoch 53/100\n",
      "101/101 [==============================] - 0s 1ms/step - loss: 0.0375 - accuracy: 0.9848 - precision: 0.9836 - recall: 0.8253\n",
      "Epoch 54/100\n",
      "101/101 [==============================] - 0s 1ms/step - loss: 0.0393 - accuracy: 0.9823 - precision: 0.9811 - recall: 0.8082\n",
      "Epoch 55/100\n",
      "101/101 [==============================] - 0s 1ms/step - loss: 0.0417 - accuracy: 0.9811 - precision: 0.9488 - recall: 0.8075\n",
      "Epoch 56/100\n",
      "101/101 [==============================] - 0s 1ms/step - loss: 0.0460 - accuracy: 0.9790 - precision: 0.9518 - recall: 0.7686\n",
      "Epoch 57/100\n",
      "101/101 [==============================] - 0s 1ms/step - loss: 0.0502 - accuracy: 0.9782 - precision: 0.9669 - recall: 0.7682\n",
      "Epoch 58/100\n",
      "101/101 [==============================] - 0s 1ms/step - loss: 0.0725 - accuracy: 0.9746 - precision: 0.9309 - recall: 0.7236\n",
      "Epoch 59/100\n",
      "101/101 [==============================] - 0s 1ms/step - loss: 0.0962 - accuracy: 0.9625 - precision: 0.8642 - recall: 0.6347\n",
      "Epoch 60/100\n",
      "101/101 [==============================] - 0s 1ms/step - loss: 0.0588 - accuracy: 0.9756 - precision: 0.9582 - recall: 0.6965\n",
      "Epoch 61/100\n",
      "101/101 [==============================] - 0s 1ms/step - loss: 0.0519 - accuracy: 0.9787 - precision: 0.9588 - recall: 0.7645\n",
      "Epoch 62/100\n",
      "101/101 [==============================] - 0s 1ms/step - loss: 0.0477 - accuracy: 0.9776 - precision: 0.9491 - recall: 0.7536  \n",
      "Epoch 63/100\n",
      "101/101 [==============================] - 0s 1ms/step - loss: 0.0518 - accuracy: 0.9766 - precision: 0.9431 - recall: 0.7484\n",
      "Epoch 64/100\n",
      "101/101 [==============================] - 0s 1ms/step - loss: 0.0408 - accuracy: 0.9815 - precision: 0.9730 - recall: 0.7747\n",
      "Epoch 65/100\n",
      "101/101 [==============================] - 0s 1ms/step - loss: 0.0433 - accuracy: 0.9791 - precision: 0.9084 - recall: 0.8008\n",
      "Epoch 66/100\n",
      "101/101 [==============================] - 0s 1ms/step - loss: 0.0532 - accuracy: 0.9759 - precision: 0.9199 - recall: 0.8013\n",
      "Epoch 67/100\n",
      "101/101 [==============================] - 0s 1ms/step - loss: 0.0438 - accuracy: 0.9785 - precision: 0.9114 - recall: 0.8212\n",
      "Epoch 68/100\n",
      "101/101 [==============================] - 0s 1ms/step - loss: 0.0578 - accuracy: 0.9796 - precision: 0.9162 - recall: 0.7925\n",
      "Epoch 69/100\n",
      "101/101 [==============================] - 0s 1ms/step - loss: 0.0777 - accuracy: 0.9661 - precision: 0.8635 - recall: 0.7190  \n",
      "Epoch 70/100\n",
      "101/101 [==============================] - 0s 1ms/step - loss: 0.0544 - accuracy: 0.9782 - precision: 0.9524 - recall: 0.7810\n",
      "Epoch 71/100\n",
      "101/101 [==============================] - 0s 1ms/step - loss: 0.0448 - accuracy: 0.9804 - precision: 0.9368 - recall: 0.8091\n",
      "Epoch 72/100\n",
      "101/101 [==============================] - 0s 1ms/step - loss: 0.0370 - accuracy: 0.9842 - precision: 0.9770 - recall: 0.8162\n",
      "Epoch 73/100\n",
      "101/101 [==============================] - 0s 1ms/step - loss: 0.0405 - accuracy: 0.9838 - precision: 0.9436 - recall: 0.8382\n",
      "Epoch 74/100\n",
      "101/101 [==============================] - 0s 1ms/step - loss: 0.0366 - accuracy: 0.9847 - precision: 0.9546 - recall: 0.8575\n",
      "Epoch 75/100\n",
      "101/101 [==============================] - 0s 1ms/step - loss: 0.0380 - accuracy: 0.9813 - precision: 0.9538 - recall: 0.7985\n",
      "Epoch 76/100\n",
      "101/101 [==============================] - 0s 1ms/step - loss: 0.0460 - accuracy: 0.9786 - precision: 0.8993 - recall: 0.8076  \n",
      "Epoch 77/100\n",
      "101/101 [==============================] - 0s 1ms/step - loss: 0.0565 - accuracy: 0.9769 - precision: 0.9432 - recall: 0.7274\n",
      "Epoch 78/100\n",
      "101/101 [==============================] - 0s 1ms/step - loss: 0.0423 - accuracy: 0.9836 - precision: 0.9600 - recall: 0.8339\n",
      "Epoch 79/100\n",
      "101/101 [==============================] - 0s 1ms/step - loss: 0.0340 - accuracy: 0.9840 - precision: 0.9681 - recall: 0.8428\n",
      "Epoch 80/100\n",
      "101/101 [==============================] - 0s 1ms/step - loss: 0.0429 - accuracy: 0.9797 - precision: 0.9236 - recall: 0.8221\n",
      "Epoch 81/100\n",
      "101/101 [==============================] - 0s 1ms/step - loss: 0.0575 - accuracy: 0.9779 - precision: 0.9109 - recall: 0.7901\n",
      "Epoch 82/100\n",
      "101/101 [==============================] - 0s 1ms/step - loss: 0.0699 - accuracy: 0.9725 - precision: 0.9242 - recall: 0.7355\n",
      "Epoch 83/100\n",
      "101/101 [==============================] - 0s 1ms/step - loss: 0.0500 - accuracy: 0.9775 - precision: 0.9346 - recall: 0.7607\n",
      "Epoch 84/100\n",
      "101/101 [==============================] - 0s 1ms/step - loss: 0.0476 - accuracy: 0.9813 - precision: 0.9456 - recall: 0.8018\n",
      "Epoch 85/100\n",
      "101/101 [==============================] - 0s 1ms/step - loss: 0.0472 - accuracy: 0.9819 - precision: 0.9453 - recall: 0.8255\n",
      "Epoch 86/100\n",
      "101/101 [==============================] - 0s 1ms/step - loss: 0.0426 - accuracy: 0.9827 - precision: 0.9631 - recall: 0.8028\n",
      "Epoch 87/100\n",
      "101/101 [==============================] - 0s 1ms/step - loss: 0.0504 - accuracy: 0.9803 - precision: 0.9550 - recall: 0.7983\n",
      "Epoch 88/100\n",
      "101/101 [==============================] - 0s 1ms/step - loss: 0.0434 - accuracy: 0.9833 - precision: 0.9566 - recall: 0.8284\n",
      "Epoch 89/100\n",
      "101/101 [==============================] - 0s 1ms/step - loss: 0.0476 - accuracy: 0.9816 - precision: 0.9463 - recall: 0.8260\n",
      "Epoch 90/100\n",
      "101/101 [==============================] - 0s 1ms/step - loss: 0.0757 - accuracy: 0.9735 - precision: 0.9510 - recall: 0.7306\n",
      "Epoch 91/100\n",
      "101/101 [==============================] - 0s 1ms/step - loss: 0.0447 - accuracy: 0.9801 - precision: 0.9311 - recall: 0.8018\n",
      "Epoch 92/100\n",
      "101/101 [==============================] - 0s 1ms/step - loss: 0.0423 - accuracy: 0.9820 - precision: 0.9292 - recall: 0.8406\n",
      "Epoch 93/100\n",
      "101/101 [==============================] - 0s 1ms/step - loss: 0.0406 - accuracy: 0.9806 - precision: 0.9399 - recall: 0.8123\n",
      "Epoch 94/100\n",
      "101/101 [==============================] - 0s 1ms/step - loss: 0.0497 - accuracy: 0.9747 - precision: 0.9036 - recall: 0.7827  \n",
      "Epoch 95/100\n",
      "101/101 [==============================] - 0s 1ms/step - loss: 0.0356 - accuracy: 0.9846 - precision: 0.9614 - recall: 0.8443\n",
      "Epoch 96/100\n",
      "101/101 [==============================] - 0s 1ms/step - loss: 0.0327 - accuracy: 0.9866 - precision: 0.9488 - recall: 0.8861\n",
      "Epoch 97/100\n",
      "101/101 [==============================] - 0s 1ms/step - loss: 0.0408 - accuracy: 0.9823 - precision: 0.9467 - recall: 0.8187\n",
      "Epoch 98/100\n",
      "101/101 [==============================] - 0s 1ms/step - loss: 0.0385 - accuracy: 0.9808 - precision: 0.9707 - recall: 0.7996\n",
      "Epoch 99/100\n",
      "101/101 [==============================] - 0s 1ms/step - loss: 0.0392 - accuracy: 0.9817 - precision: 0.9373 - recall: 0.8332\n",
      "Epoch 100/100\n",
      "101/101 [==============================] - 0s 1ms/step - loss: 0.0474 - accuracy: 0.9797 - precision: 0.9320 - recall: 0.8120\n"
     ]
    },
    {
     "data": {
      "text/plain": [
       "Pipeline(memory=None,\n",
       "         steps=[('featureunion',\n",
       "                 FeatureUnion(n_jobs=None,\n",
       "                              transformer_list=[('pipeline-1',\n",
       "                                                 Pipeline(memory=None,\n",
       "                                                          steps=[('dtypeselector',\n",
       "                                                                  DTypeSelector(dtypes='number')),\n",
       "                                                                 ('simpleimputer',\n",
       "                                                                  SimpleImputer(add_indicator=False,\n",
       "                                                                                copy=True,\n",
       "                                                                                fill_value=None,\n",
       "                                                                                missing_values=nan,\n",
       "                                                                                strategy='mean',\n",
       "                                                                                verbose=0)),\n",
       "                                                                 ('standardscaler',\n",
       "                                                                  StandardScaler(copy=True,\n",
       "                                                                                 with_...\n",
       "                                                                                verbose=0)),\n",
       "                                                                 ('onehotencoder',\n",
       "                                                                  OneHotEncoder(categorical_features=None,\n",
       "                                                                                categories=None,\n",
       "                                                                                drop=None,\n",
       "                                                                                dtype=<class 'numpy.float64'>,\n",
       "                                                                                handle_unknown='error',\n",
       "                                                                                n_values=None,\n",
       "                                                                                sparse=True))],\n",
       "                                                          verbose=False))],\n",
       "                              transformer_weights=None, verbose=False)),\n",
       "                ('kerasclassifier',\n",
       "                 <tensorflow.python.keras.wrappers.scikit_learn.KerasClassifier object at 0x180574898>)],\n",
       "         verbose=False)"
      ]
     },
     "execution_count": 23,
     "metadata": {},
     "output_type": "execute_result"
    }
   ],
   "source": [
    "pipeline.fit(X_train, y_train)"
   ]
  },
  {
   "cell_type": "code",
   "execution_count": 24,
   "id": "e3c604b6-fdcf-4d11-8c4f-e20f861c1b6a",
   "metadata": {},
   "outputs": [
    {
     "name": "stdout",
     "output_type": "stream",
     "text": [
      "50/50 [==============================] - 0s 593us/step\n",
      "101/101 [==============================] - 0s 703us/step\n"
     ]
    }
   ],
   "source": [
    "y_preds = pipeline.predict(X_test)\n",
    "y_preds_training = pipeline.predict(X_train)"
   ]
  },
  {
   "cell_type": "code",
   "execution_count": 25,
   "id": "ea940b65-d1ec-4df4-b829-eb267000e8ee",
   "metadata": {},
   "outputs": [
    {
     "data": {
      "text/plain": [
       "array([['No'],\n",
       "       ['No'],\n",
       "       ['No'],\n",
       "       ...,\n",
       "       ['No'],\n",
       "       ['No'],\n",
       "       ['No']], dtype=object)"
      ]
     },
     "execution_count": 25,
     "metadata": {},
     "output_type": "execute_result"
    }
   ],
   "source": [
    "y_preds"
   ]
  },
  {
   "cell_type": "code",
   "execution_count": 26,
   "id": "2e13c6ed-c67b-45eb-b03a-ec9ba6d9fe3d",
   "metadata": {},
   "outputs": [],
   "source": [
    "from sklearn.metrics import classification_report, confusion_matrix"
   ]
  },
  {
   "cell_type": "code",
   "execution_count": 27,
   "id": "c6447ea4-f8c8-452e-8403-7c30ce13a83f",
   "metadata": {},
   "outputs": [
    {
     "name": "stdout",
     "output_type": "stream",
     "text": [
      "              precision    recall  f1-score   support\n",
      "\n",
      "          No       0.98      1.00      0.99      2950\n",
      "         Yes       0.97      0.80      0.88       256\n",
      "\n",
      "    accuracy                           0.98      3206\n",
      "   macro avg       0.97      0.90      0.93      3206\n",
      "weighted avg       0.98      0.98      0.98      3206\n",
      "\n"
     ]
    }
   ],
   "source": [
    "print(classification_report(y_train, y_preds_training))"
   ]
  },
  {
   "cell_type": "code",
   "execution_count": 28,
   "id": "adb006e8-24cb-4974-80f0-30ce21def2b2",
   "metadata": {},
   "outputs": [
    {
     "data": {
      "text/plain": [
       "array([[2943,    7],\n",
       "       [  51,  205]])"
      ]
     },
     "execution_count": 28,
     "metadata": {},
     "output_type": "execute_result"
    }
   ],
   "source": [
    "confusion_matrix(y_train, y_preds_training)"
   ]
  },
  {
   "cell_type": "code",
   "execution_count": 29,
   "id": "6616fa6e-216f-4346-936a-8ee975c5634e",
   "metadata": {},
   "outputs": [
    {
     "name": "stdout",
     "output_type": "stream",
     "text": [
      "              precision    recall  f1-score   support\n",
      "\n",
      "          No       0.93      0.95      0.94      1449\n",
      "         Yes       0.31      0.22      0.26       131\n",
      "\n",
      "    accuracy                           0.89      1580\n",
      "   macro avg       0.62      0.59      0.60      1580\n",
      "weighted avg       0.88      0.89      0.89      1580\n",
      "\n"
     ]
    }
   ],
   "source": [
    "print(classification_report(y_test, y_preds))"
   ]
  },
  {
   "cell_type": "code",
   "execution_count": 30,
   "id": "d5de792c-2e8d-403a-bcad-6bee6c92ef33",
   "metadata": {},
   "outputs": [
    {
     "data": {
      "text/plain": [
       "array([[1383,   66],\n",
       "       [ 102,   29]])"
      ]
     },
     "execution_count": 30,
     "metadata": {},
     "output_type": "execute_result"
    }
   ],
   "source": [
    "confusion_matrix(y_test, y_preds)"
   ]
  },
  {
   "cell_type": "markdown",
   "id": "95e6d12e-f77d-4966-84dc-62bd80c786a8",
   "metadata": {},
   "source": [
    "# AutoKeras"
   ]
  },
  {
   "cell_type": "code",
   "execution_count": 97,
   "id": "98965777-7b76-461b-b4b1-fb91bd9193a0",
   "metadata": {},
   "outputs": [],
   "source": [
    "from autokeras import StructuredDataClassifier"
   ]
  },
  {
   "cell_type": "code",
   "execution_count": 98,
   "id": "94e63793-8d0e-422c-bc38-f25340f57d1e",
   "metadata": {},
   "outputs": [],
   "source": [
    "import tensorflow as tf"
   ]
  },
  {
   "cell_type": "code",
   "execution_count": 99,
   "id": "7f74888b-aeb4-4383-bcf1-2e9bf99943e0",
   "metadata": {},
   "outputs": [],
   "source": [
    "X_train, X_test, y_train, y_test = train_test_split(X, y, test_size=0.33, random_state=42)"
   ]
  },
  {
   "cell_type": "code",
   "execution_count": 87,
   "id": "519116b0-1020-44ad-99bc-d7084508d227",
   "metadata": {},
   "outputs": [],
   "source": [
    "import kerastuner\n",
    "\n",
    "import autokeras as ak\n",
    "\n",
    "from tensorflow.keras import backend as K\n",
    "\n",
    "\n",
    "def recall_m(y_true, y_pred):\n",
    "    true_positives = K.sum(K.round(K.clip(y_true * y_pred, 0, 1)))\n",
    "    possible_positives = K.sum(K.round(K.clip(y_true, 0, 1)))\n",
    "    recall = true_positives / (possible_positives + K.epsilon())\n",
    "    return recall\n",
    "\n",
    "def precision_m(y_true, y_pred):\n",
    "    true_positives = K.sum(K.round(K.clip(y_true * y_pred, 0, 1)))\n",
    "    predicted_positives = K.sum(K.round(K.clip(y_pred, 0, 1)))\n",
    "    precision = true_positives / (predicted_positives + K.epsilon())\n",
    "    return precision\n",
    "\n",
    "def f1_score(y_true, y_pred):\n",
    "    precision = precision_m(y_true, y_pred)\n",
    "    recall = recall_m(y_true, y_pred)\n",
    "    return 2*((precision*recall)/(precision+recall+K.epsilon()))"
   ]
  },
  {
   "cell_type": "code",
   "execution_count": 100,
   "id": "26d493cf-3435-49c2-8ea5-899d473908f7",
   "metadata": {},
   "outputs": [],
   "source": [
    "clf = StructuredDataClassifier(\n",
    "    max_trials=10,\n",
    "    overwrite=True\n",
    ")"
   ]
  },
  {
   "cell_type": "code",
   "execution_count": 88,
   "id": "eaf6896b-7c51-4340-a2f9-e9773db340ea",
   "metadata": {},
   "outputs": [],
   "source": [
    "# clf = StructuredDataClassifier(\n",
    "#     max_trials=5,\n",
    "#     overwrite=True,\n",
    "#     objective=kerastuner.Objective('val_f1_score', direction='max'),\n",
    "#     metrics=[f1_score]\n",
    "# )"
   ]
  },
  {
   "cell_type": "code",
   "execution_count": 101,
   "id": "8528a58d-4213-444e-aa89-eb72d91e2769",
   "metadata": {
    "collapsed": true,
    "jupyter": {
     "outputs_hidden": true
    },
    "tags": []
   },
   "outputs": [
    {
     "name": "stdout",
     "output_type": "stream",
     "text": [
      "Trial 10 Complete [00h 00m 28s]\n",
      "val_accuracy: 0.9169381260871887\n",
      "\n",
      "Best val_accuracy So Far: 0.9250814318656921\n",
      "Total elapsed time: 00h 02m 21s\n",
      "INFO:tensorflow:Oracle triggered exit\n",
      "Epoch 1/100\n",
      "101/101 [==============================] - 1s 1ms/step - loss: 0.3743 - accuracy: 0.8855\n",
      "Epoch 2/100\n",
      "101/101 [==============================] - 0s 1ms/step - loss: 0.2566 - accuracy: 0.9261\n",
      "Epoch 3/100\n",
      "101/101 [==============================] - 0s 1ms/step - loss: 0.2455 - accuracy: 0.9261\n",
      "Epoch 4/100\n",
      "101/101 [==============================] - 0s 1ms/step - loss: 0.2389 - accuracy: 0.9261\n",
      "Epoch 5/100\n",
      "101/101 [==============================] - 0s 1ms/step - loss: 0.2343 - accuracy: 0.9263\n",
      "Epoch 6/100\n",
      "101/101 [==============================] - 0s 1ms/step - loss: 0.2307 - accuracy: 0.9262\n",
      "Epoch 7/100\n",
      "101/101 [==============================] - 0s 1ms/step - loss: 0.2274 - accuracy: 0.9267\n",
      "Epoch 8/100\n",
      "101/101 [==============================] - 0s 1ms/step - loss: 0.2248 - accuracy: 0.9267\n",
      "Epoch 9/100\n",
      "101/101 [==============================] - 0s 1ms/step - loss: 0.2218 - accuracy: 0.9279\n",
      "Epoch 10/100\n",
      "101/101 [==============================] - 0s 1ms/step - loss: 0.2194 - accuracy: 0.9271\n",
      "Epoch 11/100\n",
      "101/101 [==============================] - 0s 1ms/step - loss: 0.2172 - accuracy: 0.9271\n",
      "Epoch 12/100\n",
      "101/101 [==============================] - 0s 1ms/step - loss: 0.2151 - accuracy: 0.9256\n",
      "Epoch 13/100\n",
      "101/101 [==============================] - 0s 1ms/step - loss: 0.2131 - accuracy: 0.9277\n",
      "Epoch 14/100\n",
      "101/101 [==============================] - 0s 1ms/step - loss: 0.2111 - accuracy: 0.9268\n",
      "Epoch 15/100\n",
      "101/101 [==============================] - 0s 1ms/step - loss: 0.2092 - accuracy: 0.9267\n",
      "Epoch 16/100\n",
      "101/101 [==============================] - 0s 1ms/step - loss: 0.2076 - accuracy: 0.9260\n",
      "Epoch 17/100\n",
      "101/101 [==============================] - 0s 1ms/step - loss: 0.2058 - accuracy: 0.9276\n",
      "Epoch 18/100\n",
      "101/101 [==============================] - 0s 1ms/step - loss: 0.2042 - accuracy: 0.9275\n",
      "Epoch 19/100\n",
      "101/101 [==============================] - 0s 1ms/step - loss: 0.2023 - accuracy: 0.9281\n",
      "Epoch 20/100\n",
      "101/101 [==============================] - 0s 1ms/step - loss: 0.2010 - accuracy: 0.9283\n",
      "Epoch 21/100\n",
      "101/101 [==============================] - 0s 1ms/step - loss: 0.1990 - accuracy: 0.9287\n",
      "Epoch 22/100\n",
      "101/101 [==============================] - 0s 1ms/step - loss: 0.1977 - accuracy: 0.9285\n",
      "Epoch 23/100\n",
      "101/101 [==============================] - 0s 1ms/step - loss: 0.1960 - accuracy: 0.9286\n",
      "Epoch 24/100\n",
      "101/101 [==============================] - 0s 1ms/step - loss: 0.1942 - accuracy: 0.9275\n",
      "Epoch 25/100\n",
      "101/101 [==============================] - 0s 1ms/step - loss: 0.1928 - accuracy: 0.9283\n",
      "Epoch 26/100\n",
      "101/101 [==============================] - 0s 1ms/step - loss: 0.1909 - accuracy: 0.9288\n",
      "Epoch 27/100\n",
      "101/101 [==============================] - 0s 1ms/step - loss: 0.1893 - accuracy: 0.9303\n",
      "Epoch 28/100\n",
      "101/101 [==============================] - 0s 1ms/step - loss: 0.1878 - accuracy: 0.9317\n",
      "Epoch 29/100\n",
      "101/101 [==============================] - 0s 1ms/step - loss: 0.1865 - accuracy: 0.9315\n",
      "Epoch 30/100\n",
      "101/101 [==============================] - 0s 1ms/step - loss: 0.1849 - accuracy: 0.9321\n",
      "Epoch 31/100\n",
      "101/101 [==============================] - 0s 1ms/step - loss: 0.1835 - accuracy: 0.9310\n",
      "Epoch 32/100\n",
      "101/101 [==============================] - 0s 1ms/step - loss: 0.1821 - accuracy: 0.9330\n",
      "Epoch 33/100\n",
      "101/101 [==============================] - 0s 1ms/step - loss: 0.1808 - accuracy: 0.9339\n",
      "Epoch 34/100\n",
      "101/101 [==============================] - 0s 1ms/step - loss: 0.1795 - accuracy: 0.9335\n",
      "Epoch 35/100\n",
      "101/101 [==============================] - 0s 1ms/step - loss: 0.1781 - accuracy: 0.9335\n",
      "Epoch 36/100\n",
      "101/101 [==============================] - 0s 1ms/step - loss: 0.1769 - accuracy: 0.9343\n",
      "Epoch 37/100\n",
      "101/101 [==============================] - 0s 1ms/step - loss: 0.1756 - accuracy: 0.9343\n",
      "Epoch 38/100\n",
      "101/101 [==============================] - 0s 1ms/step - loss: 0.1741 - accuracy: 0.9342\n",
      "Epoch 39/100\n",
      "101/101 [==============================] - 0s 1ms/step - loss: 0.1728 - accuracy: 0.9352\n",
      "Epoch 40/100\n",
      "101/101 [==============================] - 0s 1ms/step - loss: 0.1714 - accuracy: 0.9359\n",
      "Epoch 41/100\n",
      "101/101 [==============================] - 0s 2ms/step - loss: 0.1702 - accuracy: 0.9361\n",
      "Epoch 42/100\n",
      "101/101 [==============================] - 0s 1ms/step - loss: 0.1690 - accuracy: 0.9354\n",
      "Epoch 43/100\n",
      "101/101 [==============================] - 0s 1ms/step - loss: 0.1676 - accuracy: 0.9371\n",
      "Epoch 44/100\n",
      "101/101 [==============================] - 0s 1ms/step - loss: 0.1664 - accuracy: 0.9377\n",
      "Epoch 45/100\n",
      "101/101 [==============================] - 0s 1ms/step - loss: 0.1652 - accuracy: 0.9381\n",
      "Epoch 46/100\n",
      "101/101 [==============================] - 0s 1ms/step - loss: 0.1642 - accuracy: 0.9383\n",
      "Epoch 47/100\n",
      "101/101 [==============================] - 0s 1ms/step - loss: 0.1627 - accuracy: 0.9383\n",
      "Epoch 48/100\n",
      "101/101 [==============================] - 0s 1ms/step - loss: 0.1617 - accuracy: 0.9383\n",
      "Epoch 49/100\n",
      "101/101 [==============================] - 0s 1ms/step - loss: 0.1604 - accuracy: 0.9385\n",
      "Epoch 50/100\n",
      "101/101 [==============================] - 0s 1ms/step - loss: 0.1593 - accuracy: 0.9388\n",
      "Epoch 51/100\n",
      "101/101 [==============================] - 0s 1ms/step - loss: 0.1579 - accuracy: 0.9398\n",
      "Epoch 52/100\n",
      "101/101 [==============================] - 0s 1ms/step - loss: 0.1568 - accuracy: 0.9406\n",
      "Epoch 53/100\n",
      "101/101 [==============================] - 0s 1ms/step - loss: 0.1556 - accuracy: 0.9405\n",
      "Epoch 54/100\n",
      "101/101 [==============================] - 0s 1ms/step - loss: 0.1545 - accuracy: 0.9409\n",
      "Epoch 55/100\n",
      "101/101 [==============================] - 0s 1ms/step - loss: 0.1535 - accuracy: 0.9416\n",
      "Epoch 56/100\n",
      "101/101 [==============================] - 0s 1ms/step - loss: 0.1525 - accuracy: 0.9420\n",
      "Epoch 57/100\n",
      "101/101 [==============================] - 0s 1ms/step - loss: 0.1513 - accuracy: 0.9424\n",
      "Epoch 58/100\n",
      "101/101 [==============================] - 0s 1ms/step - loss: 0.1503 - accuracy: 0.9423\n",
      "Epoch 59/100\n",
      "101/101 [==============================] - 0s 1ms/step - loss: 0.1495 - accuracy: 0.9412\n",
      "Epoch 60/100\n",
      "101/101 [==============================] - 0s 1ms/step - loss: 0.1482 - accuracy: 0.9423\n",
      "Epoch 61/100\n",
      "101/101 [==============================] - 0s 1ms/step - loss: 0.1473 - accuracy: 0.9425\n",
      "Epoch 62/100\n",
      "101/101 [==============================] - 0s 1ms/step - loss: 0.1462 - accuracy: 0.9412\n",
      "Epoch 63/100\n",
      "101/101 [==============================] - 0s 1ms/step - loss: 0.1454 - accuracy: 0.9415\n",
      "Epoch 64/100\n",
      "101/101 [==============================] - 0s 1ms/step - loss: 0.1445 - accuracy: 0.9410\n",
      "Epoch 65/100\n",
      "101/101 [==============================] - 0s 1ms/step - loss: 0.1433 - accuracy: 0.9425\n",
      "Epoch 66/100\n",
      "101/101 [==============================] - 0s 1ms/step - loss: 0.1426 - accuracy: 0.9426\n",
      "Epoch 67/100\n",
      "101/101 [==============================] - 0s 1ms/step - loss: 0.1416 - accuracy: 0.9441\n",
      "Epoch 68/100\n",
      "101/101 [==============================] - 0s 1ms/step - loss: 0.1406 - accuracy: 0.9434\n",
      "Epoch 69/100\n",
      "101/101 [==============================] - 0s 1ms/step - loss: 0.1398 - accuracy: 0.9433\n",
      "Epoch 70/100\n",
      "101/101 [==============================] - 0s 1ms/step - loss: 0.1388 - accuracy: 0.9445\n",
      "Epoch 71/100\n",
      "101/101 [==============================] - 0s 1ms/step - loss: 0.1378 - accuracy: 0.9435\n",
      "Epoch 72/100\n",
      "101/101 [==============================] - 0s 1ms/step - loss: 0.1370 - accuracy: 0.9431\n",
      "Epoch 73/100\n",
      "101/101 [==============================] - 0s 1ms/step - loss: 0.1363 - accuracy: 0.9440\n",
      "Epoch 74/100\n",
      "101/101 [==============================] - 0s 1ms/step - loss: 0.1353 - accuracy: 0.9442\n",
      "Epoch 75/100\n",
      "101/101 [==============================] - 0s 1ms/step - loss: 0.1351 - accuracy: 0.9453\n",
      "Epoch 76/100\n",
      "101/101 [==============================] - 0s 1ms/step - loss: 0.1339 - accuracy: 0.9454\n",
      "Epoch 77/100\n",
      "101/101 [==============================] - 0s 1ms/step - loss: 0.1330 - accuracy: 0.9464\n",
      "Epoch 78/100\n",
      "101/101 [==============================] - 0s 1ms/step - loss: 0.1323 - accuracy: 0.9464\n",
      "Epoch 79/100\n",
      "101/101 [==============================] - 0s 1ms/step - loss: 0.1317 - accuracy: 0.9454\n",
      "Epoch 80/100\n",
      "101/101 [==============================] - 0s 1ms/step - loss: 0.1308 - accuracy: 0.9465\n",
      "Epoch 81/100\n",
      "101/101 [==============================] - 0s 1ms/step - loss: 0.1298 - accuracy: 0.9458\n",
      "Epoch 82/100\n",
      "101/101 [==============================] - 0s 1ms/step - loss: 0.1293 - accuracy: 0.9463\n",
      "Epoch 83/100\n",
      "101/101 [==============================] - 0s 1ms/step - loss: 0.1284 - accuracy: 0.9467\n",
      "Epoch 84/100\n",
      "101/101 [==============================] - 0s 1ms/step - loss: 0.1277 - accuracy: 0.9467\n",
      "Epoch 85/100\n",
      "101/101 [==============================] - 0s 1ms/step - loss: 0.1271 - accuracy: 0.9466\n",
      "Epoch 86/100\n",
      "101/101 [==============================] - 0s 1ms/step - loss: 0.1262 - accuracy: 0.9485\n",
      "Epoch 87/100\n",
      "101/101 [==============================] - 0s 1ms/step - loss: 0.1255 - accuracy: 0.9490\n",
      "Epoch 88/100\n",
      "101/101 [==============================] - 0s 1ms/step - loss: 0.1246 - accuracy: 0.9499\n",
      "Epoch 89/100\n",
      "101/101 [==============================] - 0s 1ms/step - loss: 0.1241 - accuracy: 0.9483\n",
      "Epoch 90/100\n",
      "101/101 [==============================] - 0s 1ms/step - loss: 0.1232 - accuracy: 0.9492\n",
      "Epoch 91/100\n",
      "101/101 [==============================] - 0s 1ms/step - loss: 0.1225 - accuracy: 0.9490\n",
      "Epoch 92/100\n",
      "101/101 [==============================] - 0s 1ms/step - loss: 0.1215 - accuracy: 0.9497\n",
      "Epoch 93/100\n",
      "101/101 [==============================] - 0s 1ms/step - loss: 0.1209 - accuracy: 0.9501\n",
      "Epoch 94/100\n",
      "101/101 [==============================] - 0s 1ms/step - loss: 0.1203 - accuracy: 0.9499\n",
      "Epoch 95/100\n",
      "101/101 [==============================] - 0s 1ms/step - loss: 0.1195 - accuracy: 0.9502\n",
      "Epoch 96/100\n",
      "101/101 [==============================] - 0s 2ms/step - loss: 0.1189 - accuracy: 0.9501\n",
      "Epoch 97/100\n",
      "101/101 [==============================] - 0s 2ms/step - loss: 0.1181 - accuracy: 0.9503\n",
      "Epoch 98/100\n",
      "101/101 [==============================] - 0s 1ms/step - loss: 0.1175 - accuracy: 0.9506\n",
      "Epoch 99/100\n",
      "101/101 [==============================] - 0s 1ms/step - loss: 0.1168 - accuracy: 0.9510\n",
      "Epoch 100/100\n",
      "101/101 [==============================] - 0s 1ms/step - loss: 0.1160 - accuracy: 0.9521\n",
      "INFO:tensorflow:Assets written to: ./structured_data_classifier/best_model/assets\n"
     ]
    }
   ],
   "source": [
    "clf.fit(x=X_train, y=y_train, epochs=100)"
   ]
  },
  {
   "cell_type": "code",
   "execution_count": 104,
   "id": "143e2608-1a83-4d06-89c3-1cd4e2cf5a3c",
   "metadata": {
    "collapsed": true,
    "jupyter": {
     "outputs_hidden": true
    },
    "tags": []
   },
   "outputs": [
    {
     "name": "stdout",
     "output_type": "stream",
     "text": [
      "WARNING:tensorflow:5 out of the last 5 calls to <function recreate_function.<locals>.restored_function_body at 0x1843d1158> triggered tf.function retracing. Tracing is expensive and the excessive number of tracings could be due to (1) creating @tf.function repeatedly in a loop, (2) passing tensors with different shapes, (3) passing Python objects instead of tensors. For (1), please define your @tf.function outside of the loop. For (2), @tf.function has experimental_relax_shapes=True option that relaxes argument shapes that can avoid unnecessary retracing. For (3), please refer to https://www.tensorflow.org/guide/function#controlling_retracing and https://www.tensorflow.org/api_docs/python/tf/function for  more details.\n",
      "WARNING:tensorflow:6 out of the last 6 calls to <function recreate_function.<locals>.restored_function_body at 0x1824dcea0> triggered tf.function retracing. Tracing is expensive and the excessive number of tracings could be due to (1) creating @tf.function repeatedly in a loop, (2) passing tensors with different shapes, (3) passing Python objects instead of tensors. For (1), please define your @tf.function outside of the loop. For (2), @tf.function has experimental_relax_shapes=True option that relaxes argument shapes that can avoid unnecessary retracing. For (3), please refer to https://www.tensorflow.org/guide/function#controlling_retracing and https://www.tensorflow.org/api_docs/python/tf/function for  more details.\n",
      "WARNING:tensorflow:7 out of the last 7 calls to <function recreate_function.<locals>.restored_function_body at 0x1824dc8c8> triggered tf.function retracing. Tracing is expensive and the excessive number of tracings could be due to (1) creating @tf.function repeatedly in a loop, (2) passing tensors with different shapes, (3) passing Python objects instead of tensors. For (1), please define your @tf.function outside of the loop. For (2), @tf.function has experimental_relax_shapes=True option that relaxes argument shapes that can avoid unnecessary retracing. For (3), please refer to https://www.tensorflow.org/guide/function#controlling_retracing and https://www.tensorflow.org/api_docs/python/tf/function for  more details.\n",
      "WARNING:tensorflow:8 out of the last 8 calls to <function recreate_function.<locals>.restored_function_body at 0x1843d16a8> triggered tf.function retracing. Tracing is expensive and the excessive number of tracings could be due to (1) creating @tf.function repeatedly in a loop, (2) passing tensors with different shapes, (3) passing Python objects instead of tensors. For (1), please define your @tf.function outside of the loop. For (2), @tf.function has experimental_relax_shapes=True option that relaxes argument shapes that can avoid unnecessary retracing. For (3), please refer to https://www.tensorflow.org/guide/function#controlling_retracing and https://www.tensorflow.org/api_docs/python/tf/function for  more details.\n",
      "WARNING:tensorflow:9 out of the last 9 calls to <function recreate_function.<locals>.restored_function_body at 0x1843bd158> triggered tf.function retracing. Tracing is expensive and the excessive number of tracings could be due to (1) creating @tf.function repeatedly in a loop, (2) passing tensors with different shapes, (3) passing Python objects instead of tensors. For (1), please define your @tf.function outside of the loop. For (2), @tf.function has experimental_relax_shapes=True option that relaxes argument shapes that can avoid unnecessary retracing. For (3), please refer to https://www.tensorflow.org/guide/function#controlling_retracing and https://www.tensorflow.org/api_docs/python/tf/function for  more details.\n",
      "WARNING:tensorflow:10 out of the last 10 calls to <function recreate_function.<locals>.restored_function_body at 0x1824f5a60> triggered tf.function retracing. Tracing is expensive and the excessive number of tracings could be due to (1) creating @tf.function repeatedly in a loop, (2) passing tensors with different shapes, (3) passing Python objects instead of tensors. For (1), please define your @tf.function outside of the loop. For (2), @tf.function has experimental_relax_shapes=True option that relaxes argument shapes that can avoid unnecessary retracing. For (3), please refer to https://www.tensorflow.org/guide/function#controlling_retracing and https://www.tensorflow.org/api_docs/python/tf/function for  more details.\n",
      "WARNING:tensorflow:11 out of the last 11 calls to <function recreate_function.<locals>.restored_function_body at 0x184112400> triggered tf.function retracing. Tracing is expensive and the excessive number of tracings could be due to (1) creating @tf.function repeatedly in a loop, (2) passing tensors with different shapes, (3) passing Python objects instead of tensors. For (1), please define your @tf.function outside of the loop. For (2), @tf.function has experimental_relax_shapes=True option that relaxes argument shapes that can avoid unnecessary retracing. For (3), please refer to https://www.tensorflow.org/guide/function#controlling_retracing and https://www.tensorflow.org/api_docs/python/tf/function for  more details.\n",
      "WARNING:tensorflow:11 out of the last 11 calls to <function recreate_function.<locals>.restored_function_body at 0x184112ea0> triggered tf.function retracing. Tracing is expensive and the excessive number of tracings could be due to (1) creating @tf.function repeatedly in a loop, (2) passing tensors with different shapes, (3) passing Python objects instead of tensors. For (1), please define your @tf.function outside of the loop. For (2), @tf.function has experimental_relax_shapes=True option that relaxes argument shapes that can avoid unnecessary retracing. For (3), please refer to https://www.tensorflow.org/guide/function#controlling_retracing and https://www.tensorflow.org/api_docs/python/tf/function for  more details.\n",
      "WARNING:tensorflow:11 out of the last 11 calls to <function recreate_function.<locals>.restored_function_body at 0x1843bd950> triggered tf.function retracing. Tracing is expensive and the excessive number of tracings could be due to (1) creating @tf.function repeatedly in a loop, (2) passing tensors with different shapes, (3) passing Python objects instead of tensors. For (1), please define your @tf.function outside of the loop. For (2), @tf.function has experimental_relax_shapes=True option that relaxes argument shapes that can avoid unnecessary retracing. For (3), please refer to https://www.tensorflow.org/guide/function#controlling_retracing and https://www.tensorflow.org/api_docs/python/tf/function for  more details.\n",
      "WARNING:tensorflow:11 out of the last 11 calls to <function recreate_function.<locals>.restored_function_body at 0x1824ca950> triggered tf.function retracing. Tracing is expensive and the excessive number of tracings could be due to (1) creating @tf.function repeatedly in a loop, (2) passing tensors with different shapes, (3) passing Python objects instead of tensors. For (1), please define your @tf.function outside of the loop. For (2), @tf.function has experimental_relax_shapes=True option that relaxes argument shapes that can avoid unnecessary retracing. For (3), please refer to https://www.tensorflow.org/guide/function#controlling_retracing and https://www.tensorflow.org/api_docs/python/tf/function for  more details.\n",
      "WARNING:tensorflow:11 out of the last 11 calls to <function recreate_function.<locals>.restored_function_body at 0x1840e4730> triggered tf.function retracing. Tracing is expensive and the excessive number of tracings could be due to (1) creating @tf.function repeatedly in a loop, (2) passing tensors with different shapes, (3) passing Python objects instead of tensors. For (1), please define your @tf.function outside of the loop. For (2), @tf.function has experimental_relax_shapes=True option that relaxes argument shapes that can avoid unnecessary retracing. For (3), please refer to https://www.tensorflow.org/guide/function#controlling_retracing and https://www.tensorflow.org/api_docs/python/tf/function for  more details.\n",
      "WARNING:tensorflow:11 out of the last 11 calls to <function recreate_function.<locals>.restored_function_body at 0x184119950> triggered tf.function retracing. Tracing is expensive and the excessive number of tracings could be due to (1) creating @tf.function repeatedly in a loop, (2) passing tensors with different shapes, (3) passing Python objects instead of tensors. For (1), please define your @tf.function outside of the loop. For (2), @tf.function has experimental_relax_shapes=True option that relaxes argument shapes that can avoid unnecessary retracing. For (3), please refer to https://www.tensorflow.org/guide/function#controlling_retracing and https://www.tensorflow.org/api_docs/python/tf/function for  more details.\n",
      "WARNING:tensorflow:11 out of the last 11 calls to <function recreate_function.<locals>.restored_function_body at 0x1824dcd08> triggered tf.function retracing. Tracing is expensive and the excessive number of tracings could be due to (1) creating @tf.function repeatedly in a loop, (2) passing tensors with different shapes, (3) passing Python objects instead of tensors. For (1), please define your @tf.function outside of the loop. For (2), @tf.function has experimental_relax_shapes=True option that relaxes argument shapes that can avoid unnecessary retracing. For (3), please refer to https://www.tensorflow.org/guide/function#controlling_retracing and https://www.tensorflow.org/api_docs/python/tf/function for  more details.\n"
     ]
    }
   ],
   "source": [
    "predicted_y = clf.predict(X_test)"
   ]
  },
  {
   "cell_type": "code",
   "execution_count": 105,
   "id": "b9a38f03-ed92-495d-840a-cc2748ba475f",
   "metadata": {},
   "outputs": [
    {
     "data": {
      "text/plain": [
       "array([['No'],\n",
       "       ['No'],\n",
       "       ['No'],\n",
       "       ...,\n",
       "       ['No'],\n",
       "       ['No'],\n",
       "       ['No']], dtype='<U3')"
      ]
     },
     "execution_count": 105,
     "metadata": {},
     "output_type": "execute_result"
    }
   ],
   "source": [
    "predicted_y"
   ]
  },
  {
   "cell_type": "code",
   "execution_count": 106,
   "id": "4be21438-3b00-417f-8bab-e105ac164f07",
   "metadata": {},
   "outputs": [
    {
     "name": "stdout",
     "output_type": "stream",
     "text": [
      "              precision    recall  f1-score   support\n",
      "\n",
      "          No       0.93      0.96      0.95      1449\n",
      "         Yes       0.36      0.22      0.27       131\n",
      "\n",
      "    accuracy                           0.90      1580\n",
      "   macro avg       0.65      0.59      0.61      1580\n",
      "weighted avg       0.88      0.90      0.89      1580\n",
      "\n"
     ]
    }
   ],
   "source": [
    "print(classification_report(y_test, predicted_y))"
   ]
  },
  {
   "cell_type": "markdown",
   "id": "b3d45acc-af8c-433c-b54e-cb5084cfe828",
   "metadata": {},
   "source": [
    "# Own model"
   ]
  },
  {
   "cell_type": "code",
   "execution_count": 174,
   "id": "dfb31d41-34ab-49cc-a5f1-20611d68164a",
   "metadata": {},
   "outputs": [],
   "source": [
    "import sklearn"
   ]
  },
  {
   "cell_type": "code",
   "execution_count": 175,
   "id": "9737de8f-d110-404a-b32e-f4416b252f28",
   "metadata": {},
   "outputs": [],
   "source": [
    "from keras.layers import Dense, Dropout\n",
    "from keras.models import Model, Sequential\n",
    "from keras.wrappers.scikit_learn import KerasClassifier\n",
    "from keras.callbacks import EarlyStopping"
   ]
  },
  {
   "cell_type": "code",
   "execution_count": 176,
   "id": "91aa9baa-4bd9-4964-8b9d-9400c11e7a26",
   "metadata": {},
   "outputs": [],
   "source": [
    "# Count samples per class\n",
    "classes_churn = df[df['Churn'] == 'Yes']\n",
    "classes_no_churn = df[df['Churn'] == 'No']\n",
    "\n",
    "# Convert parts into NumPy arrays for weight computation\n",
    "churn_numpy = classes_churn['Churn'].to_numpy()\n",
    "no_churn_numpy = classes_no_churn['Churn'].to_numpy()\n",
    "all_together = np.concatenate((churn_numpy, no_churn_numpy))\n",
    "unique_classes = np.unique(all_together)"
   ]
  },
  {
   "cell_type": "code",
   "execution_count": 177,
   "id": "08699561-93a2-4cef-8706-e2bc604d4c16",
   "metadata": {},
   "outputs": [],
   "source": [
    "weights = sklearn.utils.class_weight.compute_class_weight('balanced', unique_classes, all_together)"
   ]
  },
  {
   "cell_type": "code",
   "execution_count": 179,
   "id": "c737640e-a6fa-4b45-9b33-d8059d36ab69",
   "metadata": {},
   "outputs": [],
   "source": [
    "def create_model(optimizer='adam'):\n",
    "    model = Sequential()\n",
    "    \n",
    "    model.add(Dense(100, activation='relu'))\n",
    "    model.add(Dropout(0.2))\n",
    "    model.add(Dense(100, activation='relu'))\n",
    "    model.add(Dropout(0.2))\n",
    "    model.add(Dense(1, activation='sigmoid'))\n",
    "    \n",
    "    model.compile(loss='binary_crossentropy',optimizer=optimizer, metrics=['accuracy', keras.metrics.Precision(name='precision'),keras.metrics.Recall(name='recall')])\n",
    "    \n",
    "    return model"
   ]
  },
  {
   "cell_type": "code",
   "execution_count": 180,
   "id": "23a9c8ba-d59e-424c-a714-d9218269da56",
   "metadata": {},
   "outputs": [],
   "source": [
    "early_stopping = EarlyStopping(monitor='val_loss', mode='min', verbose=1, patience=25)"
   ]
  },
  {
   "cell_type": "code",
   "execution_count": 186,
   "id": "ce746dd2-6347-423d-975a-e8757c530e08",
   "metadata": {},
   "outputs": [],
   "source": [
    "pipeline = make_pipeline(\n",
    "    make_union(\n",
    "        make_pipeline(\n",
    "        DTypeSelector('number'),\n",
    "        SimpleImputer(),\n",
    "        StandardScaler()\n",
    "    ),\n",
    "        make_pipeline(\n",
    "        DTypeSelector('object'),\n",
    "        SimpleImputer(strategy='most_frequent'),\n",
    "        OneHotEncoder()\n",
    "    )\n",
    "    ),\n",
    "    KerasClassifier(build_fn=create_model,verbose=1, epochs=100, batch_size=32, callbacks=[early_stopping])\n",
    ")"
   ]
  },
  {
   "cell_type": "code",
   "execution_count": 187,
   "id": "38c04df8-e6f0-4357-9275-06bc87b55473",
   "metadata": {
    "collapsed": true,
    "jupyter": {
     "outputs_hidden": true
    },
    "tags": []
   },
   "outputs": [
    {
     "name": "stdout",
     "output_type": "stream",
     "text": [
      "Epoch 1/100\n",
      "101/101 [==============================] - 1s 1ms/step - loss: 0.3706 - accuracy: 0.8412 - precision: 0.1100 - recall: 0.1198\n",
      "WARNING:tensorflow:Early stopping conditioned on metric `val_loss` which is not available. Available metrics are: loss,accuracy,precision,recall\n",
      "Epoch 2/100\n",
      "101/101 [==============================] - 0s 1ms/step - loss: 0.2240 - accuracy: 0.9234 - precision: 0.2704 - recall: 0.0034   \n",
      "WARNING:tensorflow:Early stopping conditioned on metric `val_loss` which is not available. Available metrics are: loss,accuracy,precision,recall\n",
      "Epoch 3/100\n",
      "101/101 [==============================] - 0s 1ms/step - loss: 0.2142 - accuracy: 0.9251 - precision: 0.6849 - recall: 0.0212  \n",
      "WARNING:tensorflow:Early stopping conditioned on metric `val_loss` which is not available. Available metrics are: loss,accuracy,precision,recall\n",
      "Epoch 4/100\n",
      "101/101 [==============================] - 0s 1ms/step - loss: 0.2114 - accuracy: 0.9223 - precision: 0.3415 - recall: 0.0078  \n",
      "WARNING:tensorflow:Early stopping conditioned on metric `val_loss` which is not available. Available metrics are: loss,accuracy,precision,recall\n",
      "Epoch 5/100\n",
      "101/101 [==============================] - 0s 1ms/step - loss: 0.2239 - accuracy: 0.9171 - precision: 0.5441 - recall: 0.0041  \n",
      "WARNING:tensorflow:Early stopping conditioned on metric `val_loss` which is not available. Available metrics are: loss,accuracy,precision,recall\n",
      "Epoch 6/100\n",
      "101/101 [==============================] - 0s 1ms/step - loss: 0.2174 - accuracy: 0.9211 - precision: 0.2993 - recall: 0.0059  \n",
      "WARNING:tensorflow:Early stopping conditioned on metric `val_loss` which is not available. Available metrics are: loss,accuracy,precision,recall\n",
      "Epoch 7/100\n",
      "101/101 [==============================] - 0s 1ms/step - loss: 0.2129 - accuracy: 0.9220 - precision: 0.8711 - recall: 0.0571\n",
      "WARNING:tensorflow:Early stopping conditioned on metric `val_loss` which is not available. Available metrics are: loss,accuracy,precision,recall\n",
      "Epoch 8/100\n",
      "101/101 [==============================] - 0s 1ms/step - loss: 0.2031 - accuracy: 0.9252 - precision: 0.6641 - recall: 0.0185  \n",
      "WARNING:tensorflow:Early stopping conditioned on metric `val_loss` which is not available. Available metrics are: loss,accuracy,precision,recall\n",
      "Epoch 9/100\n",
      "101/101 [==============================] - 0s 1ms/step - loss: 0.2118 - accuracy: 0.9185 - precision: 0.5842 - recall: 0.0319  \n",
      "WARNING:tensorflow:Early stopping conditioned on metric `val_loss` which is not available. Available metrics are: loss,accuracy,precision,recall\n",
      "Epoch 10/100\n",
      "101/101 [==============================] - 0s 1ms/step - loss: 0.2039 - accuracy: 0.9247 - precision: 0.4465 - recall: 0.0237  \n",
      "WARNING:tensorflow:Early stopping conditioned on metric `val_loss` which is not available. Available metrics are: loss,accuracy,precision,recall\n",
      "Epoch 11/100\n",
      "101/101 [==============================] - 0s 1ms/step - loss: 0.2133 - accuracy: 0.9213 - precision: 0.7721 - recall: 0.0868  \n",
      "WARNING:tensorflow:Early stopping conditioned on metric `val_loss` which is not available. Available metrics are: loss,accuracy,precision,recall\n",
      "Epoch 12/100\n",
      "101/101 [==============================] - 0s 1ms/step - loss: 0.2035 - accuracy: 0.9240 - precision: 0.4864 - recall: 0.0387  \n",
      "WARNING:tensorflow:Early stopping conditioned on metric `val_loss` which is not available. Available metrics are: loss,accuracy,precision,recall\n",
      "Epoch 13/100\n",
      "101/101 [==============================] - 0s 1ms/step - loss: 0.2004 - accuracy: 0.9234 - precision: 0.5990 - recall: 0.0281  \n",
      "WARNING:tensorflow:Early stopping conditioned on metric `val_loss` which is not available. Available metrics are: loss,accuracy,precision,recall\n",
      "Epoch 14/100\n",
      "101/101 [==============================] - 0s 1ms/step - loss: 0.1887 - accuracy: 0.9302 - precision: 0.8503 - recall: 0.1062  \n",
      "WARNING:tensorflow:Early stopping conditioned on metric `val_loss` which is not available. Available metrics are: loss,accuracy,precision,recall\n",
      "Epoch 15/100\n",
      "101/101 [==============================] - 0s 1ms/step - loss: 0.1920 - accuracy: 0.9265 - precision: 0.7314 - recall: 0.0777  \n",
      "WARNING:tensorflow:Early stopping conditioned on metric `val_loss` which is not available. Available metrics are: loss,accuracy,precision,recall\n",
      "Epoch 16/100\n",
      "101/101 [==============================] - 0s 1ms/step - loss: 0.1876 - accuracy: 0.9240 - precision: 0.5358 - recall: 0.1099  \n",
      "WARNING:tensorflow:Early stopping conditioned on metric `val_loss` which is not available. Available metrics are: loss,accuracy,precision,recall\n",
      "Epoch 17/100\n",
      "101/101 [==============================] - 0s 1ms/step - loss: 0.1904 - accuracy: 0.9284 - precision: 0.6958 - recall: 0.1130  \n",
      "WARNING:tensorflow:Early stopping conditioned on metric `val_loss` which is not available. Available metrics are: loss,accuracy,precision,recall\n",
      "Epoch 18/100\n",
      "101/101 [==============================] - 0s 1ms/step - loss: 0.2010 - accuracy: 0.9203 - precision: 0.4675 - recall: 0.0478  \n",
      "WARNING:tensorflow:Early stopping conditioned on metric `val_loss` which is not available. Available metrics are: loss,accuracy,precision,recall\n",
      "Epoch 19/100\n",
      "101/101 [==============================] - 0s 1ms/step - loss: 0.2005 - accuracy: 0.9185 - precision: 0.5366 - recall: 0.1145  \n",
      "WARNING:tensorflow:Early stopping conditioned on metric `val_loss` which is not available. Available metrics are: loss,accuracy,precision,recall\n",
      "Epoch 20/100\n",
      "101/101 [==============================] - 0s 1ms/step - loss: 0.1801 - accuracy: 0.9288 - precision: 0.5727 - recall: 0.1245  \n",
      "WARNING:tensorflow:Early stopping conditioned on metric `val_loss` which is not available. Available metrics are: loss,accuracy,precision,recall\n",
      "Epoch 21/100\n",
      "101/101 [==============================] - 0s 1ms/step - loss: 0.1770 - accuracy: 0.9299 - precision: 0.6753 - recall: 0.1549  \n",
      "WARNING:tensorflow:Early stopping conditioned on metric `val_loss` which is not available. Available metrics are: loss,accuracy,precision,recall\n",
      "Epoch 22/100\n",
      "101/101 [==============================] - 0s 1ms/step - loss: 0.1805 - accuracy: 0.9280 - precision: 0.6469 - recall: 0.1453  \n",
      "WARNING:tensorflow:Early stopping conditioned on metric `val_loss` which is not available. Available metrics are: loss,accuracy,precision,recall\n",
      "Epoch 23/100\n",
      "101/101 [==============================] - 0s 1ms/step - loss: 0.1857 - accuracy: 0.9233 - precision: 0.5857 - recall: 0.1254  \n",
      "WARNING:tensorflow:Early stopping conditioned on metric `val_loss` which is not available. Available metrics are: loss,accuracy,precision,recall\n",
      "Epoch 24/100\n",
      "101/101 [==============================] - 0s 1ms/step - loss: 0.1895 - accuracy: 0.9269 - precision: 0.7649 - recall: 0.1171\n",
      "WARNING:tensorflow:Early stopping conditioned on metric `val_loss` which is not available. Available metrics are: loss,accuracy,precision,recall\n",
      "Epoch 25/100\n",
      "101/101 [==============================] - 0s 2ms/step - loss: 0.1791 - accuracy: 0.9269 - precision: 0.6273 - recall: 0.1726 \n",
      "WARNING:tensorflow:Early stopping conditioned on metric `val_loss` which is not available. Available metrics are: loss,accuracy,precision,recall\n",
      "Epoch 26/100\n",
      "101/101 [==============================] - 0s 2ms/step - loss: 0.1770 - accuracy: 0.9324 - precision: 0.6852 - recall: 0.2455\n",
      "WARNING:tensorflow:Early stopping conditioned on metric `val_loss` which is not available. Available metrics are: loss,accuracy,precision,recall\n",
      "Epoch 27/100\n",
      "101/101 [==============================] - 0s 1ms/step - loss: 0.1764 - accuracy: 0.9238 - precision: 0.5971 - recall: 0.1714  \n",
      "WARNING:tensorflow:Early stopping conditioned on metric `val_loss` which is not available. Available metrics are: loss,accuracy,precision,recall\n",
      "Epoch 28/100\n",
      "101/101 [==============================] - 0s 1ms/step - loss: 0.1627 - accuracy: 0.9297 - precision: 0.7086 - recall: 0.2337  \n",
      "WARNING:tensorflow:Early stopping conditioned on metric `val_loss` which is not available. Available metrics are: loss,accuracy,precision,recall\n",
      "Epoch 29/100\n",
      "101/101 [==============================] - 0s 1ms/step - loss: 0.1678 - accuracy: 0.9297 - precision: 0.6630 - recall: 0.1875  \n",
      "WARNING:tensorflow:Early stopping conditioned on metric `val_loss` which is not available. Available metrics are: loss,accuracy,precision,recall\n",
      "Epoch 30/100\n",
      "101/101 [==============================] - 0s 1ms/step - loss: 0.1698 - accuracy: 0.9250 - precision: 0.6578 - recall: 0.2512\n",
      "WARNING:tensorflow:Early stopping conditioned on metric `val_loss` which is not available. Available metrics are: loss,accuracy,precision,recall\n",
      "Epoch 31/100\n",
      "101/101 [==============================] - 0s 999us/step - loss: 0.1710 - accuracy: 0.9282 - precision: 0.7288 - recall: 0.2265 \n",
      "WARNING:tensorflow:Early stopping conditioned on metric `val_loss` which is not available. Available metrics are: loss,accuracy,precision,recall\n",
      "Epoch 32/100\n",
      "101/101 [==============================] - 0s 1ms/step - loss: 0.1750 - accuracy: 0.9264 - precision: 0.6696 - recall: 0.2845  \n",
      "WARNING:tensorflow:Early stopping conditioned on metric `val_loss` which is not available. Available metrics are: loss,accuracy,precision,recall\n",
      "Epoch 33/100\n",
      "101/101 [==============================] - 0s 1ms/step - loss: 0.1449 - accuracy: 0.9379 - precision: 0.6973 - recall: 0.2588  \n",
      "WARNING:tensorflow:Early stopping conditioned on metric `val_loss` which is not available. Available metrics are: loss,accuracy,precision,recall\n",
      "Epoch 34/100\n",
      "101/101 [==============================] - 0s 1ms/step - loss: 0.1520 - accuracy: 0.9389 - precision: 0.7586 - recall: 0.2432\n",
      "WARNING:tensorflow:Early stopping conditioned on metric `val_loss` which is not available. Available metrics are: loss,accuracy,precision,recall\n",
      "Epoch 35/100\n",
      "101/101 [==============================] - 0s 1ms/step - loss: 0.1546 - accuracy: 0.9362 - precision: 0.7128 - recall: 0.2861\n",
      "WARNING:tensorflow:Early stopping conditioned on metric `val_loss` which is not available. Available metrics are: loss,accuracy,precision,recall\n",
      "Epoch 36/100\n",
      "101/101 [==============================] - 0s 1ms/step - loss: 0.1663 - accuracy: 0.9265 - precision: 0.6579 - recall: 0.3425\n",
      "WARNING:tensorflow:Early stopping conditioned on metric `val_loss` which is not available. Available metrics are: loss,accuracy,precision,recall\n",
      "Epoch 37/100\n",
      "101/101 [==============================] - 0s 1ms/step - loss: 0.1593 - accuracy: 0.9314 - precision: 0.6412 - recall: 0.3154  \n",
      "WARNING:tensorflow:Early stopping conditioned on metric `val_loss` which is not available. Available metrics are: loss,accuracy,precision,recall\n",
      "Epoch 38/100\n",
      "101/101 [==============================] - 0s 1ms/step - loss: 0.1545 - accuracy: 0.9276 - precision: 0.6619 - recall: 0.3118\n",
      "WARNING:tensorflow:Early stopping conditioned on metric `val_loss` which is not available. Available metrics are: loss,accuracy,precision,recall\n",
      "Epoch 39/100\n",
      "101/101 [==============================] - 0s 1ms/step - loss: 0.1524 - accuracy: 0.9334 - precision: 0.7272 - recall: 0.3387\n",
      "WARNING:tensorflow:Early stopping conditioned on metric `val_loss` which is not available. Available metrics are: loss,accuracy,precision,recall\n",
      "Epoch 40/100\n",
      "101/101 [==============================] - 0s 1ms/step - loss: 0.1438 - accuracy: 0.9413 - precision: 0.7776 - recall: 0.4007  \n",
      "WARNING:tensorflow:Early stopping conditioned on metric `val_loss` which is not available. Available metrics are: loss,accuracy,precision,recall\n",
      "Epoch 41/100\n",
      "101/101 [==============================] - 0s 1ms/step - loss: 0.1490 - accuracy: 0.9357 - precision: 0.6688 - recall: 0.3354  \n",
      "WARNING:tensorflow:Early stopping conditioned on metric `val_loss` which is not available. Available metrics are: loss,accuracy,precision,recall\n",
      "Epoch 42/100\n",
      "101/101 [==============================] - 0s 1ms/step - loss: 0.1443 - accuracy: 0.9342 - precision: 0.7036 - recall: 0.3437\n",
      "WARNING:tensorflow:Early stopping conditioned on metric `val_loss` which is not available. Available metrics are: loss,accuracy,precision,recall\n",
      "Epoch 43/100\n",
      "101/101 [==============================] - 0s 1ms/step - loss: 0.1499 - accuracy: 0.9367 - precision: 0.7340 - recall: 0.3436  \n",
      "WARNING:tensorflow:Early stopping conditioned on metric `val_loss` which is not available. Available metrics are: loss,accuracy,precision,recall\n",
      "Epoch 44/100\n",
      "101/101 [==============================] - 0s 1ms/step - loss: 0.1422 - accuracy: 0.9453 - precision: 0.8203 - recall: 0.3893  \n",
      "WARNING:tensorflow:Early stopping conditioned on metric `val_loss` which is not available. Available metrics are: loss,accuracy,precision,recall\n",
      "Epoch 45/100\n",
      "101/101 [==============================] - 0s 1ms/step - loss: 0.1525 - accuracy: 0.9307 - precision: 0.6885 - recall: 0.3105  \n",
      "WARNING:tensorflow:Early stopping conditioned on metric `val_loss` which is not available. Available metrics are: loss,accuracy,precision,recall\n",
      "Epoch 46/100\n",
      "101/101 [==============================] - 0s 1ms/step - loss: 0.1475 - accuracy: 0.9348 - precision: 0.7238 - recall: 0.4065\n",
      "WARNING:tensorflow:Early stopping conditioned on metric `val_loss` which is not available. Available metrics are: loss,accuracy,precision,recall\n",
      "Epoch 47/100\n",
      "101/101 [==============================] - 0s 1ms/step - loss: 0.1295 - accuracy: 0.9465 - precision: 0.7868 - recall: 0.4434\n",
      "WARNING:tensorflow:Early stopping conditioned on metric `val_loss` which is not available. Available metrics are: loss,accuracy,precision,recall\n",
      "Epoch 48/100\n",
      "101/101 [==============================] - 0s 1ms/step - loss: 0.1313 - accuracy: 0.9476 - precision: 0.8001 - recall: 0.4303  \n",
      "WARNING:tensorflow:Early stopping conditioned on metric `val_loss` which is not available. Available metrics are: loss,accuracy,precision,recall\n",
      "Epoch 49/100\n",
      "101/101 [==============================] - 0s 1ms/step - loss: 0.1371 - accuracy: 0.9413 - precision: 0.7416 - recall: 0.4274\n",
      "WARNING:tensorflow:Early stopping conditioned on metric `val_loss` which is not available. Available metrics are: loss,accuracy,precision,recall\n",
      "Epoch 50/100\n",
      "101/101 [==============================] - 0s 1ms/step - loss: 0.1296 - accuracy: 0.9443 - precision: 0.7891 - recall: 0.4610\n",
      "WARNING:tensorflow:Early stopping conditioned on metric `val_loss` which is not available. Available metrics are: loss,accuracy,precision,recall\n",
      "Epoch 51/100\n",
      "101/101 [==============================] - 0s 1ms/step - loss: 0.1376 - accuracy: 0.9394 - precision: 0.7376 - recall: 0.5177\n",
      "WARNING:tensorflow:Early stopping conditioned on metric `val_loss` which is not available. Available metrics are: loss,accuracy,precision,recall\n",
      "Epoch 52/100\n",
      "101/101 [==============================] - 0s 1ms/step - loss: 0.1246 - accuracy: 0.9461 - precision: 0.7652 - recall: 0.4358\n",
      "WARNING:tensorflow:Early stopping conditioned on metric `val_loss` which is not available. Available metrics are: loss,accuracy,precision,recall\n",
      "Epoch 53/100\n",
      "101/101 [==============================] - 0s 1ms/step - loss: 0.1253 - accuracy: 0.9490 - precision: 0.7900 - recall: 0.4610\n",
      "WARNING:tensorflow:Early stopping conditioned on metric `val_loss` which is not available. Available metrics are: loss,accuracy,precision,recall\n",
      "Epoch 54/100\n",
      "101/101 [==============================] - 0s 1ms/step - loss: 0.1231 - accuracy: 0.9462 - precision: 0.7992 - recall: 0.4781\n",
      "WARNING:tensorflow:Early stopping conditioned on metric `val_loss` which is not available. Available metrics are: loss,accuracy,precision,recall\n",
      "Epoch 55/100\n",
      "101/101 [==============================] - 0s 1ms/step - loss: 0.1195 - accuracy: 0.9503 - precision: 0.7227 - recall: 0.4366  \n",
      "WARNING:tensorflow:Early stopping conditioned on metric `val_loss` which is not available. Available metrics are: loss,accuracy,precision,recall\n",
      "Epoch 56/100\n",
      "101/101 [==============================] - 0s 1ms/step - loss: 0.1221 - accuracy: 0.9480 - precision: 0.7807 - recall: 0.4704  \n",
      "WARNING:tensorflow:Early stopping conditioned on metric `val_loss` which is not available. Available metrics are: loss,accuracy,precision,recall\n",
      "Epoch 57/100\n",
      "101/101 [==============================] - 0s 1ms/step - loss: 0.1236 - accuracy: 0.9478 - precision: 0.8214 - recall: 0.4488   \n",
      "WARNING:tensorflow:Early stopping conditioned on metric `val_loss` which is not available. Available metrics are: loss,accuracy,precision,recall\n",
      "Epoch 58/100\n",
      "101/101 [==============================] - 0s 1ms/step - loss: 0.1187 - accuracy: 0.9491 - precision: 0.7784 - recall: 0.4816\n",
      "WARNING:tensorflow:Early stopping conditioned on metric `val_loss` which is not available. Available metrics are: loss,accuracy,precision,recall\n",
      "Epoch 59/100\n",
      "101/101 [==============================] - 0s 1ms/step - loss: 0.1122 - accuracy: 0.9513 - precision: 0.7530 - recall: 0.5531\n",
      "WARNING:tensorflow:Early stopping conditioned on metric `val_loss` which is not available. Available metrics are: loss,accuracy,precision,recall\n",
      "Epoch 60/100\n",
      "101/101 [==============================] - 0s 1ms/step - loss: 0.1165 - accuracy: 0.9541 - precision: 0.8329 - recall: 0.5657\n",
      "WARNING:tensorflow:Early stopping conditioned on metric `val_loss` which is not available. Available metrics are: loss,accuracy,precision,recall\n",
      "Epoch 61/100\n",
      "101/101 [==============================] - 0s 1ms/step - loss: 0.1209 - accuracy: 0.9451 - precision: 0.7382 - recall: 0.4397  \n",
      "WARNING:tensorflow:Early stopping conditioned on metric `val_loss` which is not available. Available metrics are: loss,accuracy,precision,recall\n",
      "Epoch 62/100\n",
      "101/101 [==============================] - 0s 1ms/step - loss: 0.1120 - accuracy: 0.9545 - precision: 0.8096 - recall: 0.4939  \n",
      "WARNING:tensorflow:Early stopping conditioned on metric `val_loss` which is not available. Available metrics are: loss,accuracy,precision,recall\n",
      "Epoch 63/100\n",
      "101/101 [==============================] - 0s 1ms/step - loss: 0.1036 - accuracy: 0.9599 - precision: 0.8337 - recall: 0.5953\n",
      "WARNING:tensorflow:Early stopping conditioned on metric `val_loss` which is not available. Available metrics are: loss,accuracy,precision,recall\n",
      "Epoch 64/100\n",
      "101/101 [==============================] - 0s 1ms/step - loss: 0.1226 - accuracy: 0.9426 - precision: 0.7715 - recall: 0.4375\n",
      "WARNING:tensorflow:Early stopping conditioned on metric `val_loss` which is not available. Available metrics are: loss,accuracy,precision,recall\n",
      "Epoch 65/100\n",
      "101/101 [==============================] - 0s 1ms/step - loss: 0.1229 - accuracy: 0.9475 - precision: 0.8002 - recall: 0.5487\n",
      "WARNING:tensorflow:Early stopping conditioned on metric `val_loss` which is not available. Available metrics are: loss,accuracy,precision,recall\n",
      "Epoch 66/100\n",
      "101/101 [==============================] - 0s 1ms/step - loss: 0.1161 - accuracy: 0.9502 - precision: 0.7872 - recall: 0.5335\n",
      "WARNING:tensorflow:Early stopping conditioned on metric `val_loss` which is not available. Available metrics are: loss,accuracy,precision,recall\n",
      "Epoch 67/100\n",
      "101/101 [==============================] - 0s 1ms/step - loss: 0.1213 - accuracy: 0.9455 - precision: 0.7632 - recall: 0.4536  \n",
      "WARNING:tensorflow:Early stopping conditioned on metric `val_loss` which is not available. Available metrics are: loss,accuracy,precision,recall\n",
      "Epoch 68/100\n",
      "101/101 [==============================] - 0s 1ms/step - loss: 0.1220 - accuracy: 0.9529 - precision: 0.8007 - recall: 0.6074\n",
      "WARNING:tensorflow:Early stopping conditioned on metric `val_loss` which is not available. Available metrics are: loss,accuracy,precision,recall\n",
      "Epoch 69/100\n",
      "101/101 [==============================] - 0s 1ms/step - loss: 0.1078 - accuracy: 0.9527 - precision: 0.8142 - recall: 0.5123  \n",
      "WARNING:tensorflow:Early stopping conditioned on metric `val_loss` which is not available. Available metrics are: loss,accuracy,precision,recall\n",
      "Epoch 70/100\n",
      "101/101 [==============================] - 0s 1ms/step - loss: 0.1068 - accuracy: 0.9561 - precision: 0.7955 - recall: 0.5742   \n",
      "WARNING:tensorflow:Early stopping conditioned on metric `val_loss` which is not available. Available metrics are: loss,accuracy,precision,recall\n",
      "Epoch 71/100\n",
      "101/101 [==============================] - 0s 1ms/step - loss: 0.1109 - accuracy: 0.9470 - precision: 0.7399 - recall: 0.4570\n",
      "WARNING:tensorflow:Early stopping conditioned on metric `val_loss` which is not available. Available metrics are: loss,accuracy,precision,recall\n",
      "Epoch 72/100\n",
      "101/101 [==============================] - 0s 1ms/step - loss: 0.1086 - accuracy: 0.9595 - precision: 0.8285 - recall: 0.6170\n",
      "WARNING:tensorflow:Early stopping conditioned on metric `val_loss` which is not available. Available metrics are: loss,accuracy,precision,recall\n",
      "Epoch 73/100\n",
      "101/101 [==============================] - 0s 1ms/step - loss: 0.1136 - accuracy: 0.9477 - precision: 0.7917 - recall: 0.5385\n",
      "WARNING:tensorflow:Early stopping conditioned on metric `val_loss` which is not available. Available metrics are: loss,accuracy,precision,recall\n",
      "Epoch 74/100\n",
      "101/101 [==============================] - 0s 1ms/step - loss: 0.1001 - accuracy: 0.9615 - precision: 0.8689 - recall: 0.5996\n",
      "WARNING:tensorflow:Early stopping conditioned on metric `val_loss` which is not available. Available metrics are: loss,accuracy,precision,recall\n",
      "Epoch 75/100\n",
      "101/101 [==============================] - 0s 1ms/step - loss: 0.1063 - accuracy: 0.9593 - precision: 0.8019 - recall: 0.6091  \n",
      "WARNING:tensorflow:Early stopping conditioned on metric `val_loss` which is not available. Available metrics are: loss,accuracy,precision,recall\n",
      "Epoch 76/100\n",
      "101/101 [==============================] - 0s 1ms/step - loss: 0.1101 - accuracy: 0.9491 - precision: 0.7746 - recall: 0.5788\n",
      "WARNING:tensorflow:Early stopping conditioned on metric `val_loss` which is not available. Available metrics are: loss,accuracy,precision,recall\n",
      "Epoch 77/100\n",
      "101/101 [==============================] - 0s 1ms/step - loss: 0.1045 - accuracy: 0.9556 - precision: 0.8263 - recall: 0.6383\n",
      "WARNING:tensorflow:Early stopping conditioned on metric `val_loss` which is not available. Available metrics are: loss,accuracy,precision,recall\n",
      "Epoch 78/100\n",
      "101/101 [==============================] - 0s 1ms/step - loss: 0.1066 - accuracy: 0.9581 - precision: 0.8611 - recall: 0.5924\n",
      "WARNING:tensorflow:Early stopping conditioned on metric `val_loss` which is not available. Available metrics are: loss,accuracy,precision,recall\n",
      "Epoch 79/100\n",
      "101/101 [==============================] - 0s 1ms/step - loss: 0.0996 - accuracy: 0.9532 - precision: 0.7965 - recall: 0.6469\n",
      "WARNING:tensorflow:Early stopping conditioned on metric `val_loss` which is not available. Available metrics are: loss,accuracy,precision,recall\n",
      "Epoch 80/100\n",
      "101/101 [==============================] - 0s 1ms/step - loss: 0.1007 - accuracy: 0.9573 - precision: 0.7398 - recall: 0.5338  \n",
      "WARNING:tensorflow:Early stopping conditioned on metric `val_loss` which is not available. Available metrics are: loss,accuracy,precision,recall\n",
      "Epoch 81/100\n",
      "101/101 [==============================] - 0s 1ms/step - loss: 0.0920 - accuracy: 0.9625 - precision: 0.8523 - recall: 0.6699\n",
      "WARNING:tensorflow:Early stopping conditioned on metric `val_loss` which is not available. Available metrics are: loss,accuracy,precision,recall\n",
      "Epoch 82/100\n",
      "101/101 [==============================] - 0s 1ms/step - loss: 0.0899 - accuracy: 0.9606 - precision: 0.7571 - recall: 0.5959  \n",
      "WARNING:tensorflow:Early stopping conditioned on metric `val_loss` which is not available. Available metrics are: loss,accuracy,precision,recall\n",
      "Epoch 83/100\n",
      "101/101 [==============================] - 0s 1ms/step - loss: 0.1045 - accuracy: 0.9570 - precision: 0.7756 - recall: 0.6335\n",
      "WARNING:tensorflow:Early stopping conditioned on metric `val_loss` which is not available. Available metrics are: loss,accuracy,precision,recall\n",
      "Epoch 84/100\n",
      "101/101 [==============================] - 0s 1ms/step - loss: 0.1003 - accuracy: 0.9620 - precision: 0.8366 - recall: 0.6155  \n",
      "WARNING:tensorflow:Early stopping conditioned on metric `val_loss` which is not available. Available metrics are: loss,accuracy,precision,recall\n",
      "Epoch 85/100\n",
      "101/101 [==============================] - 0s 1ms/step - loss: 0.0929 - accuracy: 0.9669 - precision: 0.8947 - recall: 0.6790\n",
      "WARNING:tensorflow:Early stopping conditioned on metric `val_loss` which is not available. Available metrics are: loss,accuracy,precision,recall\n",
      "Epoch 86/100\n",
      "101/101 [==============================] - 0s 1ms/step - loss: 0.0910 - accuracy: 0.9631 - precision: 0.8434 - recall: 0.6454\n",
      "WARNING:tensorflow:Early stopping conditioned on metric `val_loss` which is not available. Available metrics are: loss,accuracy,precision,recall\n",
      "Epoch 87/100\n",
      "101/101 [==============================] - 0s 1ms/step - loss: 0.0927 - accuracy: 0.9592 - precision: 0.8105 - recall: 0.6137  \n",
      "WARNING:tensorflow:Early stopping conditioned on metric `val_loss` which is not available. Available metrics are: loss,accuracy,precision,recall\n",
      "Epoch 88/100\n",
      "101/101 [==============================] - 0s 1ms/step - loss: 0.1007 - accuracy: 0.9570 - precision: 0.7888 - recall: 0.6517\n",
      "WARNING:tensorflow:Early stopping conditioned on metric `val_loss` which is not available. Available metrics are: loss,accuracy,precision,recall\n",
      "Epoch 89/100\n",
      "101/101 [==============================] - 0s 1ms/step - loss: 0.0990 - accuracy: 0.9587 - precision: 0.7982 - recall: 0.6061\n",
      "WARNING:tensorflow:Early stopping conditioned on metric `val_loss` which is not available. Available metrics are: loss,accuracy,precision,recall\n",
      "Epoch 90/100\n",
      "101/101 [==============================] - 0s 1ms/step - loss: 0.0863 - accuracy: 0.9657 - precision: 0.8746 - recall: 0.6558  \n",
      "WARNING:tensorflow:Early stopping conditioned on metric `val_loss` which is not available. Available metrics are: loss,accuracy,precision,recall\n",
      "Epoch 91/100\n",
      "101/101 [==============================] - 0s 1ms/step - loss: 0.0914 - accuracy: 0.9645 - precision: 0.8282 - recall: 0.6587\n",
      "WARNING:tensorflow:Early stopping conditioned on metric `val_loss` which is not available. Available metrics are: loss,accuracy,precision,recall\n",
      "Epoch 92/100\n",
      "101/101 [==============================] - 0s 1ms/step - loss: 0.0938 - accuracy: 0.9603 - precision: 0.7927 - recall: 0.6883\n",
      "WARNING:tensorflow:Early stopping conditioned on metric `val_loss` which is not available. Available metrics are: loss,accuracy,precision,recall\n",
      "Epoch 93/100\n",
      "101/101 [==============================] - 0s 1ms/step - loss: 0.0968 - accuracy: 0.9605 - precision: 0.8321 - recall: 0.6462\n",
      "WARNING:tensorflow:Early stopping conditioned on metric `val_loss` which is not available. Available metrics are: loss,accuracy,precision,recall\n",
      "Epoch 94/100\n",
      "101/101 [==============================] - 0s 1ms/step - loss: 0.0913 - accuracy: 0.9668 - precision: 0.8526 - recall: 0.6833\n",
      "WARNING:tensorflow:Early stopping conditioned on metric `val_loss` which is not available. Available metrics are: loss,accuracy,precision,recall\n",
      "Epoch 95/100\n",
      "101/101 [==============================] - 0s 1ms/step - loss: 0.0757 - accuracy: 0.9720 - precision: 0.8948 - recall: 0.7422\n",
      "WARNING:tensorflow:Early stopping conditioned on metric `val_loss` which is not available. Available metrics are: loss,accuracy,precision,recall\n",
      "Epoch 96/100\n",
      "101/101 [==============================] - 0s 1ms/step - loss: 0.0973 - accuracy: 0.9577 - precision: 0.8391 - recall: 0.6136\n",
      "WARNING:tensorflow:Early stopping conditioned on metric `val_loss` which is not available. Available metrics are: loss,accuracy,precision,recall\n",
      "Epoch 97/100\n",
      "101/101 [==============================] - 0s 2ms/step - loss: 0.0867 - accuracy: 0.9644 - precision: 0.8413 - recall: 0.6393\n",
      "WARNING:tensorflow:Early stopping conditioned on metric `val_loss` which is not available. Available metrics are: loss,accuracy,precision,recall\n",
      "Epoch 98/100\n",
      "101/101 [==============================] - 0s 1ms/step - loss: 0.0838 - accuracy: 0.9669 - precision: 0.8403 - recall: 0.6740  \n",
      "WARNING:tensorflow:Early stopping conditioned on metric `val_loss` which is not available. Available metrics are: loss,accuracy,precision,recall\n",
      "Epoch 99/100\n",
      "101/101 [==============================] - 0s 1ms/step - loss: 0.0801 - accuracy: 0.9702 - precision: 0.8979 - recall: 0.6914\n",
      "WARNING:tensorflow:Early stopping conditioned on metric `val_loss` which is not available. Available metrics are: loss,accuracy,precision,recall\n",
      "Epoch 100/100\n",
      "101/101 [==============================] - 0s 1ms/step - loss: 0.0907 - accuracy: 0.9677 - precision: 0.8795 - recall: 0.6864\n",
      "WARNING:tensorflow:Early stopping conditioned on metric `val_loss` which is not available. Available metrics are: loss,accuracy,precision,recall\n"
     ]
    },
    {
     "data": {
      "text/plain": [
       "Pipeline(memory=None,\n",
       "         steps=[('featureunion',\n",
       "                 FeatureUnion(n_jobs=None,\n",
       "                              transformer_list=[('pipeline-1',\n",
       "                                                 Pipeline(memory=None,\n",
       "                                                          steps=[('dtypeselector',\n",
       "                                                                  DTypeSelector(dtypes='number')),\n",
       "                                                                 ('simpleimputer',\n",
       "                                                                  SimpleImputer(add_indicator=False,\n",
       "                                                                                copy=True,\n",
       "                                                                                fill_value=None,\n",
       "                                                                                missing_values=nan,\n",
       "                                                                                strategy='mean',\n",
       "                                                                                verbose=0)),\n",
       "                                                                 ('standardscaler',\n",
       "                                                                  StandardScaler(copy=True,\n",
       "                                                                                 with_...\n",
       "                                                                                verbose=0)),\n",
       "                                                                 ('onehotencoder',\n",
       "                                                                  OneHotEncoder(categorical_features=None,\n",
       "                                                                                categories=None,\n",
       "                                                                                drop=None,\n",
       "                                                                                dtype=<class 'numpy.float64'>,\n",
       "                                                                                handle_unknown='error',\n",
       "                                                                                n_values=None,\n",
       "                                                                                sparse=True))],\n",
       "                                                          verbose=False))],\n",
       "                              transformer_weights=None, verbose=False)),\n",
       "                ('kerasclassifier',\n",
       "                 <tensorflow.python.keras.wrappers.scikit_learn.KerasClassifier object at 0x1860d16d8>)],\n",
       "         verbose=False)"
      ]
     },
     "execution_count": 187,
     "metadata": {},
     "output_type": "execute_result"
    }
   ],
   "source": [
    "pipeline.fit(X_train, y_train)"
   ]
  },
  {
   "cell_type": "code",
   "execution_count": 188,
   "id": "3c013937-45c2-4491-81cb-b458703de44f",
   "metadata": {},
   "outputs": [
    {
     "name": "stdout",
     "output_type": "stream",
     "text": [
      "50/50 [==============================] - 0s 616us/step\n",
      "101/101 [==============================] - 0s 640us/step\n"
     ]
    }
   ],
   "source": [
    "y_preds = pipeline.predict(X_test)\n",
    "y_preds_training = pipeline.predict(X_train)"
   ]
  },
  {
   "cell_type": "code",
   "execution_count": 189,
   "id": "8b073c40-cad8-4b31-bdf3-ca4a6e2fbaeb",
   "metadata": {},
   "outputs": [
    {
     "name": "stdout",
     "output_type": "stream",
     "text": [
      "              precision    recall  f1-score   support\n",
      "\n",
      "          No       0.98      1.00      0.99      2950\n",
      "         Yes       0.95      0.74      0.83       256\n",
      "\n",
      "    accuracy                           0.98      3206\n",
      "   macro avg       0.96      0.87      0.91      3206\n",
      "weighted avg       0.98      0.98      0.97      3206\n",
      "\n"
     ]
    }
   ],
   "source": [
    "print(classification_report(y_train, y_preds_training))"
   ]
  },
  {
   "cell_type": "code",
   "execution_count": 190,
   "id": "a667dc6a-fa4f-4b68-82c6-eff28c5b9750",
   "metadata": {},
   "outputs": [
    {
     "name": "stdout",
     "output_type": "stream",
     "text": [
      "              precision    recall  f1-score   support\n",
      "\n",
      "          No       0.93      0.98      0.95      1449\n",
      "         Yes       0.33      0.14      0.19       131\n",
      "\n",
      "    accuracy                           0.91      1580\n",
      "   macro avg       0.63      0.56      0.57      1580\n",
      "weighted avg       0.88      0.91      0.89      1580\n",
      "\n"
     ]
    }
   ],
   "source": [
    "print(classification_report(y_test, y_preds))"
   ]
  },
  {
   "cell_type": "markdown",
   "id": "42bc477a-3e5d-464c-8243-6c39eea03a76",
   "metadata": {},
   "source": [
    "-----"
   ]
  }
 ],
 "metadata": {
  "kernelspec": {
   "display_name": "Python 3",
   "language": "python",
   "name": "python3"
  },
  "language_info": {
   "codemirror_mode": {
    "name": "ipython",
    "version": 3
   },
   "file_extension": ".py",
   "mimetype": "text/x-python",
   "name": "python",
   "nbconvert_exporter": "python",
   "pygments_lexer": "ipython3",
   "version": "3.7.3"
  }
 },
 "nbformat": 4,
 "nbformat_minor": 5
}
